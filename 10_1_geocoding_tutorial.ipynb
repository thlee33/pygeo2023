{
 "cells": [
  {
   "cell_type": "markdown",
   "metadata": {},
   "source": [
    "## 지오코딩(geocoding)\n",
    "주소를 이용해서 좌표 속성 또는 포인트 geometry를 구하는 기법을 말합니다.  \n",
    "주소 외에도 지명, 도로명, 우편번호, 행정구역명 등도 포함시켜 볼 수 있습니다. \n",
    "\n",
    "https://developers.google.com/maps/documentation/geocoding/start "
   ]
  },
  {
   "cell_type": "markdown",
   "metadata": {},
   "source": [
    "미리 말씀드렸던 Naver Geocoding API 신청이 필요합니다.     \n",
    "https://wooiljeong.github.io/python/geocoding/             # 네이버 지오코딩 API 이용 관련 최신 블로그   \n",
    "https://www.ncloud.com/product/applicationService/maps     # Maps API 홈페이지     \n",
    "https://console.ncloud.com/naver-service/application       # Naver Cloud Platform - Application 정보 확인 페이지  "
   ]
  },
  {
   "cell_type": "markdown",
   "metadata": {},
   "source": [
    "### 패키지 불러오기"
   ]
  },
  {
   "cell_type": "code",
   "execution_count": 1,
   "metadata": {},
   "outputs": [
    {
     "name": "stderr",
     "output_type": "stream",
     "text": [
      "c:\\Users\\thlee\\AppData\\Local\\Programs\\Python\\Python39\\lib\\site-packages\\geopandas\\_compat.py:123: UserWarning: The Shapely GEOS version (3.10.1-CAPI-1.16.0) is incompatible with the GEOS version PyGEOS was compiled with (3.10.3-CAPI-1.16.1). Conversions between both will be slow.\n",
      "  warnings.warn(\n"
     ]
    }
   ],
   "source": [
    "import pandas as pd\n",
    "import geopandas as gpd"
   ]
  },
  {
   "cell_type": "markdown",
   "metadata": {},
   "source": [
    "### 데이터 로딩"
   ]
  },
  {
   "cell_type": "code",
   "execution_count": 33,
   "metadata": {},
   "outputs": [
    {
     "data": {
      "text/html": [
       "<div>\n",
       "<style scoped>\n",
       "    .dataframe tbody tr th:only-of-type {\n",
       "        vertical-align: middle;\n",
       "    }\n",
       "\n",
       "    .dataframe tbody tr th {\n",
       "        vertical-align: top;\n",
       "    }\n",
       "\n",
       "    .dataframe thead th {\n",
       "        text-align: right;\n",
       "    }\n",
       "</style>\n",
       "<table border=\"1\" class=\"dataframe\">\n",
       "  <thead>\n",
       "    <tr style=\"text-align: right;\">\n",
       "      <th></th>\n",
       "      <th>admin_nm</th>\n",
       "      <th>addr_rd</th>\n",
       "      <th>addr_jb</th>\n",
       "      <th>purpose</th>\n",
       "      <th>cctv_cnt</th>\n",
       "      <th>pixel</th>\n",
       "      <th>direction</th>\n",
       "      <th>period</th>\n",
       "      <th>date_install</th>\n",
       "      <th>tel</th>\n",
       "      <th>lat</th>\n",
       "      <th>lon</th>\n",
       "      <th>date_make</th>\n",
       "      <th>offer_admin_cd</th>\n",
       "      <th>offer_admin_nm</th>\n",
       "    </tr>\n",
       "  </thead>\n",
       "  <tbody>\n",
       "    <tr>\n",
       "      <th>0</th>\n",
       "      <td>경상남도 김해시청</td>\n",
       "      <td>NaN</td>\n",
       "      <td>경상남도 김해시 구산동 1072-19</td>\n",
       "      <td>생활방범</td>\n",
       "      <td>3</td>\n",
       "      <td>200</td>\n",
       "      <td>현대병원뒤</td>\n",
       "      <td>30</td>\n",
       "      <td>2019-11</td>\n",
       "      <td>055-330-4741</td>\n",
       "      <td>35.249247</td>\n",
       "      <td>128.871639</td>\n",
       "      <td>2019-06-26</td>\n",
       "      <td>5350000</td>\n",
       "      <td>경상남도 김해시</td>\n",
       "    </tr>\n",
       "    <tr>\n",
       "      <th>1</th>\n",
       "      <td>경상남도 김해시청</td>\n",
       "      <td>NaN</td>\n",
       "      <td>경상남도 김해시 구산동 305-15</td>\n",
       "      <td>생활방범</td>\n",
       "      <td>2</td>\n",
       "      <td>200</td>\n",
       "      <td>목화골공원</td>\n",
       "      <td>30</td>\n",
       "      <td>2019-12</td>\n",
       "      <td>055-330-4741</td>\n",
       "      <td>35.247411</td>\n",
       "      <td>128.873605</td>\n",
       "      <td>2019-06-26</td>\n",
       "      <td>5350000</td>\n",
       "      <td>경상남도 김해시</td>\n",
       "    </tr>\n",
       "    <tr>\n",
       "      <th>2</th>\n",
       "      <td>경상남도 김해시청</td>\n",
       "      <td>NaN</td>\n",
       "      <td>경상남도 김해시 삼계동 1484-14</td>\n",
       "      <td>생활방범</td>\n",
       "      <td>2</td>\n",
       "      <td>200</td>\n",
       "      <td>정원빌라</td>\n",
       "      <td>30</td>\n",
       "      <td>2019-06</td>\n",
       "      <td>055-330-4741</td>\n",
       "      <td>35.261728</td>\n",
       "      <td>128.874144</td>\n",
       "      <td>2019-06-26</td>\n",
       "      <td>5350000</td>\n",
       "      <td>경상남도 김해시</td>\n",
       "    </tr>\n",
       "    <tr>\n",
       "      <th>3</th>\n",
       "      <td>경상남도 김해시청</td>\n",
       "      <td>NaN</td>\n",
       "      <td>경상남도 김해시 구산동 1043</td>\n",
       "      <td>생활방범</td>\n",
       "      <td>4</td>\n",
       "      <td>200</td>\n",
       "      <td>최가아구찜</td>\n",
       "      <td>30</td>\n",
       "      <td>2019-05</td>\n",
       "      <td>055-330-4741</td>\n",
       "      <td>35.247076</td>\n",
       "      <td>128.872461</td>\n",
       "      <td>2019-06-26</td>\n",
       "      <td>5350000</td>\n",
       "      <td>경상남도 김해시</td>\n",
       "    </tr>\n",
       "    <tr>\n",
       "      <th>4</th>\n",
       "      <td>경상남도 김해시청</td>\n",
       "      <td>NaN</td>\n",
       "      <td>경상남도 김해시 구산동 175-10</td>\n",
       "      <td>생활방범</td>\n",
       "      <td>2</td>\n",
       "      <td>200</td>\n",
       "      <td>동호맨션</td>\n",
       "      <td>30</td>\n",
       "      <td>2019-12</td>\n",
       "      <td>055-330-4741</td>\n",
       "      <td>35.241185</td>\n",
       "      <td>128.877334</td>\n",
       "      <td>2019-06-26</td>\n",
       "      <td>5350000</td>\n",
       "      <td>경상남도 김해시</td>\n",
       "    </tr>\n",
       "  </tbody>\n",
       "</table>\n",
       "</div>"
      ],
      "text/plain": [
       "    admin_nm addr_rd               addr_jb purpose cctv_cnt pixel direction  \\\n",
       "0  경상남도 김해시청     NaN  경상남도 김해시 구산동 1072-19    생활방범        3   200     현대병원뒤   \n",
       "1  경상남도 김해시청     NaN   경상남도 김해시 구산동 305-15    생활방범        2   200     목화골공원   \n",
       "2  경상남도 김해시청     NaN  경상남도 김해시 삼계동 1484-14    생활방범        2   200      정원빌라   \n",
       "3  경상남도 김해시청     NaN     경상남도 김해시 구산동 1043    생활방범        4   200     최가아구찜   \n",
       "4  경상남도 김해시청     NaN   경상남도 김해시 구산동 175-10    생활방범        2   200      동호맨션   \n",
       "\n",
       "  period date_install           tel        lat         lon   date_make  \\\n",
       "0     30      2019-11  055-330-4741  35.249247  128.871639  2019-06-26   \n",
       "1     30      2019-12  055-330-4741  35.247411  128.873605  2019-06-26   \n",
       "2     30      2019-06  055-330-4741  35.261728  128.874144  2019-06-26   \n",
       "3     30      2019-05  055-330-4741  35.247076  128.872461  2019-06-26   \n",
       "4     30      2019-12  055-330-4741  35.241185  128.877334  2019-06-26   \n",
       "\n",
       "  offer_admin_cd offer_admin_nm  \n",
       "0        5350000       경상남도 김해시  \n",
       "1        5350000       경상남도 김해시  \n",
       "2        5350000       경상남도 김해시  \n",
       "3        5350000       경상남도 김해시  \n",
       "4        5350000       경상남도 김해시  "
      ]
     },
     "execution_count": 33,
     "metadata": {},
     "output_type": "execute_result"
    }
   ],
   "source": [
    "# \"전국CCTV표준데이터\" CSV 파일 로딩 \n",
    "df_cctv = pd.read_csv('data/csv/전국CCTV표준데이터.csv', encoding=\"EUC-KR\", header=0, index_col=None,\n",
    "                           names=['admin_nm', 'addr_rd', 'addr_jb', 'purpose', 'cctv_cnt', 'pixel', 'direction', 'period', 'date_install', 'tel', 'lat', 'lon', 'date_make', 'offer_admin_cd', 'offer_admin_nm'], \n",
    "                           dtype={'cctv_cnt':object, 'pixel':object, 'period':object, 'lat':float, 'lon':float, 'offer_admin_cd':object}, \n",
    "                  thousands = ',', #천단위 쉼표 제거   \n",
    "                  nrows=100) # 1백건만\n",
    "df_cctv.head()"
   ]
  },
  {
   "cell_type": "code",
   "execution_count": 25,
   "metadata": {},
   "outputs": [
    {
     "data": {
      "text/plain": [
       "admin_nm           0\n",
       "addr_rd           71\n",
       "addr_jb            0\n",
       "purpose            0\n",
       "cctv_cnt           0\n",
       "pixel             14\n",
       "direction          0\n",
       "period             0\n",
       "date_install       2\n",
       "tel                0\n",
       "lat                0\n",
       "lon                0\n",
       "date_make          0\n",
       "offer_admin_cd     0\n",
       "offer_admin_nm     0\n",
       "dtype: int64"
      ]
     },
     "execution_count": 25,
     "metadata": {},
     "output_type": "execute_result"
    }
   ],
   "source": [
    "# cctv 데이터프레임의 항목별 결측치(null) 건수를 확인\n",
    "df_cctv.isnull().sum()"
   ]
  },
  {
   "cell_type": "code",
   "execution_count": 34,
   "metadata": {},
   "outputs": [],
   "source": [
    "# 지번주소에서 결측치를 제거 \n",
    "df_cctv.dropna(subset=['addr_jb'],axis=0,inplace=True)      # 지번주소 null 데이터 삭제 \n",
    "#df_cctv2 = df_cctv.loc[ df_cctv.notnull()['addr_jb'] , :]   # addr_jb 항목이 null 아닌 데이터만 추출해서 다른 데이터프레임으로 저장 "
   ]
  },
  {
   "cell_type": "markdown",
   "metadata": {},
   "source": [
    "## 이제 지오코딩을 해봅시다"
   ]
  },
  {
   "cell_type": "code",
   "execution_count": 9,
   "metadata": {},
   "outputs": [],
   "source": [
    "# 웹과 통신해서 지오코딩을 요청하고, 그 결과 데이터를 json으로 처리하기 위한 패키지 import \n",
    "import urllib       # 웹상의 데이터를 가져오는 등의 기능을 제공해주는 패키지 \n",
    "import json         # json 가공 처리 기능을 제공해주는 패키지 "
   ]
  },
  {
   "cell_type": "code",
   "execution_count": 10,
   "metadata": {},
   "outputs": [],
   "source": [
    "# 네이버 API 정보 읽기 \n",
    "# 저는 아래 경로의 텍스트 파일 1행에 api_id, 2행에 api_key를 넣어놨습니다. \n",
    "f = open('../../etc/naver.txt', 'r')\n",
    "lines = f.readlines()\n",
    "api_id = lines[0].replace(\"\\n\", \"\")\n",
    "api_key = lines[1].replace(\"\\n\", \"\")\n",
    "\n",
    "# 파일로 관리할 필요가 없는 분들은 아래와 같이 문자열 변수로 적용해 주시면 됩니다. \n",
    "# api_id = '아이디';    # 본인이 할당받은 ID 입력\n",
    "# api_key = '비밀번호';    # 본인이 할당받은 Secret 입력 "
   ]
  },
  {
   "cell_type": "code",
   "execution_count": 13,
   "metadata": {},
   "outputs": [],
   "source": [
    "# 네이버 지오코딩 API 기능을 search_map 함수로 생성 \n",
    "def search_map(search_text):\n",
    "    client_id = 'id'\n",
    "    client_secret = 'secret'\n",
    "    encText = urllib.parse.quote(str(search_text))\n",
    "    url = 'https://naveropenapi.apigw.ntruss.com/map-geocode/v2/geocode?query='+encText\n",
    "    request = urllib.request.Request(url)\n",
    "    request.add_header('X-NCP-APIGW-API-KEY-ID', api_id) \n",
    "    request.add_header('X-NCP-APIGW-API-KEY', api_key) \n",
    "    response = urllib.request.urlopen(request)\n",
    "    rescode = response.getcode()\n",
    "    if(rescode==200):\n",
    "        response_body = response.read()\n",
    "        #print(response_body.decode('utf-8'))\n",
    "        return response_body.decode('utf-8')\n",
    "    else:\n",
    "        print(\"Error Code:\" + rescode)"
   ]
  },
  {
   "cell_type": "code",
   "execution_count": 14,
   "metadata": {},
   "outputs": [
    {
     "name": "stdout",
     "output_type": "stream",
     "text": [
      "126.9748377 37.5864576\n"
     ]
    }
   ],
   "source": [
    "# 단 건 테스트 - 자기 집 주소를 넣어서 좌표가 제대로 나오는지 확인해 보십시오\n",
    "x = []\n",
    "y = []\n",
    "\n",
    "temp_map = search_map('서울특별시 종로구 청와대로 1')  #NAVER search_map 함수 실행\n",
    "temp_map = json.loads(temp_map)\n",
    "try:\n",
    "    #print(temp_map)\n",
    "    temp_map = temp_map['addresses'][0]\n",
    "    x = temp_map['x']\n",
    "    y = temp_map['y']\n",
    "except IndexError:\n",
    "    pass\n",
    "\n",
    "print(x, y)"
   ]
  },
  {
   "cell_type": "code",
   "execution_count": 16,
   "metadata": {},
   "outputs": [],
   "source": [
    "# 위의 결과로 나온 경도, 위도 좌표를 아래의 x, y 파라미터에 넣어서 웹브라우저에서 확인해 보십시오     \n",
    "# https://epsg.io/map#srs=4326&x=126.974838&y=37.586458&z=17&layer=streets "
   ]
  },
  {
   "cell_type": "markdown",
   "metadata": {},
   "source": [
    "## 이제 데이터프레임의 여러 건의 주소를 지오코딩해봅시다"
   ]
  },
  {
   "cell_type": "code",
   "execution_count": 22,
   "metadata": {},
   "outputs": [],
   "source": [
    "# 다수의 지오코딩 결과가 cell output로 계속 나오는 것을 막을 수 있게 해주는 패키지입니다. \n",
    "# !pip install etils  #No module named 'etils' 에러나는 분은 왼쪽의 패키지 설치 구문을 주석 해제해서 설치하고 import 해주세요\n",
    "from etils import ecolab  #cell output 숨기기"
   ]
  },
  {
   "cell_type": "code",
   "execution_count": 35,
   "metadata": {},
   "outputs": [
    {
     "name": "stdout",
     "output_type": "stream",
     "text": [
      "100\n"
     ]
    }
   ],
   "source": [
    "x1 = []     #지오코딩 결과의 경도 좌표를 받을 리스트 \n",
    "y1 = []     #지오코딩 결과의 위도 좌표를 받을 리스트 \n",
    "length_df = len(df_cctv)  #데이터 건수를 변수에 받음 - 아래의 반복문을 돌리기 위한 용도\n",
    "print(length_df)"
   ]
  },
  {
   "cell_type": "code",
   "execution_count": 36,
   "metadata": {},
   "outputs": [
    {
     "data": {
      "text/html": [
       "<details><summary></summary><pre><code></code></pre></details>"
      ],
      "text/plain": [
       "<IPython.core.display.HTML object>"
      ]
     },
     "metadata": {},
     "output_type": "display_data"
    }
   ],
   "source": [
    "# 데이터프레임 행수만큼 읽으면서 addr 항목의 주소를 Naver API로 돌려서 좌표값을 받아 리스트에 추가  \n",
    "with ecolab.collapse(): \n",
    "\n",
    "    for i in range(length_df):              #데이터의 건수\n",
    "        addr = df_cctv.iloc[i]['addr_jb']   #데이터프레임과 항목(컬럼) 지정 \n",
    "        #print(addr)\n",
    "        #print(i)\n",
    "        temp_map = search_map(addr)  #NAVER search_map 함수 실행\n",
    "        temp_map = json.loads(temp_map)\n",
    "        try:\n",
    "            #print(temp_map)\n",
    "            temp_map = temp_map['addresses'][0]\n",
    "            x = temp_map['x']\n",
    "            y = temp_map['y']\n",
    "            x1.append(x)\n",
    "            y1.append(y)    \n",
    "        except:\n",
    "            x1.append(0)\n",
    "            y1.append(0)   "
   ]
  },
  {
   "cell_type": "code",
   "execution_count": 37,
   "metadata": {},
   "outputs": [],
   "source": [
    "# 좌표 리스트 값을 원래의 데이터프레임의 lon, lat 항목에 넣어줌 \n",
    "df_cctv['lon2'] = x1\n",
    "df_cctv['lat2'] = y1"
   ]
  },
  {
   "cell_type": "code",
   "execution_count": 39,
   "metadata": {},
   "outputs": [
    {
     "name": "stdout",
     "output_type": "stream",
     "text": [
      "<class 'pandas.core.frame.DataFrame'>\n",
      "RangeIndex: 100 entries, 0 to 99\n",
      "Data columns (total 17 columns):\n",
      " #   Column          Non-Null Count  Dtype  \n",
      "---  ------          --------------  -----  \n",
      " 0   admin_nm        100 non-null    object \n",
      " 1   addr_rd         29 non-null     object \n",
      " 2   addr_jb         100 non-null    object \n",
      " 3   purpose         100 non-null    object \n",
      " 4   cctv_cnt        100 non-null    object \n",
      " 5   pixel           86 non-null     object \n",
      " 6   direction       100 non-null    object \n",
      " 7   period          100 non-null    object \n",
      " 8   date_install    98 non-null     object \n",
      " 9   tel             100 non-null    object \n",
      " 10  lat             100 non-null    float64\n",
      " 11  lon             100 non-null    float64\n",
      " 12  date_make       100 non-null    object \n",
      " 13  offer_admin_cd  100 non-null    object \n",
      " 14  offer_admin_nm  100 non-null    object \n",
      " 15  lon2            100 non-null    object \n",
      " 16  lat2            100 non-null    object \n",
      "dtypes: float64(2), object(15)\n",
      "memory usage: 13.4+ KB\n"
     ]
    },
    {
     "data": {
      "text/html": [
       "<div>\n",
       "<style scoped>\n",
       "    .dataframe tbody tr th:only-of-type {\n",
       "        vertical-align: middle;\n",
       "    }\n",
       "\n",
       "    .dataframe tbody tr th {\n",
       "        vertical-align: top;\n",
       "    }\n",
       "\n",
       "    .dataframe thead th {\n",
       "        text-align: right;\n",
       "    }\n",
       "</style>\n",
       "<table border=\"1\" class=\"dataframe\">\n",
       "  <thead>\n",
       "    <tr style=\"text-align: right;\">\n",
       "      <th></th>\n",
       "      <th>admin_nm</th>\n",
       "      <th>addr_rd</th>\n",
       "      <th>addr_jb</th>\n",
       "      <th>purpose</th>\n",
       "      <th>cctv_cnt</th>\n",
       "      <th>pixel</th>\n",
       "      <th>direction</th>\n",
       "      <th>period</th>\n",
       "      <th>date_install</th>\n",
       "      <th>tel</th>\n",
       "      <th>lat</th>\n",
       "      <th>lon</th>\n",
       "      <th>date_make</th>\n",
       "      <th>offer_admin_cd</th>\n",
       "      <th>offer_admin_nm</th>\n",
       "      <th>lon2</th>\n",
       "      <th>lat2</th>\n",
       "    </tr>\n",
       "  </thead>\n",
       "  <tbody>\n",
       "    <tr>\n",
       "      <th>0</th>\n",
       "      <td>경상남도 김해시청</td>\n",
       "      <td>NaN</td>\n",
       "      <td>경상남도 김해시 구산동 1072-19</td>\n",
       "      <td>생활방범</td>\n",
       "      <td>3</td>\n",
       "      <td>200</td>\n",
       "      <td>현대병원뒤</td>\n",
       "      <td>30</td>\n",
       "      <td>2019-11</td>\n",
       "      <td>055-330-4741</td>\n",
       "      <td>35.249247</td>\n",
       "      <td>128.871639</td>\n",
       "      <td>2019-06-26</td>\n",
       "      <td>5350000</td>\n",
       "      <td>경상남도 김해시</td>\n",
       "      <td>128.8716256</td>\n",
       "      <td>35.2496502</td>\n",
       "    </tr>\n",
       "    <tr>\n",
       "      <th>1</th>\n",
       "      <td>경상남도 김해시청</td>\n",
       "      <td>NaN</td>\n",
       "      <td>경상남도 김해시 구산동 305-15</td>\n",
       "      <td>생활방범</td>\n",
       "      <td>2</td>\n",
       "      <td>200</td>\n",
       "      <td>목화골공원</td>\n",
       "      <td>30</td>\n",
       "      <td>2019-12</td>\n",
       "      <td>055-330-4741</td>\n",
       "      <td>35.247411</td>\n",
       "      <td>128.873605</td>\n",
       "      <td>2019-06-26</td>\n",
       "      <td>5350000</td>\n",
       "      <td>경상남도 김해시</td>\n",
       "      <td>128.8734019</td>\n",
       "      <td>35.2473902</td>\n",
       "    </tr>\n",
       "    <tr>\n",
       "      <th>2</th>\n",
       "      <td>경상남도 김해시청</td>\n",
       "      <td>NaN</td>\n",
       "      <td>경상남도 김해시 삼계동 1484-14</td>\n",
       "      <td>생활방범</td>\n",
       "      <td>2</td>\n",
       "      <td>200</td>\n",
       "      <td>정원빌라</td>\n",
       "      <td>30</td>\n",
       "      <td>2019-06</td>\n",
       "      <td>055-330-4741</td>\n",
       "      <td>35.261728</td>\n",
       "      <td>128.874144</td>\n",
       "      <td>2019-06-26</td>\n",
       "      <td>5350000</td>\n",
       "      <td>경상남도 김해시</td>\n",
       "      <td>128.8741368</td>\n",
       "      <td>35.2618309</td>\n",
       "    </tr>\n",
       "    <tr>\n",
       "      <th>3</th>\n",
       "      <td>경상남도 김해시청</td>\n",
       "      <td>NaN</td>\n",
       "      <td>경상남도 김해시 구산동 1043</td>\n",
       "      <td>생활방범</td>\n",
       "      <td>4</td>\n",
       "      <td>200</td>\n",
       "      <td>최가아구찜</td>\n",
       "      <td>30</td>\n",
       "      <td>2019-05</td>\n",
       "      <td>055-330-4741</td>\n",
       "      <td>35.247076</td>\n",
       "      <td>128.872461</td>\n",
       "      <td>2019-06-26</td>\n",
       "      <td>5350000</td>\n",
       "      <td>경상남도 김해시</td>\n",
       "      <td>128.8718889</td>\n",
       "      <td>35.2464445</td>\n",
       "    </tr>\n",
       "    <tr>\n",
       "      <th>4</th>\n",
       "      <td>경상남도 김해시청</td>\n",
       "      <td>NaN</td>\n",
       "      <td>경상남도 김해시 구산동 175-10</td>\n",
       "      <td>생활방범</td>\n",
       "      <td>2</td>\n",
       "      <td>200</td>\n",
       "      <td>동호맨션</td>\n",
       "      <td>30</td>\n",
       "      <td>2019-12</td>\n",
       "      <td>055-330-4741</td>\n",
       "      <td>35.241185</td>\n",
       "      <td>128.877334</td>\n",
       "      <td>2019-06-26</td>\n",
       "      <td>5350000</td>\n",
       "      <td>경상남도 김해시</td>\n",
       "      <td>128.8773246</td>\n",
       "      <td>35.2411248</td>\n",
       "    </tr>\n",
       "  </tbody>\n",
       "</table>\n",
       "</div>"
      ],
      "text/plain": [
       "    admin_nm addr_rd               addr_jb purpose cctv_cnt pixel direction  \\\n",
       "0  경상남도 김해시청     NaN  경상남도 김해시 구산동 1072-19    생활방범        3   200     현대병원뒤   \n",
       "1  경상남도 김해시청     NaN   경상남도 김해시 구산동 305-15    생활방범        2   200     목화골공원   \n",
       "2  경상남도 김해시청     NaN  경상남도 김해시 삼계동 1484-14    생활방범        2   200      정원빌라   \n",
       "3  경상남도 김해시청     NaN     경상남도 김해시 구산동 1043    생활방범        4   200     최가아구찜   \n",
       "4  경상남도 김해시청     NaN   경상남도 김해시 구산동 175-10    생활방범        2   200      동호맨션   \n",
       "\n",
       "  period date_install           tel        lat         lon   date_make  \\\n",
       "0     30      2019-11  055-330-4741  35.249247  128.871639  2019-06-26   \n",
       "1     30      2019-12  055-330-4741  35.247411  128.873605  2019-06-26   \n",
       "2     30      2019-06  055-330-4741  35.261728  128.874144  2019-06-26   \n",
       "3     30      2019-05  055-330-4741  35.247076  128.872461  2019-06-26   \n",
       "4     30      2019-12  055-330-4741  35.241185  128.877334  2019-06-26   \n",
       "\n",
       "  offer_admin_cd offer_admin_nm         lon2        lat2  \n",
       "0        5350000       경상남도 김해시  128.8716256  35.2496502  \n",
       "1        5350000       경상남도 김해시  128.8734019  35.2473902  \n",
       "2        5350000       경상남도 김해시  128.8741368  35.2618309  \n",
       "3        5350000       경상남도 김해시  128.8718889  35.2464445  \n",
       "4        5350000       경상남도 김해시  128.8773246  35.2411248  "
      ]
     },
     "execution_count": 39,
     "metadata": {},
     "output_type": "execute_result"
    }
   ],
   "source": [
    "df_cctv.info()\n",
    "df_cctv.head()"
   ]
  },
  {
   "cell_type": "code",
   "execution_count": 40,
   "metadata": {},
   "outputs": [],
   "source": [
    "# 좌표 항목을 실수 형식으로 변환 \n",
    "df_cctv['lon2'] = df_cctv['lon2'].astype(float)\n",
    "df_cctv['lat2'] = df_cctv['lat2'].astype(float)"
   ]
  },
  {
   "cell_type": "code",
   "execution_count": 41,
   "metadata": {},
   "outputs": [],
   "source": [
    "# 좌표를 이용하여 지오데이터프레임으로 생성 \n",
    "geom = gpd.points_from_xy(df_cctv.lon2, df_cctv.lat2)\n",
    "cctv_gdf = gpd.GeoDataFrame(df_cctv, geometry=geom, crs=4326)"
   ]
  },
  {
   "cell_type": "code",
   "execution_count": 42,
   "metadata": {},
   "outputs": [
    {
     "data": {
      "text/html": [
       "<div style=\"width:100%;\"><div style=\"position:relative;width:100%;height:0;padding-bottom:60%;\"><span style=\"color:#565656\">Make this Notebook Trusted to load map: File -> Trust Notebook</span><iframe srcdoc=\"&lt;!DOCTYPE html&gt;\n",
       "&lt;html&gt;\n",
       "&lt;head&gt;\n",
       "    \n",
       "    &lt;meta http-equiv=&quot;content-type&quot; content=&quot;text/html; charset=UTF-8&quot; /&gt;\n",
       "    \n",
       "        &lt;script&gt;\n",
       "            L_NO_TOUCH = false;\n",
       "            L_DISABLE_3D = false;\n",
       "        &lt;/script&gt;\n",
       "    \n",
       "    &lt;style&gt;html, body {width: 100%;height: 100%;margin: 0;padding: 0;}&lt;/style&gt;\n",
       "    &lt;style&gt;#map {position:absolute;top:0;bottom:0;right:0;left:0;}&lt;/style&gt;\n",
       "    &lt;script src=&quot;https://cdn.jsdelivr.net/npm/leaflet@1.6.0/dist/leaflet.js&quot;&gt;&lt;/script&gt;\n",
       "    &lt;script src=&quot;https://code.jquery.com/jquery-1.12.4.min.js&quot;&gt;&lt;/script&gt;\n",
       "    &lt;script src=&quot;https://maxcdn.bootstrapcdn.com/bootstrap/3.2.0/js/bootstrap.min.js&quot;&gt;&lt;/script&gt;\n",
       "    &lt;script src=&quot;https://cdnjs.cloudflare.com/ajax/libs/Leaflet.awesome-markers/2.0.2/leaflet.awesome-markers.js&quot;&gt;&lt;/script&gt;\n",
       "    &lt;link rel=&quot;stylesheet&quot; href=&quot;https://cdn.jsdelivr.net/npm/leaflet@1.6.0/dist/leaflet.css&quot;/&gt;\n",
       "    &lt;link rel=&quot;stylesheet&quot; href=&quot;https://maxcdn.bootstrapcdn.com/bootstrap/3.2.0/css/bootstrap.min.css&quot;/&gt;\n",
       "    &lt;link rel=&quot;stylesheet&quot; href=&quot;https://maxcdn.bootstrapcdn.com/bootstrap/3.2.0/css/bootstrap-theme.min.css&quot;/&gt;\n",
       "    &lt;link rel=&quot;stylesheet&quot; href=&quot;https://maxcdn.bootstrapcdn.com/font-awesome/4.6.3/css/font-awesome.min.css&quot;/&gt;\n",
       "    &lt;link rel=&quot;stylesheet&quot; href=&quot;https://cdnjs.cloudflare.com/ajax/libs/Leaflet.awesome-markers/2.0.2/leaflet.awesome-markers.css&quot;/&gt;\n",
       "    &lt;link rel=&quot;stylesheet&quot; href=&quot;https://cdn.jsdelivr.net/gh/python-visualization/folium/folium/templates/leaflet.awesome.rotate.min.css&quot;/&gt;\n",
       "    \n",
       "            &lt;meta name=&quot;viewport&quot; content=&quot;width=device-width,\n",
       "                initial-scale=1.0, maximum-scale=1.0, user-scalable=no&quot; /&gt;\n",
       "            &lt;style&gt;\n",
       "                #map_7b9496c3b743e9ce2d9c998ffef51696 {\n",
       "                    position: relative;\n",
       "                    width: 100.0%;\n",
       "                    height: 100.0%;\n",
       "                    left: 0.0%;\n",
       "                    top: 0.0%;\n",
       "                }\n",
       "            &lt;/style&gt;\n",
       "        \n",
       "    \n",
       "                    &lt;style&gt;\n",
       "                        .foliumtooltip {\n",
       "                            \n",
       "                        }\n",
       "                       .foliumtooltip table{\n",
       "                            margin: auto;\n",
       "                        }\n",
       "                        .foliumtooltip tr{\n",
       "                            text-align: left;\n",
       "                        }\n",
       "                        .foliumtooltip th{\n",
       "                            padding: 2px; padding-right: 8px;\n",
       "                        }\n",
       "                    &lt;/style&gt;\n",
       "            \n",
       "&lt;/head&gt;\n",
       "&lt;body&gt;\n",
       "    \n",
       "    \n",
       "            &lt;div class=&quot;folium-map&quot; id=&quot;map_7b9496c3b743e9ce2d9c998ffef51696&quot; &gt;&lt;/div&gt;\n",
       "        \n",
       "&lt;/body&gt;\n",
       "&lt;script&gt;\n",
       "    \n",
       "    \n",
       "            var map_7b9496c3b743e9ce2d9c998ffef51696 = L.map(\n",
       "                &quot;map_7b9496c3b743e9ce2d9c998ffef51696&quot;,\n",
       "                {\n",
       "                    center: [18.80885845, 64.46457175],\n",
       "                    crs: L.CRS.EPSG3857,\n",
       "                    zoom: 10,\n",
       "                    zoomControl: true,\n",
       "                    preferCanvas: false,\n",
       "                }\n",
       "            );\n",
       "            L.control.scale().addTo(map_7b9496c3b743e9ce2d9c998ffef51696);\n",
       "\n",
       "            \n",
       "\n",
       "        \n",
       "    \n",
       "            var tile_layer_a9f5cefa1e261b93437f26253b952110 = L.tileLayer(\n",
       "                &quot;http://basemaps.cartocdn.com/dark_all/{z}/{x}/{y}.png&quot;,\n",
       "                {&quot;attribution&quot;: &quot;Carto&quot;, &quot;detectRetina&quot;: false, &quot;maxNativeZoom&quot;: 18, &quot;maxZoom&quot;: 18, &quot;minZoom&quot;: 0, &quot;noWrap&quot;: false, &quot;opacity&quot;: 1, &quot;subdomains&quot;: &quot;abc&quot;, &quot;tms&quot;: false}\n",
       "            ).addTo(map_7b9496c3b743e9ce2d9c998ffef51696);\n",
       "        \n",
       "    \n",
       "            map_7b9496c3b743e9ce2d9c998ffef51696.fitBounds(\n",
       "                [[0.0, 0.0], [37.6177169, 128.9291435]],\n",
       "                {}\n",
       "            );\n",
       "        \n",
       "    \n",
       "        function geo_json_7b59f902c9917eb109c0af692cfe88d0_styler(feature) {\n",
       "            switch(feature.id) {\n",
       "                default:\n",
       "                    return {&quot;color&quot;: &quot;red&quot;, &quot;fillColor&quot;: &quot;red&quot;, &quot;fillOpacity&quot;: 0.5, &quot;weight&quot;: 2};\n",
       "            }\n",
       "        }\n",
       "        function geo_json_7b59f902c9917eb109c0af692cfe88d0_highlighter(feature) {\n",
       "            switch(feature.id) {\n",
       "                default:\n",
       "                    return {&quot;fillOpacity&quot;: 0.75};\n",
       "            }\n",
       "        }\n",
       "        function geo_json_7b59f902c9917eb109c0af692cfe88d0_pointToLayer(feature, latlng) {\n",
       "            var opts = {&quot;bubblingMouseEvents&quot;: true, &quot;color&quot;: &quot;#3388ff&quot;, &quot;dashArray&quot;: null, &quot;dashOffset&quot;: null, &quot;fill&quot;: true, &quot;fillColor&quot;: &quot;#3388ff&quot;, &quot;fillOpacity&quot;: 0.2, &quot;fillRule&quot;: &quot;evenodd&quot;, &quot;lineCap&quot;: &quot;round&quot;, &quot;lineJoin&quot;: &quot;round&quot;, &quot;opacity&quot;: 1.0, &quot;radius&quot;: 2, &quot;stroke&quot;: true, &quot;weight&quot;: 3};\n",
       "            \n",
       "            let style = geo_json_7b59f902c9917eb109c0af692cfe88d0_styler(feature)\n",
       "            Object.assign(opts, style)\n",
       "            \n",
       "            return new L.CircleMarker(latlng, opts)\n",
       "        }\n",
       "\n",
       "        function geo_json_7b59f902c9917eb109c0af692cfe88d0_onEachFeature(feature, layer) {\n",
       "            layer.on({\n",
       "                mouseout: function(e) {\n",
       "                    if(typeof e.target.setStyle === &quot;function&quot;){\n",
       "                        geo_json_7b59f902c9917eb109c0af692cfe88d0.resetStyle(e.target);\n",
       "                    }\n",
       "                },\n",
       "                mouseover: function(e) {\n",
       "                    if(typeof e.target.setStyle === &quot;function&quot;){\n",
       "                        const highlightStyle = geo_json_7b59f902c9917eb109c0af692cfe88d0_highlighter(e.target.feature)\n",
       "                        e.target.setStyle(highlightStyle);\n",
       "                    }\n",
       "                },\n",
       "            });\n",
       "        };\n",
       "        var geo_json_7b59f902c9917eb109c0af692cfe88d0 = L.geoJson(null, {\n",
       "                onEachFeature: geo_json_7b59f902c9917eb109c0af692cfe88d0_onEachFeature,\n",
       "            \n",
       "                style: geo_json_7b59f902c9917eb109c0af692cfe88d0_styler,\n",
       "                pointToLayer: geo_json_7b59f902c9917eb109c0af692cfe88d0_pointToLayer\n",
       "        });\n",
       "\n",
       "        function geo_json_7b59f902c9917eb109c0af692cfe88d0_add (data) {\n",
       "            geo_json_7b59f902c9917eb109c0af692cfe88d0\n",
       "                .addData(data)\n",
       "                .addTo(map_7b9496c3b743e9ce2d9c998ffef51696);\n",
       "        }\n",
       "            geo_json_7b59f902c9917eb109c0af692cfe88d0_add({&quot;bbox&quot;: [0.0, 0.0, 128.9291435, 37.6177169], &quot;features&quot;: [{&quot;bbox&quot;: [128.8716256, 35.2496502, 128.8716256, 35.2496502], &quot;geometry&quot;: {&quot;coordinates&quot;: [128.8716256, 35.2496502], &quot;type&quot;: &quot;Point&quot;}, &quot;id&quot;: &quot;0&quot;, &quot;properties&quot;: {&quot;__folium_color&quot;: &quot;red&quot;, &quot;addr_jb&quot;: &quot;\\uacbd\\uc0c1\\ub0a8\\ub3c4 \\uae40\\ud574\\uc2dc \\uad6c\\uc0b0\\ub3d9 1072-19&quot;, &quot;addr_rd&quot;: null, &quot;admin_nm&quot;: &quot;\\uacbd\\uc0c1\\ub0a8\\ub3c4 \\uae40\\ud574\\uc2dc\\uccad&quot;, &quot;cctv_cnt&quot;: &quot;3&quot;, &quot;date_install&quot;: &quot;2019-11&quot;, &quot;date_make&quot;: &quot;2019-06-26&quot;, &quot;direction&quot;: &quot;\\ud604\\ub300\\ubcd1\\uc6d0\\ub4a4&quot;, &quot;lat&quot;: 35.249247, &quot;lat2&quot;: 35.2496502, &quot;lon&quot;: 128.871639, &quot;lon2&quot;: 128.8716256, &quot;offer_admin_cd&quot;: &quot;5350000&quot;, &quot;offer_admin_nm&quot;: &quot;\\uacbd\\uc0c1\\ub0a8\\ub3c4 \\uae40\\ud574\\uc2dc&quot;, &quot;period&quot;: &quot;30&quot;, &quot;pixel&quot;: &quot;200&quot;, &quot;purpose&quot;: &quot;\\uc0dd\\ud65c\\ubc29\\ubc94&quot;, &quot;tel&quot;: &quot;055-330-4741&quot;}, &quot;type&quot;: &quot;Feature&quot;}, {&quot;bbox&quot;: [128.8734019, 35.2473902, 128.8734019, 35.2473902], &quot;geometry&quot;: {&quot;coordinates&quot;: [128.8734019, 35.2473902], &quot;type&quot;: &quot;Point&quot;}, &quot;id&quot;: &quot;1&quot;, &quot;properties&quot;: {&quot;__folium_color&quot;: &quot;red&quot;, &quot;addr_jb&quot;: &quot;\\uacbd\\uc0c1\\ub0a8\\ub3c4 \\uae40\\ud574\\uc2dc \\uad6c\\uc0b0\\ub3d9 305-15&quot;, &quot;addr_rd&quot;: null, &quot;admin_nm&quot;: &quot;\\uacbd\\uc0c1\\ub0a8\\ub3c4 \\uae40\\ud574\\uc2dc\\uccad&quot;, &quot;cctv_cnt&quot;: &quot;2&quot;, &quot;date_install&quot;: &quot;2019-12&quot;, &quot;date_make&quot;: &quot;2019-06-26&quot;, &quot;direction&quot;: &quot;\\ubaa9\\ud654\\uace8\\uacf5\\uc6d0&quot;, &quot;lat&quot;: 35.247411, &quot;lat2&quot;: 35.2473902, &quot;lon&quot;: 128.873605, &quot;lon2&quot;: 128.8734019, &quot;offer_admin_cd&quot;: &quot;5350000&quot;, &quot;offer_admin_nm&quot;: &quot;\\uacbd\\uc0c1\\ub0a8\\ub3c4 \\uae40\\ud574\\uc2dc&quot;, &quot;period&quot;: &quot;30&quot;, &quot;pixel&quot;: &quot;200&quot;, &quot;purpose&quot;: &quot;\\uc0dd\\ud65c\\ubc29\\ubc94&quot;, &quot;tel&quot;: &quot;055-330-4741&quot;}, &quot;type&quot;: &quot;Feature&quot;}, {&quot;bbox&quot;: [128.8741368, 35.2618309, 128.8741368, 35.2618309], &quot;geometry&quot;: {&quot;coordinates&quot;: [128.8741368, 35.2618309], &quot;type&quot;: &quot;Point&quot;}, &quot;id&quot;: &quot;2&quot;, &quot;properties&quot;: {&quot;__folium_color&quot;: &quot;red&quot;, &quot;addr_jb&quot;: &quot;\\uacbd\\uc0c1\\ub0a8\\ub3c4 \\uae40\\ud574\\uc2dc \\uc0bc\\uacc4\\ub3d9 1484-14&quot;, &quot;addr_rd&quot;: null, &quot;admin_nm&quot;: &quot;\\uacbd\\uc0c1\\ub0a8\\ub3c4 \\uae40\\ud574\\uc2dc\\uccad&quot;, &quot;cctv_cnt&quot;: &quot;2&quot;, &quot;date_install&quot;: &quot;2019-06&quot;, &quot;date_make&quot;: &quot;2019-06-26&quot;, &quot;direction&quot;: &quot;\\uc815\\uc6d0\\ube4c\\ub77c&quot;, &quot;lat&quot;: 35.2617277, &quot;lat2&quot;: 35.2618309, &quot;lon&quot;: 128.8741435, &quot;lon2&quot;: 128.8741368, &quot;offer_admin_cd&quot;: &quot;5350000&quot;, &quot;offer_admin_nm&quot;: &quot;\\uacbd\\uc0c1\\ub0a8\\ub3c4 \\uae40\\ud574\\uc2dc&quot;, &quot;period&quot;: &quot;30&quot;, &quot;pixel&quot;: &quot;200&quot;, &quot;purpose&quot;: &quot;\\uc0dd\\ud65c\\ubc29\\ubc94&quot;, &quot;tel&quot;: &quot;055-330-4741&quot;}, &quot;type&quot;: &quot;Feature&quot;}, {&quot;bbox&quot;: [128.8718889, 35.2464445, 128.8718889, 35.2464445], &quot;geometry&quot;: {&quot;coordinates&quot;: [128.8718889, 35.2464445], &quot;type&quot;: &quot;Point&quot;}, &quot;id&quot;: &quot;3&quot;, &quot;properties&quot;: {&quot;__folium_color&quot;: &quot;red&quot;, &quot;addr_jb&quot;: &quot;\\uacbd\\uc0c1\\ub0a8\\ub3c4 \\uae40\\ud574\\uc2dc \\uad6c\\uc0b0\\ub3d9 1043&quot;, &quot;addr_rd&quot;: null, &quot;admin_nm&quot;: &quot;\\uacbd\\uc0c1\\ub0a8\\ub3c4 \\uae40\\ud574\\uc2dc\\uccad&quot;, &quot;cctv_cnt&quot;: &quot;4&quot;, &quot;date_install&quot;: &quot;2019-05&quot;, &quot;date_make&quot;: &quot;2019-06-26&quot;, &quot;direction&quot;: &quot;\\ucd5c\\uac00\\uc544\\uad6c\\ucc1c&quot;, &quot;lat&quot;: 35.247076, &quot;lat2&quot;: 35.2464445, &quot;lon&quot;: 128.872461, &quot;lon2&quot;: 128.8718889, &quot;offer_admin_cd&quot;: &quot;5350000&quot;, &quot;offer_admin_nm&quot;: &quot;\\uacbd\\uc0c1\\ub0a8\\ub3c4 \\uae40\\ud574\\uc2dc&quot;, &quot;period&quot;: &quot;30&quot;, &quot;pixel&quot;: &quot;200&quot;, &quot;purpose&quot;: &quot;\\uc0dd\\ud65c\\ubc29\\ubc94&quot;, &quot;tel&quot;: &quot;055-330-4741&quot;}, &quot;type&quot;: &quot;Feature&quot;}, {&quot;bbox&quot;: [128.8773246, 35.2411248, 128.8773246, 35.2411248], &quot;geometry&quot;: {&quot;coordinates&quot;: [128.8773246, 35.2411248], &quot;type&quot;: &quot;Point&quot;}, &quot;id&quot;: &quot;4&quot;, &quot;properties&quot;: {&quot;__folium_color&quot;: &quot;red&quot;, &quot;addr_jb&quot;: &quot;\\uacbd\\uc0c1\\ub0a8\\ub3c4 \\uae40\\ud574\\uc2dc \\uad6c\\uc0b0\\ub3d9 175-10&quot;, &quot;addr_rd&quot;: null, &quot;admin_nm&quot;: &quot;\\uacbd\\uc0c1\\ub0a8\\ub3c4 \\uae40\\ud574\\uc2dc\\uccad&quot;, &quot;cctv_cnt&quot;: &quot;2&quot;, &quot;date_install&quot;: &quot;2019-12&quot;, &quot;date_make&quot;: &quot;2019-06-26&quot;, &quot;direction&quot;: &quot;\\ub3d9\\ud638\\ub9e8\\uc158&quot;, &quot;lat&quot;: 35.241185, &quot;lat2&quot;: 35.2411248, &quot;lon&quot;: 128.8773341, &quot;lon2&quot;: 128.8773246, &quot;offer_admin_cd&quot;: &quot;5350000&quot;, &quot;offer_admin_nm&quot;: &quot;\\uacbd\\uc0c1\\ub0a8\\ub3c4 \\uae40\\ud574\\uc2dc&quot;, &quot;period&quot;: &quot;30&quot;, &quot;pixel&quot;: &quot;200&quot;, &quot;purpose&quot;: &quot;\\uc0dd\\ud65c\\ubc29\\ubc94&quot;, &quot;tel&quot;: &quot;055-330-4741&quot;}, &quot;type&quot;: &quot;Feature&quot;}, {&quot;bbox&quot;: [128.8890682, 35.2289983, 128.8890682, 35.2289983], &quot;geometry&quot;: {&quot;coordinates&quot;: [128.8890682, 35.2289983], &quot;type&quot;: &quot;Point&quot;}, &quot;id&quot;: &quot;5&quot;, &quot;properties&quot;: {&quot;__folium_color&quot;: &quot;red&quot;, &quot;addr_jb&quot;: &quot;\\uacbd\\uc0c1\\ub0a8\\ub3c4 \\uae40\\ud574\\uc2dc \\ubd80\\uc6d0\\ub3d9 663&quot;, &quot;addr_rd&quot;: null, &quot;admin_nm&quot;: &quot;\\uacbd\\uc0c1\\ub0a8\\ub3c4 \\uae40\\ud574\\uc2dc\\uccad&quot;, &quot;cctv_cnt&quot;: &quot;3&quot;, &quot;date_install&quot;: &quot;2019-05&quot;, &quot;date_make&quot;: &quot;2019-06-26&quot;, &quot;direction&quot;: &quot;\\uae40\\ud574\\uc2dc\\uccad\\ub4b7\\uae38&quot;, &quot;lat&quot;: 35.228923, &quot;lat2&quot;: 35.2289983, &quot;lon&quot;: 128.889096, &quot;lon2&quot;: 128.8890682, &quot;offer_admin_cd&quot;: &quot;5350000&quot;, &quot;offer_admin_nm&quot;: &quot;\\uacbd\\uc0c1\\ub0a8\\ub3c4 \\uae40\\ud574\\uc2dc&quot;, &quot;period&quot;: &quot;30&quot;, &quot;pixel&quot;: &quot;200&quot;, &quot;purpose&quot;: &quot;\\uc0dd\\ud65c\\ubc29\\ubc94&quot;, &quot;tel&quot;: &quot;055-330-4741&quot;}, &quot;type&quot;: &quot;Feature&quot;}, {&quot;bbox&quot;: [128.8877869, 35.2148746, 128.8877869, 35.2148746], &quot;geometry&quot;: {&quot;coordinates&quot;: [128.8877869, 35.2148746], &quot;type&quot;: &quot;Point&quot;}, &quot;id&quot;: &quot;6&quot;, &quot;properties&quot;: {&quot;__folium_color&quot;: &quot;red&quot;, &quot;addr_jb&quot;: &quot;\\uacbd\\uc0c1\\ub0a8\\ub3c4 \\uae40\\ud574\\uc2dc \\ubd80\\uc6d0\\ub3d9 342-17&quot;, &quot;addr_rd&quot;: null, &quot;admin_nm&quot;: &quot;\\uacbd\\uc0c1\\ub0a8\\ub3c4 \\uae40\\ud574\\uc2dc\\uccad&quot;, &quot;cctv_cnt&quot;: &quot;3&quot;, &quot;date_install&quot;: &quot;2019-03&quot;, &quot;date_make&quot;: &quot;2019-06-26&quot;, &quot;direction&quot;: &quot;\\uc1c4\\ub0b4\\ub9c8\\uc744\\ub0a8\\ucabd&quot;, &quot;lat&quot;: 35.21492806, &quot;lat2&quot;: 35.2148746, &quot;lon&quot;: 128.887706, &quot;lon2&quot;: 128.8877869, &quot;offer_admin_cd&quot;: &quot;5350000&quot;, &quot;offer_admin_nm&quot;: &quot;\\uacbd\\uc0c1\\ub0a8\\ub3c4 \\uae40\\ud574\\uc2dc&quot;, &quot;period&quot;: &quot;30&quot;, &quot;pixel&quot;: &quot;200&quot;, &quot;purpose&quot;: &quot;\\uc0dd\\ud65c\\ubc29\\ubc94&quot;, &quot;tel&quot;: &quot;055-330-4741&quot;}, &quot;type&quot;: &quot;Feature&quot;}, {&quot;bbox&quot;: [128.8862049, 35.2324447, 128.8862049, 35.2324447], &quot;geometry&quot;: {&quot;coordinates&quot;: [128.8862049, 35.2324447], &quot;type&quot;: &quot;Point&quot;}, &quot;id&quot;: &quot;7&quot;, &quot;properties&quot;: {&quot;__folium_color&quot;: &quot;red&quot;, &quot;addr_jb&quot;: &quot;\\uacbd\\uc0c1\\ub0a8\\ub3c4 \\uae40\\ud574\\uc2dc \\ubd80\\uc6d0\\ub3d9 36-1&quot;, &quot;addr_rd&quot;: null, &quot;admin_nm&quot;: &quot;\\uacbd\\uc0c1\\ub0a8\\ub3c4 \\uae40\\ud574\\uc2dc\\uccad&quot;, &quot;cctv_cnt&quot;: &quot;3&quot;, &quot;date_install&quot;: &quot;2019-03&quot;, &quot;date_make&quot;: &quot;2019-06-26&quot;, &quot;direction&quot;: &quot;\\uae40\\ud574\\uc911\\ud6c4\\ubb38&quot;, &quot;lat&quot;: 35.232047, &quot;lat2&quot;: 35.2324447, &quot;lon&quot;: 128.886201, &quot;lon2&quot;: 128.8862049, &quot;offer_admin_cd&quot;: &quot;5350000&quot;, &quot;offer_admin_nm&quot;: &quot;\\uacbd\\uc0c1\\ub0a8\\ub3c4 \\uae40\\ud574\\uc2dc&quot;, &quot;period&quot;: &quot;30&quot;, &quot;pixel&quot;: &quot;200&quot;, &quot;purpose&quot;: &quot;\\uc0dd\\ud65c\\ubc29\\ubc94&quot;, &quot;tel&quot;: &quot;055-330-4741&quot;}, &quot;type&quot;: &quot;Feature&quot;}, {&quot;bbox&quot;: [128.8927518, 35.2282032, 128.8927518, 35.2282032], &quot;geometry&quot;: {&quot;coordinates&quot;: [128.8927518, 35.2282032], &quot;type&quot;: &quot;Point&quot;}, &quot;id&quot;: &quot;8&quot;, &quot;properties&quot;: {&quot;__folium_color&quot;: &quot;red&quot;, &quot;addr_jb&quot;: &quot;\\uacbd\\uc0c1\\ub0a8\\ub3c4 \\uae40\\ud574\\uc2dc \\ubd80\\uc6d0\\ub3d9 169-6&quot;, &quot;addr_rd&quot;: null, &quot;admin_nm&quot;: &quot;\\uacbd\\uc0c1\\ub0a8\\ub3c4 \\uae40\\ud574\\uc2dc\\uccad&quot;, &quot;cctv_cnt&quot;: &quot;3&quot;, &quot;date_install&quot;: &quot;2019-10&quot;, &quot;date_make&quot;: &quot;2019-06-26&quot;, &quot;direction&quot;: &quot;\\ubbf8\\uc9c4\\uc22f\\ubd88\\uac08\\ube44&quot;, &quot;lat&quot;: 35.22822376, &quot;lat2&quot;: 35.2282032, &quot;lon&quot;: 128.8927683, &quot;lon2&quot;: 128.8927518, &quot;offer_admin_cd&quot;: &quot;5350000&quot;, &quot;offer_admin_nm&quot;: &quot;\\uacbd\\uc0c1\\ub0a8\\ub3c4 \\uae40\\ud574\\uc2dc&quot;, &quot;period&quot;: &quot;30&quot;, &quot;pixel&quot;: &quot;200&quot;, &quot;purpose&quot;: &quot;\\uc0dd\\ud65c\\ubc29\\ubc94&quot;, &quot;tel&quot;: &quot;055-330-4741&quot;}, &quot;type&quot;: &quot;Feature&quot;}, {&quot;bbox&quot;: [128.8811315, 35.2301666, 128.8811315, 35.2301666], &quot;geometry&quot;: {&quot;coordinates&quot;: [128.8811315, 35.2301666], &quot;type&quot;: &quot;Point&quot;}, &quot;id&quot;: &quot;9&quot;, &quot;properties&quot;: {&quot;__folium_color&quot;: &quot;red&quot;, &quot;addr_jb&quot;: &quot;\\uacbd\\uc0c1\\ub0a8\\ub3c4 \\uae40\\ud574\\uc2dc \\ubd80\\uc6d0\\ub3d9 861-4&quot;, &quot;addr_rd&quot;: null, &quot;admin_nm&quot;: &quot;\\uacbd\\uc0c1\\ub0a8\\ub3c4 \\uae40\\ud574\\uc2dc\\uccad&quot;, &quot;cctv_cnt&quot;: &quot;2&quot;, &quot;date_install&quot;: &quot;2019-09&quot;, &quot;date_make&quot;: &quot;2019-06-26&quot;, &quot;direction&quot;: &quot;\\ud55c\\uc6b8\\ube4c&quot;, &quot;lat&quot;: 35.23016412, &quot;lat2&quot;: 35.2301666, &quot;lon&quot;: 128.881197, &quot;lon2&quot;: 128.8811315, &quot;offer_admin_cd&quot;: &quot;5350000&quot;, &quot;offer_admin_nm&quot;: &quot;\\uacbd\\uc0c1\\ub0a8\\ub3c4 \\uae40\\ud574\\uc2dc&quot;, &quot;period&quot;: &quot;30&quot;, &quot;pixel&quot;: &quot;200&quot;, &quot;purpose&quot;: &quot;\\uc0dd\\ud65c\\ubc29\\ubc94&quot;, &quot;tel&quot;: &quot;055-330-4741&quot;}, &quot;type&quot;: &quot;Feature&quot;}, {&quot;bbox&quot;: [128.8878957, 35.2303061, 128.8878957, 35.2303061], &quot;geometry&quot;: {&quot;coordinates&quot;: [128.8878957, 35.2303061], &quot;type&quot;: &quot;Point&quot;}, &quot;id&quot;: &quot;10&quot;, &quot;properties&quot;: {&quot;__folium_color&quot;: &quot;red&quot;, &quot;addr_jb&quot;: &quot;\\uacbd\\uc0c1\\ub0a8\\ub3c4 \\uae40\\ud574\\uc2dc \\ubd80\\uc6d0\\ub3d9 74-25&quot;, &quot;addr_rd&quot;: null, &quot;admin_nm&quot;: &quot;\\uacbd\\uc0c1\\ub0a8\\ub3c4 \\uae40\\ud574\\uc2dc\\uccad&quot;, &quot;cctv_cnt&quot;: &quot;3&quot;, &quot;date_install&quot;: &quot;2019-08&quot;, &quot;date_make&quot;: &quot;2019-06-26&quot;, &quot;direction&quot;: &quot;\\uc720\\ub9bc\\ube4c\\ub77c&quot;, &quot;lat&quot;: 35.23031124, &quot;lat2&quot;: 35.2303061, &quot;lon&quot;: 128.887997, &quot;lon2&quot;: 128.8878957, &quot;offer_admin_cd&quot;: &quot;5350000&quot;, &quot;offer_admin_nm&quot;: &quot;\\uacbd\\uc0c1\\ub0a8\\ub3c4 \\uae40\\ud574\\uc2dc&quot;, &quot;period&quot;: &quot;30&quot;, &quot;pixel&quot;: &quot;200&quot;, &quot;purpose&quot;: &quot;\\uc0dd\\ud65c\\ubc29\\ubc94&quot;, &quot;tel&quot;: &quot;055-330-4741&quot;}, &quot;type&quot;: &quot;Feature&quot;}, {&quot;bbox&quot;: [128.8835008, 35.2301079, 128.8835008, 35.2301079], &quot;geometry&quot;: {&quot;coordinates&quot;: [128.8835008, 35.2301079], &quot;type&quot;: &quot;Point&quot;}, &quot;id&quot;: &quot;11&quot;, &quot;properties&quot;: {&quot;__folium_color&quot;: &quot;red&quot;, &quot;addr_jb&quot;: &quot;\\uacbd\\uc0c1\\ub0a8\\ub3c4 \\uae40\\ud574\\uc2dc \\ubd80\\uc6d0\\ub3d9 697-1&quot;, &quot;addr_rd&quot;: null, &quot;admin_nm&quot;: &quot;\\uacbd\\uc0c1\\ub0a8\\ub3c4 \\uae40\\ud574\\uc2dc\\uccad&quot;, &quot;cctv_cnt&quot;: &quot;2&quot;, &quot;date_install&quot;: &quot;2019-04&quot;, &quot;date_make&quot;: &quot;2019-06-26&quot;, &quot;direction&quot;: &quot;\\ubd80\\uc6d0\\uacf5\\uc601\\uc8fc\\ucc28\\uc7a5&quot;, &quot;lat&quot;: 35.230042, &quot;lat2&quot;: 35.2301079, &quot;lon&quot;: 128.883599, &quot;lon2&quot;: 128.8835008, &quot;offer_admin_cd&quot;: &quot;5350000&quot;, &quot;offer_admin_nm&quot;: &quot;\\uacbd\\uc0c1\\ub0a8\\ub3c4 \\uae40\\ud574\\uc2dc&quot;, &quot;period&quot;: &quot;30&quot;, &quot;pixel&quot;: &quot;200&quot;, &quot;purpose&quot;: &quot;\\uc0dd\\ud65c\\ubc29\\ubc94&quot;, &quot;tel&quot;: &quot;055-330-4741&quot;}, &quot;type&quot;: &quot;Feature&quot;}, {&quot;bbox&quot;: [128.8874727, 35.2161704, 128.8874727, 35.2161704], &quot;geometry&quot;: {&quot;coordinates&quot;: [128.8874727, 35.2161704], &quot;type&quot;: &quot;Point&quot;}, &quot;id&quot;: &quot;12&quot;, &quot;properties&quot;: {&quot;__folium_color&quot;: &quot;red&quot;, &quot;addr_jb&quot;: &quot;\\uacbd\\uc0c1\\ub0a8\\ub3c4 \\uae40\\ud574\\uc2dc \\ubd80\\uc6d0\\ub3d9 361-8&quot;, &quot;addr_rd&quot;: null, &quot;admin_nm&quot;: &quot;\\uacbd\\uc0c1\\ub0a8\\ub3c4 \\uae40\\ud574\\uc2dc\\uccad&quot;, &quot;cctv_cnt&quot;: &quot;2&quot;, &quot;date_install&quot;: &quot;2019-12&quot;, &quot;date_make&quot;: &quot;2019-06-26&quot;, &quot;direction&quot;: &quot;\\uc1c4\\ub0b4\\ub9c8\\uc744&quot;, &quot;lat&quot;: 35.21625614, &quot;lat2&quot;: 35.2161704, &quot;lon&quot;: 128.887442, &quot;lon2&quot;: 128.8874727, &quot;offer_admin_cd&quot;: &quot;5350000&quot;, &quot;offer_admin_nm&quot;: &quot;\\uacbd\\uc0c1\\ub0a8\\ub3c4 \\uae40\\ud574\\uc2dc&quot;, &quot;period&quot;: &quot;30&quot;, &quot;pixel&quot;: &quot;200&quot;, &quot;purpose&quot;: &quot;\\uc0dd\\ud65c\\ubc29\\ubc94&quot;, &quot;tel&quot;: &quot;055-330-4741&quot;}, &quot;type&quot;: &quot;Feature&quot;}, {&quot;bbox&quot;: [128.8808384, 35.2291435, 128.8808384, 35.2291435], &quot;geometry&quot;: {&quot;coordinates&quot;: [128.8808384, 35.2291435], &quot;type&quot;: &quot;Point&quot;}, &quot;id&quot;: &quot;13&quot;, &quot;properties&quot;: {&quot;__folium_color&quot;: &quot;red&quot;, &quot;addr_jb&quot;: &quot;\\uacbd\\uc0c1\\ub0a8\\ub3c4 \\uae40\\ud574\\uc2dc \\ubd80\\uc6d0\\ub3d9 601-30&quot;, &quot;addr_rd&quot;: null, &quot;admin_nm&quot;: &quot;\\uacbd\\uc0c1\\ub0a8\\ub3c4 \\uae40\\ud574\\uc2dc\\uccad&quot;, &quot;cctv_cnt&quot;: &quot;3&quot;, &quot;date_install&quot;: &quot;2019-06&quot;, &quot;date_make&quot;: &quot;2019-06-26&quot;, &quot;direction&quot;: &quot;\\uc9d1\\uc73c\\ub85c\\ud3b8\\uc758\\uc810&quot;, &quot;lat&quot;: 35.22919978, &quot;lat2&quot;: 35.2291435, &quot;lon&quot;: 128.8808019, &quot;lon2&quot;: 128.8808384, &quot;offer_admin_cd&quot;: &quot;5350000&quot;, &quot;offer_admin_nm&quot;: &quot;\\uacbd\\uc0c1\\ub0a8\\ub3c4 \\uae40\\ud574\\uc2dc&quot;, &quot;period&quot;: &quot;30&quot;, &quot;pixel&quot;: &quot;200&quot;, &quot;purpose&quot;: &quot;\\uc0dd\\ud65c\\ubc29\\ubc94&quot;, &quot;tel&quot;: &quot;055-330-4741&quot;}, &quot;type&quot;: &quot;Feature&quot;}, {&quot;bbox&quot;: [128.883174, 35.231217, 128.883174, 35.231217], &quot;geometry&quot;: {&quot;coordinates&quot;: [128.883174, 35.231217], &quot;type&quot;: &quot;Point&quot;}, &quot;id&quot;: &quot;14&quot;, &quot;properties&quot;: {&quot;__folium_color&quot;: &quot;red&quot;, &quot;addr_jb&quot;: &quot;\\uacbd\\uc0c1\\ub0a8\\ub3c4 \\uae40\\ud574\\uc2dc \\ubd80\\uc6d0\\ub3d9 767-1&quot;, &quot;addr_rd&quot;: null, &quot;admin_nm&quot;: &quot;\\uacbd\\uc0c1\\ub0a8\\ub3c4 \\uae40\\ud574\\uc2dc\\uccad&quot;, &quot;cctv_cnt&quot;: &quot;4&quot;, &quot;date_install&quot;: &quot;2019-06&quot;, &quot;date_make&quot;: &quot;2019-06-26&quot;, &quot;direction&quot;: &quot;\\uc54c\\ub77c\\ub518\\ub098\\uc774\\ud2b8&quot;, &quot;lat&quot;: 35.231157, &quot;lat2&quot;: 35.231217, &quot;lon&quot;: 128.883194, &quot;lon2&quot;: 128.883174, &quot;offer_admin_cd&quot;: &quot;5350000&quot;, &quot;offer_admin_nm&quot;: &quot;\\uacbd\\uc0c1\\ub0a8\\ub3c4 \\uae40\\ud574\\uc2dc&quot;, &quot;period&quot;: &quot;30&quot;, &quot;pixel&quot;: &quot;200&quot;, &quot;purpose&quot;: &quot;\\uc0dd\\ud65c\\ubc29\\ubc94&quot;, &quot;tel&quot;: &quot;055-330-4741&quot;}, &quot;type&quot;: &quot;Feature&quot;}, {&quot;bbox&quot;: [128.8888407, 35.2313665, 128.8888407, 35.2313665], &quot;geometry&quot;: {&quot;coordinates&quot;: [128.8888407, 35.2313665], &quot;type&quot;: &quot;Point&quot;}, &quot;id&quot;: &quot;15&quot;, &quot;properties&quot;: {&quot;__folium_color&quot;: &quot;red&quot;, &quot;addr_jb&quot;: &quot;\\uacbd\\uc0c1\\ub0a8\\ub3c4 \\uae40\\ud574\\uc2dc \\ubd80\\uc6d0\\ub3d9 116-1&quot;, &quot;addr_rd&quot;: null, &quot;admin_nm&quot;: &quot;\\uacbd\\uc0c1\\ub0a8\\ub3c4 \\uae40\\ud574\\uc2dc\\uccad&quot;, &quot;cctv_cnt&quot;: &quot;3&quot;, &quot;date_install&quot;: &quot;2019-12&quot;, &quot;date_make&quot;: &quot;2019-06-26&quot;, &quot;direction&quot;: &quot;\\uacbd\\uc544\\uadf8\\ub79c\\ub4dc\\ube4c\\ub77c&quot;, &quot;lat&quot;: 35.23136339, &quot;lat2&quot;: 35.2313665, &quot;lon&quot;: 128.8888521, &quot;lon2&quot;: 128.8888407, &quot;offer_admin_cd&quot;: &quot;5350000&quot;, &quot;offer_admin_nm&quot;: &quot;\\uacbd\\uc0c1\\ub0a8\\ub3c4 \\uae40\\ud574\\uc2dc&quot;, &quot;period&quot;: &quot;30&quot;, &quot;pixel&quot;: &quot;200&quot;, &quot;purpose&quot;: &quot;\\uc0dd\\ud65c\\ubc29\\ubc94&quot;, &quot;tel&quot;: &quot;055-330-4741&quot;}, &quot;type&quot;: &quot;Feature&quot;}, {&quot;bbox&quot;: [128.8870561, 35.2297849, 128.8870561, 35.2297849], &quot;geometry&quot;: {&quot;coordinates&quot;: [128.8870561, 35.2297849], &quot;type&quot;: &quot;Point&quot;}, &quot;id&quot;: &quot;16&quot;, &quot;properties&quot;: {&quot;__folium_color&quot;: &quot;red&quot;, &quot;addr_jb&quot;: &quot;\\uacbd\\uc0c1\\ub0a8\\ub3c4 \\uae40\\ud574\\uc2dc \\ubd80\\uc6d0\\ub3d9 689-10&quot;, &quot;addr_rd&quot;: null, &quot;admin_nm&quot;: &quot;\\uacbd\\uc0c1\\ub0a8\\ub3c4 \\uae40\\ud574\\uc2dc\\uccad&quot;, &quot;cctv_cnt&quot;: &quot;3&quot;, &quot;date_install&quot;: &quot;2019-12&quot;, &quot;date_make&quot;: &quot;2019-06-26&quot;, &quot;direction&quot;: &quot;\\ubd80\\uc6d0\\uc0c8\\ub9c8\\uc744\\uae08\\uace0&quot;, &quot;lat&quot;: 35.229709, &quot;lat2&quot;: 35.2297849, &quot;lon&quot;: 128.886819, &quot;lon2&quot;: 128.8870561, &quot;offer_admin_cd&quot;: &quot;5350000&quot;, &quot;offer_admin_nm&quot;: &quot;\\uacbd\\uc0c1\\ub0a8\\ub3c4 \\uae40\\ud574\\uc2dc&quot;, &quot;period&quot;: &quot;30&quot;, &quot;pixel&quot;: &quot;200&quot;, &quot;purpose&quot;: &quot;\\uc0dd\\ud65c\\ubc29\\ubc94&quot;, &quot;tel&quot;: &quot;055-330-4741&quot;}, &quot;type&quot;: &quot;Feature&quot;}, {&quot;bbox&quot;: [128.8887929, 35.238452, 128.8887929, 35.238452], &quot;geometry&quot;: {&quot;coordinates&quot;: [128.8887929, 35.238452], &quot;type&quot;: &quot;Point&quot;}, &quot;id&quot;: &quot;17&quot;, &quot;properties&quot;: {&quot;__folium_color&quot;: &quot;red&quot;, &quot;addr_jb&quot;: &quot;\\uacbd\\uc0c1\\ub0a8\\ub3c4 \\uae40\\ud574\\uc2dc \\ub3d9\\uc0c1\\ub3d9 1109-3&quot;, &quot;addr_rd&quot;: null, &quot;admin_nm&quot;: &quot;\\uacbd\\uc0c1\\ub0a8\\ub3c4 \\uae40\\ud574\\uc2dc\\uccad&quot;, &quot;cctv_cnt&quot;: &quot;5&quot;, &quot;date_install&quot;: &quot;2019-05&quot;, &quot;date_make&quot;: &quot;2019-06-26&quot;, &quot;direction&quot;: &quot;\\ucc28\\ubc2d\\uacf5\\uc6d0&quot;, &quot;lat&quot;: 35.238395, &quot;lat2&quot;: 35.238452, &quot;lon&quot;: 128.888847, &quot;lon2&quot;: 128.8887929, &quot;offer_admin_cd&quot;: &quot;5350000&quot;, &quot;offer_admin_nm&quot;: &quot;\\uacbd\\uc0c1\\ub0a8\\ub3c4 \\uae40\\ud574\\uc2dc&quot;, &quot;period&quot;: &quot;30&quot;, &quot;pixel&quot;: &quot;200&quot;, &quot;purpose&quot;: &quot;\\uc0dd\\ud65c\\ubc29\\ubc94&quot;, &quot;tel&quot;: &quot;055-330-4741&quot;}, &quot;type&quot;: &quot;Feature&quot;}, {&quot;bbox&quot;: [128.8830706, 35.2373, 128.8830706, 35.2373], &quot;geometry&quot;: {&quot;coordinates&quot;: [128.8830706, 35.2373], &quot;type&quot;: &quot;Point&quot;}, &quot;id&quot;: &quot;18&quot;, &quot;properties&quot;: {&quot;__folium_color&quot;: &quot;red&quot;, &quot;addr_jb&quot;: &quot;\\uacbd\\uc0c1\\ub0a8\\ub3c4 \\uae40\\ud574\\uc2dc \\ub3d9\\uc0c1\\ub3d9 850&quot;, &quot;addr_rd&quot;: null, &quot;admin_nm&quot;: &quot;\\uacbd\\uc0c1\\ub0a8\\ub3c4 \\uae40\\ud574\\uc2dc\\uccad&quot;, &quot;cctv_cnt&quot;: &quot;3&quot;, &quot;date_install&quot;: &quot;2019-03&quot;, &quot;date_make&quot;: &quot;2019-06-26&quot;, &quot;direction&quot;: &quot;\\uc62c\\ub808\\ube4c&quot;, &quot;lat&quot;: 35.23729547, &quot;lat2&quot;: 35.2373, &quot;lon&quot;: 128.8831549, &quot;lon2&quot;: 128.8830706, &quot;offer_admin_cd&quot;: &quot;5350000&quot;, &quot;offer_admin_nm&quot;: &quot;\\uacbd\\uc0c1\\ub0a8\\ub3c4 \\uae40\\ud574\\uc2dc&quot;, &quot;period&quot;: &quot;30&quot;, &quot;pixel&quot;: &quot;200&quot;, &quot;purpose&quot;: &quot;\\uc0dd\\ud65c\\ubc29\\ubc94&quot;, &quot;tel&quot;: &quot;055-330-4741&quot;}, &quot;type&quot;: &quot;Feature&quot;}, {&quot;bbox&quot;: [128.9162854, 35.241173, 128.9162854, 35.241173], &quot;geometry&quot;: {&quot;coordinates&quot;: [128.9162854, 35.241173], &quot;type&quot;: &quot;Point&quot;}, &quot;id&quot;: &quot;19&quot;, &quot;properties&quot;: {&quot;__folium_color&quot;: &quot;red&quot;, &quot;addr_jb&quot;: &quot;\\uacbd\\uc0c1\\ub0a8\\ub3c4 \\uae40\\ud574\\uc2dc \\uc0bc\\ubc29\\ub3d9 24-11&quot;, &quot;addr_rd&quot;: null, &quot;admin_nm&quot;: &quot;\\uacbd\\uc0c1\\ub0a8\\ub3c4 \\uae40\\ud574\\uc2dc\\uccad&quot;, &quot;cctv_cnt&quot;: &quot;1&quot;, &quot;date_install&quot;: &quot;2019-09&quot;, &quot;date_make&quot;: &quot;2019-06-26&quot;, &quot;direction&quot;: &quot;\\ud48d\\uc131\\ud55c\\uad50\\ud68c&quot;, &quot;lat&quot;: 35.24116236, &quot;lat2&quot;: 35.241173, &quot;lon&quot;: 128.9162772, &quot;lon2&quot;: 128.9162854, &quot;offer_admin_cd&quot;: &quot;5350000&quot;, &quot;offer_admin_nm&quot;: &quot;\\uacbd\\uc0c1\\ub0a8\\ub3c4 \\uae40\\ud574\\uc2dc&quot;, &quot;period&quot;: &quot;30&quot;, &quot;pixel&quot;: &quot;200&quot;, &quot;purpose&quot;: &quot;\\uc0dd\\ud65c\\ubc29\\ubc94&quot;, &quot;tel&quot;: &quot;055-330-4741&quot;}, &quot;type&quot;: &quot;Feature&quot;}, {&quot;bbox&quot;: [128.9054653, 35.2478965, 128.9054653, 35.2478965], &quot;geometry&quot;: {&quot;coordinates&quot;: [128.9054653, 35.2478965], &quot;type&quot;: &quot;Point&quot;}, &quot;id&quot;: &quot;20&quot;, &quot;properties&quot;: {&quot;__folium_color&quot;: &quot;red&quot;, &quot;addr_jb&quot;: &quot;\\uacbd\\uc0c1\\ub0a8\\ub3c4 \\uae40\\ud574\\uc2dc \\uc0bc\\ubc29\\ub3d9 158-14&quot;, &quot;addr_rd&quot;: null, &quot;admin_nm&quot;: &quot;\\uacbd\\uc0c1\\ub0a8\\ub3c4 \\uae40\\ud574\\uc2dc\\uccad&quot;, &quot;cctv_cnt&quot;: &quot;1&quot;, &quot;date_install&quot;: &quot;2019-09&quot;, &quot;date_make&quot;: &quot;2019-06-26&quot;, &quot;direction&quot;: &quot;\\uc601\\ub0a8\\ube4c&quot;, &quot;lat&quot;: 35.247822, &quot;lat2&quot;: 35.2478965, &quot;lon&quot;: 128.905473, &quot;lon2&quot;: 128.9054653, &quot;offer_admin_cd&quot;: &quot;5350000&quot;, &quot;offer_admin_nm&quot;: &quot;\\uacbd\\uc0c1\\ub0a8\\ub3c4 \\uae40\\ud574\\uc2dc&quot;, &quot;period&quot;: &quot;30&quot;, &quot;pixel&quot;: &quot;200&quot;, &quot;purpose&quot;: &quot;\\uc0dd\\ud65c\\ubc29\\ubc94&quot;, &quot;tel&quot;: &quot;055-330-4741&quot;}, &quot;type&quot;: &quot;Feature&quot;}, {&quot;bbox&quot;: [128.904837, 35.2476202, 128.904837, 35.2476202], &quot;geometry&quot;: {&quot;coordinates&quot;: [128.904837, 35.2476202], &quot;type&quot;: &quot;Point&quot;}, &quot;id&quot;: &quot;21&quot;, &quot;properties&quot;: {&quot;__folium_color&quot;: &quot;red&quot;, &quot;addr_jb&quot;: &quot;\\uacbd\\uc0c1\\ub0a8\\ub3c4 \\uae40\\ud574\\uc2dc \\uc0bc\\ubc29\\ub3d9 161-1&quot;, &quot;addr_rd&quot;: null, &quot;admin_nm&quot;: &quot;\\uacbd\\uc0c1\\ub0a8\\ub3c4 \\uae40\\ud574\\uc2dc\\uccad&quot;, &quot;cctv_cnt&quot;: &quot;2&quot;, &quot;date_install&quot;: &quot;2019-09&quot;, &quot;date_make&quot;: &quot;2019-06-26&quot;, &quot;direction&quot;: &quot;\\ub2e4\\uc778\\uc5b4\\ub9b0\\uc774\\uc9d1&quot;, &quot;lat&quot;: 35.24759769, &quot;lat2&quot;: 35.2476202, &quot;lon&quot;: 128.9048061, &quot;lon2&quot;: 128.904837, &quot;offer_admin_cd&quot;: &quot;5350000&quot;, &quot;offer_admin_nm&quot;: &quot;\\uacbd\\uc0c1\\ub0a8\\ub3c4 \\uae40\\ud574\\uc2dc&quot;, &quot;period&quot;: &quot;30&quot;, &quot;pixel&quot;: &quot;200&quot;, &quot;purpose&quot;: &quot;\\uc0dd\\ud65c\\ubc29\\ubc94&quot;, &quot;tel&quot;: &quot;055-330-4741&quot;}, &quot;type&quot;: &quot;Feature&quot;}, {&quot;bbox&quot;: [128.9130002, 35.2478253, 128.9130002, 35.2478253], &quot;geometry&quot;: {&quot;coordinates&quot;: [128.9130002, 35.2478253], &quot;type&quot;: &quot;Point&quot;}, &quot;id&quot;: &quot;22&quot;, &quot;properties&quot;: {&quot;__folium_color&quot;: &quot;red&quot;, &quot;addr_jb&quot;: &quot;\\uacbd\\uc0c1\\ub0a8\\ub3c4 \\uae40\\ud574\\uc2dc \\uc0bc\\ubc29\\ub3d9 221-3&quot;, &quot;addr_rd&quot;: null, &quot;admin_nm&quot;: &quot;\\uacbd\\uc0c1\\ub0a8\\ub3c4 \\uae40\\ud574\\uc2dc\\uccad&quot;, &quot;cctv_cnt&quot;: &quot;3&quot;, &quot;date_install&quot;: &quot;2019-12&quot;, &quot;date_make&quot;: &quot;2019-06-26&quot;, &quot;direction&quot;: &quot;\\ub3d9\\uc6d0\\uc544\\ud30c\\ud2b8\\ub4a4&quot;, &quot;lat&quot;: 35.24783964, &quot;lat2&quot;: 35.2478253, &quot;lon&quot;: 128.913087, &quot;lon2&quot;: 128.9130002, &quot;offer_admin_cd&quot;: &quot;5350000&quot;, &quot;offer_admin_nm&quot;: &quot;\\uacbd\\uc0c1\\ub0a8\\ub3c4 \\uae40\\ud574\\uc2dc&quot;, &quot;period&quot;: &quot;30&quot;, &quot;pixel&quot;: &quot;200&quot;, &quot;purpose&quot;: &quot;\\uc0dd\\ud65c\\ubc29\\ubc94&quot;, &quot;tel&quot;: &quot;055-330-4741&quot;}, &quot;type&quot;: &quot;Feature&quot;}, {&quot;bbox&quot;: [128.9135338, 35.2445331, 128.9135338, 35.2445331], &quot;geometry&quot;: {&quot;coordinates&quot;: [128.9135338, 35.2445331], &quot;type&quot;: &quot;Point&quot;}, &quot;id&quot;: &quot;23&quot;, &quot;properties&quot;: {&quot;__folium_color&quot;: &quot;red&quot;, &quot;addr_jb&quot;: &quot;\\uacbd\\uc0c1\\ub0a8\\ub3c4 \\uae40\\ud574\\uc2dc \\uc0bc\\ubc29\\ub3d9 233&quot;, &quot;addr_rd&quot;: null, &quot;admin_nm&quot;: &quot;\\uacbd\\uc0c1\\ub0a8\\ub3c4 \\uae40\\ud574\\uc2dc\\uccad&quot;, &quot;cctv_cnt&quot;: &quot;5&quot;, &quot;date_install&quot;: &quot;2019-12&quot;, &quot;date_make&quot;: &quot;2019-06-26&quot;, &quot;direction&quot;: &quot;\\uace0\\ucc9c\\uacf5\\uc6d0&quot;, &quot;lat&quot;: 35.24429473, &quot;lat2&quot;: 35.2445331, &quot;lon&quot;: 128.913552, &quot;lon2&quot;: 128.9135338, &quot;offer_admin_cd&quot;: &quot;5350000&quot;, &quot;offer_admin_nm&quot;: &quot;\\uacbd\\uc0c1\\ub0a8\\ub3c4 \\uae40\\ud574\\uc2dc&quot;, &quot;period&quot;: &quot;30&quot;, &quot;pixel&quot;: &quot;200&quot;, &quot;purpose&quot;: &quot;\\uc0dd\\ud65c\\ubc29\\ubc94&quot;, &quot;tel&quot;: &quot;055-330-4741&quot;}, &quot;type&quot;: &quot;Feature&quot;}, {&quot;bbox&quot;: [128.9184318, 35.2398465, 128.9184318, 35.2398465], &quot;geometry&quot;: {&quot;coordinates&quot;: [128.9184318, 35.2398465], &quot;type&quot;: &quot;Point&quot;}, &quot;id&quot;: &quot;24&quot;, &quot;properties&quot;: {&quot;__folium_color&quot;: &quot;red&quot;, &quot;addr_jb&quot;: &quot;\\uacbd\\uc0c1\\ub0a8\\ub3c4 \\uae40\\ud574\\uc2dc \\uc548\\ub3d9 88&quot;, &quot;addr_rd&quot;: null, &quot;admin_nm&quot;: &quot;\\uacbd\\uc0c1\\ub0a8\\ub3c4 \\uae40\\ud574\\uc2dc\\uccad&quot;, &quot;cctv_cnt&quot;: &quot;3&quot;, &quot;date_install&quot;: &quot;2019-05&quot;, &quot;date_make&quot;: &quot;2019-06-26&quot;, &quot;direction&quot;: &quot;\\uc804\\uc6d0\\uc720\\uce58\\uc6d0&quot;, &quot;lat&quot;: 35.23992022, &quot;lat2&quot;: 35.2398465, &quot;lon&quot;: 128.9184581, &quot;lon2&quot;: 128.9184318, &quot;offer_admin_cd&quot;: &quot;5350000&quot;, &quot;offer_admin_nm&quot;: &quot;\\uacbd\\uc0c1\\ub0a8\\ub3c4 \\uae40\\ud574\\uc2dc&quot;, &quot;period&quot;: &quot;30&quot;, &quot;pixel&quot;: &quot;200&quot;, &quot;purpose&quot;: &quot;\\uc0dd\\ud65c\\ubc29\\ubc94&quot;, &quot;tel&quot;: &quot;055-330-4741&quot;}, &quot;type&quot;: &quot;Feature&quot;}, {&quot;bbox&quot;: [128.913565, 35.2419466, 128.913565, 35.2419466], &quot;geometry&quot;: {&quot;coordinates&quot;: [128.913565, 35.2419466], &quot;type&quot;: &quot;Point&quot;}, &quot;id&quot;: &quot;25&quot;, &quot;properties&quot;: {&quot;__folium_color&quot;: &quot;red&quot;, &quot;addr_jb&quot;: &quot;\\uacbd\\uc0c1\\ub0a8\\ub3c4 \\uae40\\ud574\\uc2dc \\uc0bc\\ubc29\\ub3d9 30-17&quot;, &quot;addr_rd&quot;: null, &quot;admin_nm&quot;: &quot;\\uacbd\\uc0c1\\ub0a8\\ub3c4 \\uae40\\ud574\\uc2dc\\uccad&quot;, &quot;cctv_cnt&quot;: &quot;2&quot;, &quot;date_install&quot;: &quot;2019-04&quot;, &quot;date_make&quot;: &quot;2019-06-26&quot;, &quot;direction&quot;: &quot;\\ub2ec\\uc131\\ube4c\\ub77c&quot;, &quot;lat&quot;: 35.241962, &quot;lat2&quot;: 35.2419466, &quot;lon&quot;: 128.9135625, &quot;lon2&quot;: 128.913565, &quot;offer_admin_cd&quot;: &quot;5350000&quot;, &quot;offer_admin_nm&quot;: &quot;\\uacbd\\uc0c1\\ub0a8\\ub3c4 \\uae40\\ud574\\uc2dc&quot;, &quot;period&quot;: &quot;30&quot;, &quot;pixel&quot;: &quot;200&quot;, &quot;purpose&quot;: &quot;\\uc0dd\\ud65c\\ubc29\\ubc94&quot;, &quot;tel&quot;: &quot;055-330-4741&quot;}, &quot;type&quot;: &quot;Feature&quot;}, {&quot;bbox&quot;: [128.9062685, 35.2466917, 128.9062685, 35.2466917], &quot;geometry&quot;: {&quot;coordinates&quot;: [128.9062685, 35.2466917], &quot;type&quot;: &quot;Point&quot;}, &quot;id&quot;: &quot;26&quot;, &quot;properties&quot;: {&quot;__folium_color&quot;: &quot;red&quot;, &quot;addr_jb&quot;: &quot;\\uacbd\\uc0c1\\ub0a8\\ub3c4 \\uae40\\ud574\\uc2dc \\uc0bc\\ubc29\\ub3d9 168-7&quot;, &quot;addr_rd&quot;: null, &quot;admin_nm&quot;: &quot;\\uacbd\\uc0c1\\ub0a8\\ub3c4 \\uae40\\ud574\\uc2dc\\uccad&quot;, &quot;cctv_cnt&quot;: &quot;2&quot;, &quot;date_install&quot;: &quot;2019-12&quot;, &quot;date_make&quot;: &quot;2019-06-26&quot;, &quot;direction&quot;: &quot;\\uc0bc\\ubc29\\ube4c&quot;, &quot;lat&quot;: 35.24668073, &quot;lat2&quot;: 35.2466917, &quot;lon&quot;: 128.9062654, &quot;lon2&quot;: 128.9062685, &quot;offer_admin_cd&quot;: &quot;5350000&quot;, &quot;offer_admin_nm&quot;: &quot;\\uacbd\\uc0c1\\ub0a8\\ub3c4 \\uae40\\ud574\\uc2dc&quot;, &quot;period&quot;: &quot;30&quot;, &quot;pixel&quot;: &quot;200&quot;, &quot;purpose&quot;: &quot;\\uc0dd\\ud65c\\ubc29\\ubc94&quot;, &quot;tel&quot;: &quot;055-330-4741&quot;}, &quot;type&quot;: &quot;Feature&quot;}, {&quot;bbox&quot;: [128.9157215, 35.2428518, 128.9157215, 35.2428518], &quot;geometry&quot;: {&quot;coordinates&quot;: [128.9157215, 35.2428518], &quot;type&quot;: &quot;Point&quot;}, &quot;id&quot;: &quot;27&quot;, &quot;properties&quot;: {&quot;__folium_color&quot;: &quot;red&quot;, &quot;addr_jb&quot;: &quot;\\uacbd\\uc0c1\\ub0a8\\ub3c4 \\uae40\\ud574\\uc2dc \\uc0bc\\ubc29\\ub3d9 20-26&quot;, &quot;addr_rd&quot;: null, &quot;admin_nm&quot;: &quot;\\uacbd\\uc0c1\\ub0a8\\ub3c4 \\uae40\\ud574\\uc2dc\\uccad&quot;, &quot;cctv_cnt&quot;: &quot;2&quot;, &quot;date_install&quot;: &quot;2019-06&quot;, &quot;date_make&quot;: &quot;2019-06-26&quot;, &quot;direction&quot;: &quot;\\uc0bc\\ud638\\ube4c\\ub77c&quot;, &quot;lat&quot;: 35.24279985, &quot;lat2&quot;: 35.2428518, &quot;lon&quot;: 128.9157621, &quot;lon2&quot;: 128.9157215, &quot;offer_admin_cd&quot;: &quot;5350000&quot;, &quot;offer_admin_nm&quot;: &quot;\\uacbd\\uc0c1\\ub0a8\\ub3c4 \\uae40\\ud574\\uc2dc&quot;, &quot;period&quot;: &quot;30&quot;, &quot;pixel&quot;: &quot;200&quot;, &quot;purpose&quot;: &quot;\\uc0dd\\ud65c\\ubc29\\ubc94&quot;, &quot;tel&quot;: &quot;055-330-4741&quot;}, &quot;type&quot;: &quot;Feature&quot;}, {&quot;bbox&quot;: [128.9096594, 35.2532098, 128.9096594, 35.2532098], &quot;geometry&quot;: {&quot;coordinates&quot;: [128.9096594, 35.2532098], &quot;type&quot;: &quot;Point&quot;}, &quot;id&quot;: &quot;28&quot;, &quot;properties&quot;: {&quot;__folium_color&quot;: &quot;red&quot;, &quot;addr_jb&quot;: &quot;\\uacbd\\uc0c1\\ub0a8\\ub3c4 \\uae40\\ud574\\uc2dc \\uc0bc\\ubc29\\ub3d9 651-1&quot;, &quot;addr_rd&quot;: null, &quot;admin_nm&quot;: &quot;\\uacbd\\uc0c1\\ub0a8\\ub3c4 \\uae40\\ud574\\uc2dc\\uccad&quot;, &quot;cctv_cnt&quot;: &quot;3&quot;, &quot;date_install&quot;: &quot;2019-06&quot;, &quot;date_make&quot;: &quot;2019-06-26&quot;, &quot;direction&quot;: &quot;\\ud604\\ub300\\ube4c\\ub77c&quot;, &quot;lat&quot;: 35.25322025, &quot;lat2&quot;: 35.2532098, &quot;lon&quot;: 128.909625, &quot;lon2&quot;: 128.9096594, &quot;offer_admin_cd&quot;: &quot;5350000&quot;, &quot;offer_admin_nm&quot;: &quot;\\uacbd\\uc0c1\\ub0a8\\ub3c4 \\uae40\\ud574\\uc2dc&quot;, &quot;period&quot;: &quot;30&quot;, &quot;pixel&quot;: &quot;200&quot;, &quot;purpose&quot;: &quot;\\uc0dd\\ud65c\\ubc29\\ubc94&quot;, &quot;tel&quot;: &quot;055-330-4741&quot;}, &quot;type&quot;: &quot;Feature&quot;}, {&quot;bbox&quot;: [128.9064939, 35.2501325, 128.9064939, 35.2501325], &quot;geometry&quot;: {&quot;coordinates&quot;: [128.9064939, 35.2501325], &quot;type&quot;: &quot;Point&quot;}, &quot;id&quot;: &quot;29&quot;, &quot;properties&quot;: {&quot;__folium_color&quot;: &quot;red&quot;, &quot;addr_jb&quot;: &quot;\\uacbd\\uc0c1\\ub0a8\\ub3c4 \\uae40\\ud574\\uc2dc \\uc0bc\\ubc29\\ub3d9 579-1&quot;, &quot;addr_rd&quot;: null, &quot;admin_nm&quot;: &quot;\\uacbd\\uc0c1\\ub0a8\\ub3c4 \\uae40\\ud574\\uc2dc\\uccad&quot;, &quot;cctv_cnt&quot;: &quot;4&quot;, &quot;date_install&quot;: &quot;2019-05&quot;, &quot;date_make&quot;: &quot;2019-06-26&quot;, &quot;direction&quot;: &quot;\\ud6fc\\ubbf8\\ub9ac\\ub9c8\\ud2b8&quot;, &quot;lat&quot;: 35.25013797, &quot;lat2&quot;: 35.2501325, &quot;lon&quot;: 128.906406, &quot;lon2&quot;: 128.9064939, &quot;offer_admin_cd&quot;: &quot;5350000&quot;, &quot;offer_admin_nm&quot;: &quot;\\uacbd\\uc0c1\\ub0a8\\ub3c4 \\uae40\\ud574\\uc2dc&quot;, &quot;period&quot;: &quot;30&quot;, &quot;pixel&quot;: &quot;200&quot;, &quot;purpose&quot;: &quot;\\uc0dd\\ud65c\\ubc29\\ubc94&quot;, &quot;tel&quot;: &quot;055-330-4741&quot;}, &quot;type&quot;: &quot;Feature&quot;}, {&quot;bbox&quot;: [128.9091725, 35.2500057, 128.9091725, 35.2500057], &quot;geometry&quot;: {&quot;coordinates&quot;: [128.9091725, 35.2500057], &quot;type&quot;: &quot;Point&quot;}, &quot;id&quot;: &quot;30&quot;, &quot;properties&quot;: {&quot;__folium_color&quot;: &quot;red&quot;, &quot;addr_jb&quot;: &quot;\\uacbd\\uc0c1\\ub0a8\\ub3c4 \\uae40\\ud574\\uc2dc \\uc0bc\\ubc29\\ub3d9 670-1&quot;, &quot;addr_rd&quot;: null, &quot;admin_nm&quot;: &quot;\\uacbd\\uc0c1\\ub0a8\\ub3c4 \\uae40\\ud574\\uc2dc\\uccad&quot;, &quot;cctv_cnt&quot;: &quot;3&quot;, &quot;date_install&quot;: &quot;2019-05&quot;, &quot;date_make&quot;: &quot;2019-06-26&quot;, &quot;direction&quot;: &quot;\\uc0bc\\ubc29\\uacf5\\uc601\\uc8fc\\ucc28\\uc7a5&quot;, &quot;lat&quot;: 35.25001984, &quot;lat2&quot;: 35.2500057, &quot;lon&quot;: 128.9091648, &quot;lon2&quot;: 128.9091725, &quot;offer_admin_cd&quot;: &quot;5350000&quot;, &quot;offer_admin_nm&quot;: &quot;\\uacbd\\uc0c1\\ub0a8\\ub3c4 \\uae40\\ud574\\uc2dc&quot;, &quot;period&quot;: &quot;30&quot;, &quot;pixel&quot;: &quot;200&quot;, &quot;purpose&quot;: &quot;\\uc0dd\\ud65c\\ubc29\\ubc94&quot;, &quot;tel&quot;: &quot;055-330-4741&quot;}, &quot;type&quot;: &quot;Feature&quot;}, {&quot;bbox&quot;: [128.9126529, 35.2469184, 128.9126529, 35.2469184], &quot;geometry&quot;: {&quot;coordinates&quot;: [128.9126529, 35.2469184], &quot;type&quot;: &quot;Point&quot;}, &quot;id&quot;: &quot;31&quot;, &quot;properties&quot;: {&quot;__folium_color&quot;: &quot;red&quot;, &quot;addr_jb&quot;: &quot;\\uacbd\\uc0c1\\ub0a8\\ub3c4 \\uae40\\ud574\\uc2dc \\uc0bc\\ubc29\\ub3d9 219-5&quot;, &quot;addr_rd&quot;: null, &quot;admin_nm&quot;: &quot;\\uacbd\\uc0c1\\ub0a8\\ub3c4 \\uae40\\ud574\\uc2dc\\uccad&quot;, &quot;cctv_cnt&quot;: &quot;2&quot;, &quot;date_install&quot;: &quot;2019-05&quot;, &quot;date_make&quot;: &quot;2019-06-26&quot;, &quot;direction&quot;: &quot;\\uc0bc\\ubc29\\ube4c\\ub77c&quot;, &quot;lat&quot;: 35.24694033, &quot;lat2&quot;: 35.2469184, &quot;lon&quot;: 128.9126562, &quot;lon2&quot;: 128.9126529, &quot;offer_admin_cd&quot;: &quot;5350000&quot;, &quot;offer_admin_nm&quot;: &quot;\\uacbd\\uc0c1\\ub0a8\\ub3c4 \\uae40\\ud574\\uc2dc&quot;, &quot;period&quot;: &quot;30&quot;, &quot;pixel&quot;: &quot;200&quot;, &quot;purpose&quot;: &quot;\\uc0dd\\ud65c\\ubc29\\ubc94&quot;, &quot;tel&quot;: &quot;055-330-4741&quot;}, &quot;type&quot;: &quot;Feature&quot;}, {&quot;bbox&quot;: [128.9045545, 35.2473256, 128.9045545, 35.2473256], &quot;geometry&quot;: {&quot;coordinates&quot;: [128.9045545, 35.2473256], &quot;type&quot;: &quot;Point&quot;}, &quot;id&quot;: &quot;32&quot;, &quot;properties&quot;: {&quot;__folium_color&quot;: &quot;red&quot;, &quot;addr_jb&quot;: &quot;\\uacbd\\uc0c1\\ub0a8\\ub3c4 \\uae40\\ud574\\uc2dc \\uc0bc\\ubc29\\ub3d9 250&quot;, &quot;addr_rd&quot;: null, &quot;admin_nm&quot;: &quot;\\uacbd\\uc0c1\\ub0a8\\ub3c4 \\uae40\\ud574\\uc2dc\\uccad&quot;, &quot;cctv_cnt&quot;: &quot;2&quot;, &quot;date_install&quot;: &quot;2019-05&quot;, &quot;date_make&quot;: &quot;2019-06-26&quot;, &quot;direction&quot;: &quot;\\ud6c4\\uc9c0\\uc6b0\\ub3d9&quot;, &quot;lat&quot;: 35.247426, &quot;lat2&quot;: 35.2473256, &quot;lon&quot;: 128.904531, &quot;lon2&quot;: 128.9045545, &quot;offer_admin_cd&quot;: &quot;5350000&quot;, &quot;offer_admin_nm&quot;: &quot;\\uacbd\\uc0c1\\ub0a8\\ub3c4 \\uae40\\ud574\\uc2dc&quot;, &quot;period&quot;: &quot;30&quot;, &quot;pixel&quot;: &quot;200&quot;, &quot;purpose&quot;: &quot;\\uc0dd\\ud65c\\ubc29\\ubc94&quot;, &quot;tel&quot;: &quot;055-330-4741&quot;}, &quot;type&quot;: &quot;Feature&quot;}, {&quot;bbox&quot;: [128.9116778, 35.2444048, 128.9116778, 35.2444048], &quot;geometry&quot;: {&quot;coordinates&quot;: [128.9116778, 35.2444048], &quot;type&quot;: &quot;Point&quot;}, &quot;id&quot;: &quot;33&quot;, &quot;properties&quot;: {&quot;__folium_color&quot;: &quot;red&quot;, &quot;addr_jb&quot;: &quot;\\uacbd\\uc0c1\\ub0a8\\ub3c4 \\uae40\\ud574\\uc2dc \\uc0bc\\ubc29\\ub3d9 311&quot;, &quot;addr_rd&quot;: null, &quot;admin_nm&quot;: &quot;\\uacbd\\uc0c1\\ub0a8\\ub3c4 \\uae40\\ud574\\uc2dc\\uccad&quot;, &quot;cctv_cnt&quot;: &quot;3&quot;, &quot;date_install&quot;: &quot;2019-04&quot;, &quot;date_make&quot;: &quot;2019-06-26&quot;, &quot;direction&quot;: &quot;\\uce60\\uc554\\ub3c4\\uc11c\\uad00\\ub4a4&quot;, &quot;lat&quot;: 35.24422, &quot;lat2&quot;: 35.2444048, &quot;lon&quot;: 128.910958, &quot;lon2&quot;: 128.9116778, &quot;offer_admin_cd&quot;: &quot;5350000&quot;, &quot;offer_admin_nm&quot;: &quot;\\uacbd\\uc0c1\\ub0a8\\ub3c4 \\uae40\\ud574\\uc2dc&quot;, &quot;period&quot;: &quot;30&quot;, &quot;pixel&quot;: &quot;200&quot;, &quot;purpose&quot;: &quot;\\uc0dd\\ud65c\\ubc29\\ubc94&quot;, &quot;tel&quot;: &quot;055-330-4741&quot;}, &quot;type&quot;: &quot;Feature&quot;}, {&quot;bbox&quot;: [128.918251, 35.2363734, 128.918251, 35.2363734], &quot;geometry&quot;: {&quot;coordinates&quot;: [128.918251, 35.2363734], &quot;type&quot;: &quot;Point&quot;}, &quot;id&quot;: &quot;34&quot;, &quot;properties&quot;: {&quot;__folium_color&quot;: &quot;red&quot;, &quot;addr_jb&quot;: &quot;\\uacbd\\uc0c1\\ub0a8\\ub3c4 \\uae40\\ud574\\uc2dc \\uc548\\ub3d9 730&quot;, &quot;addr_rd&quot;: null, &quot;admin_nm&quot;: &quot;\\uacbd\\uc0c1\\ub0a8\\ub3c4 \\uae40\\ud574\\uc2dc\\uccad&quot;, &quot;cctv_cnt&quot;: &quot;2&quot;, &quot;date_install&quot;: &quot;2019-04&quot;, &quot;date_make&quot;: &quot;2019-06-26&quot;, &quot;direction&quot;: &quot;\\uace8\\ubaa9\\uc0c1\\ud68c&quot;, &quot;lat&quot;: 35.237171, &quot;lat2&quot;: 35.2363734, &quot;lon&quot;: 128.918156, &quot;lon2&quot;: 128.918251, &quot;offer_admin_cd&quot;: &quot;5350000&quot;, &quot;offer_admin_nm&quot;: &quot;\\uacbd\\uc0c1\\ub0a8\\ub3c4 \\uae40\\ud574\\uc2dc&quot;, &quot;period&quot;: &quot;30&quot;, &quot;pixel&quot;: &quot;200&quot;, &quot;purpose&quot;: &quot;\\uc0dd\\ud65c\\ubc29\\ubc94&quot;, &quot;tel&quot;: &quot;055-330-4741&quot;}, &quot;type&quot;: &quot;Feature&quot;}, {&quot;bbox&quot;: [128.9040144, 35.2511592, 128.9040144, 35.2511592], &quot;geometry&quot;: {&quot;coordinates&quot;: [128.9040144, 35.2511592], &quot;type&quot;: &quot;Point&quot;}, &quot;id&quot;: &quot;35&quot;, &quot;properties&quot;: {&quot;__folium_color&quot;: &quot;red&quot;, &quot;addr_jb&quot;: &quot;\\uacbd\\uc0c1\\ub0a8\\ub3c4 \\uae40\\ud574\\uc2dc \\uc0bc\\ubc29\\ub3d9 574-2&quot;, &quot;addr_rd&quot;: null, &quot;admin_nm&quot;: &quot;\\uacbd\\uc0c1\\ub0a8\\ub3c4 \\uae40\\ud574\\uc2dc\\uccad&quot;, &quot;cctv_cnt&quot;: &quot;2&quot;, &quot;date_install&quot;: &quot;2019-12&quot;, &quot;date_make&quot;: &quot;2019-06-26&quot;, &quot;direction&quot;: &quot;\\uace8\\ub4e0\\ube45\\uc2a4\\ud154&quot;, &quot;lat&quot;: 35.251273, &quot;lat2&quot;: 35.2511592, &quot;lon&quot;: 128.904102, &quot;lon2&quot;: 128.9040144, &quot;offer_admin_cd&quot;: &quot;5350000&quot;, &quot;offer_admin_nm&quot;: &quot;\\uacbd\\uc0c1\\ub0a8\\ub3c4 \\uae40\\ud574\\uc2dc&quot;, &quot;period&quot;: &quot;30&quot;, &quot;pixel&quot;: &quot;200&quot;, &quot;purpose&quot;: &quot;\\uc0dd\\ud65c\\ubc29\\ubc94&quot;, &quot;tel&quot;: &quot;055-330-4741&quot;}, &quot;type&quot;: &quot;Feature&quot;}, {&quot;bbox&quot;: [128.9044054, 35.250824, 128.9044054, 35.250824], &quot;geometry&quot;: {&quot;coordinates&quot;: [128.9044054, 35.250824], &quot;type&quot;: &quot;Point&quot;}, &quot;id&quot;: &quot;36&quot;, &quot;properties&quot;: {&quot;__folium_color&quot;: &quot;red&quot;, &quot;addr_jb&quot;: &quot;\\uacbd\\uc0c1\\ub0a8\\ub3c4 \\uae40\\ud574\\uc2dc \\uc0bc\\ubc29\\ub3d9 575-5&quot;, &quot;addr_rd&quot;: null, &quot;admin_nm&quot;: &quot;\\uacbd\\uc0c1\\ub0a8\\ub3c4 \\uae40\\ud574\\uc2dc\\uccad&quot;, &quot;cctv_cnt&quot;: &quot;2&quot;, &quot;date_install&quot;: &quot;2019-04&quot;, &quot;date_make&quot;: &quot;2019-06-26&quot;, &quot;direction&quot;: &quot;\\uc601\\uc8fc\\uae4c\\uce58\\ube4c\\ub77c&quot;, &quot;lat&quot;: 35.250827, &quot;lat2&quot;: 35.250824, &quot;lon&quot;: 128.9042924, &quot;lon2&quot;: 128.9044054, &quot;offer_admin_cd&quot;: &quot;5350000&quot;, &quot;offer_admin_nm&quot;: &quot;\\uacbd\\uc0c1\\ub0a8\\ub3c4 \\uae40\\ud574\\uc2dc&quot;, &quot;period&quot;: &quot;30&quot;, &quot;pixel&quot;: &quot;200&quot;, &quot;purpose&quot;: &quot;\\uc0dd\\ud65c\\ubc29\\ubc94&quot;, &quot;tel&quot;: &quot;055-330-4741&quot;}, &quot;type&quot;: &quot;Feature&quot;}, {&quot;bbox&quot;: [128.9054544, 35.2500831, 128.9054544, 35.2500831], &quot;geometry&quot;: {&quot;coordinates&quot;: [128.9054544, 35.2500831], &quot;type&quot;: &quot;Point&quot;}, &quot;id&quot;: &quot;37&quot;, &quot;properties&quot;: {&quot;__folium_color&quot;: &quot;red&quot;, &quot;addr_jb&quot;: &quot;\\uacbd\\uc0c1\\ub0a8\\ub3c4 \\uae40\\ud574\\uc2dc \\uc0bc\\ubc29\\ub3d9 581-1&quot;, &quot;addr_rd&quot;: null, &quot;admin_nm&quot;: &quot;\\uacbd\\uc0c1\\ub0a8\\ub3c4 \\uae40\\ud574\\uc2dc\\uccad&quot;, &quot;cctv_cnt&quot;: &quot;2&quot;, &quot;date_install&quot;: &quot;2019-04&quot;, &quot;date_make&quot;: &quot;2019-06-26&quot;, &quot;direction&quot;: &quot;\\uc0bc\\ubc29\\ud558\\ub298\\ube4c&quot;, &quot;lat&quot;: 35.25006748, &quot;lat2&quot;: 35.2500831, &quot;lon&quot;: 128.9054571, &quot;lon2&quot;: 128.9054544, &quot;offer_admin_cd&quot;: &quot;5350000&quot;, &quot;offer_admin_nm&quot;: &quot;\\uacbd\\uc0c1\\ub0a8\\ub3c4 \\uae40\\ud574\\uc2dc&quot;, &quot;period&quot;: &quot;30&quot;, &quot;pixel&quot;: &quot;200&quot;, &quot;purpose&quot;: &quot;\\uc0dd\\ud65c\\ubc29\\ubc94&quot;, &quot;tel&quot;: &quot;055-330-4741&quot;}, &quot;type&quot;: &quot;Feature&quot;}, {&quot;bbox&quot;: [128.9049209, 35.2496584, 128.9049209, 35.2496584], &quot;geometry&quot;: {&quot;coordinates&quot;: [128.9049209, 35.2496584], &quot;type&quot;: &quot;Point&quot;}, &quot;id&quot;: &quot;38&quot;, &quot;properties&quot;: {&quot;__folium_color&quot;: &quot;red&quot;, &quot;addr_jb&quot;: &quot;\\uacbd\\uc0c1\\ub0a8\\ub3c4 \\uae40\\ud574\\uc2dc \\uc0bc\\ubc29\\ub3d9 592-4&quot;, &quot;addr_rd&quot;: null, &quot;admin_nm&quot;: &quot;\\uacbd\\uc0c1\\ub0a8\\ub3c4 \\uae40\\ud574\\uc2dc\\uccad&quot;, &quot;cctv_cnt&quot;: &quot;2&quot;, &quot;date_install&quot;: &quot;2019-12&quot;, &quot;date_make&quot;: &quot;2019-06-26&quot;, &quot;direction&quot;: &quot;\\uc2e0\\uc5b41\\uacf5\\uc6d0&quot;, &quot;lat&quot;: 35.249668, &quot;lat2&quot;: 35.2496584, &quot;lon&quot;: 128.904737, &quot;lon2&quot;: 128.9049209, &quot;offer_admin_cd&quot;: &quot;5350000&quot;, &quot;offer_admin_nm&quot;: &quot;\\uacbd\\uc0c1\\ub0a8\\ub3c4 \\uae40\\ud574\\uc2dc&quot;, &quot;period&quot;: &quot;30&quot;, &quot;pixel&quot;: &quot;200&quot;, &quot;purpose&quot;: &quot;\\uc0dd\\ud65c\\ubc29\\ubc94&quot;, &quot;tel&quot;: &quot;055-330-4741&quot;}, &quot;type&quot;: &quot;Feature&quot;}, {&quot;bbox&quot;: [128.9291435, 35.2212634, 128.9291435, 35.2212634], &quot;geometry&quot;: {&quot;coordinates&quot;: [128.9291435, 35.2212634], &quot;type&quot;: &quot;Point&quot;}, &quot;id&quot;: &quot;39&quot;, &quot;properties&quot;: {&quot;__folium_color&quot;: &quot;red&quot;, &quot;addr_jb&quot;: &quot;\\uacbd\\uc0c1\\ub0a8\\ub3c4 \\uae40\\ud574\\uc2dc \\ubd88\\uc554\\ub3d9 451-26&quot;, &quot;addr_rd&quot;: null, &quot;admin_nm&quot;: &quot;\\uacbd\\uc0c1\\ub0a8\\ub3c4 \\uae40\\ud574\\uc2dc\\uccad&quot;, &quot;cctv_cnt&quot;: &quot;4&quot;, &quot;date_install&quot;: &quot;2019-12&quot;, &quot;date_make&quot;: &quot;2019-06-26&quot;, &quot;direction&quot;: &quot;\\uae40\\ud574\\uad50&quot;, &quot;lat&quot;: 35.221221, &quot;lat2&quot;: 35.2212634, &quot;lon&quot;: 128.929263, &quot;lon2&quot;: 128.9291435, &quot;offer_admin_cd&quot;: &quot;5350000&quot;, &quot;offer_admin_nm&quot;: &quot;\\uacbd\\uc0c1\\ub0a8\\ub3c4 \\uae40\\ud574\\uc2dc&quot;, &quot;period&quot;: &quot;30&quot;, &quot;pixel&quot;: &quot;200&quot;, &quot;purpose&quot;: &quot;\\uc0dd\\ud65c\\ubc29\\ubc94&quot;, &quot;tel&quot;: &quot;055-330-4741&quot;}, &quot;type&quot;: &quot;Feature&quot;}, {&quot;bbox&quot;: [128.9248907, 35.2283366, 128.9248907, 35.2283366], &quot;geometry&quot;: {&quot;coordinates&quot;: [128.9248907, 35.2283366], &quot;type&quot;: &quot;Point&quot;}, &quot;id&quot;: &quot;40&quot;, &quot;properties&quot;: {&quot;__folium_color&quot;: &quot;red&quot;, &quot;addr_jb&quot;: &quot;\\uacbd\\uc0c1\\ub0a8\\ub3c4 \\uae40\\ud574\\uc2dc \\uc9c0\\ub0b4\\ub3d9 88-1&quot;, &quot;addr_rd&quot;: null, &quot;admin_nm&quot;: &quot;\\uacbd\\uc0c1\\ub0a8\\ub3c4 \\uae40\\ud574\\uc2dc\\uccad&quot;, &quot;cctv_cnt&quot;: &quot;3&quot;, &quot;date_install&quot;: &quot;2019-04&quot;, &quot;date_make&quot;: &quot;2019-06-26&quot;, &quot;direction&quot;: &quot;\\ud574\\uacbd\\uc0ac\\uc785\\uad6c&quot;, &quot;lat&quot;: 35.229206, &quot;lat2&quot;: 35.2283366, &quot;lon&quot;: 128.924949, &quot;lon2&quot;: 128.9248907, &quot;offer_admin_cd&quot;: &quot;5350000&quot;, &quot;offer_admin_nm&quot;: &quot;\\uacbd\\uc0c1\\ub0a8\\ub3c4 \\uae40\\ud574\\uc2dc&quot;, &quot;period&quot;: &quot;30&quot;, &quot;pixel&quot;: &quot;200&quot;, &quot;purpose&quot;: &quot;\\uc0dd\\ud65c\\ubc29\\ubc94&quot;, &quot;tel&quot;: &quot;055-330-4741&quot;}, &quot;type&quot;: &quot;Feature&quot;}, {&quot;bbox&quot;: [128.9283547, 35.2258558, 128.9283547, 35.2258558], &quot;geometry&quot;: {&quot;coordinates&quot;: [128.9283547, 35.2258558], &quot;type&quot;: &quot;Point&quot;}, &quot;id&quot;: &quot;41&quot;, &quot;properties&quot;: {&quot;__folium_color&quot;: &quot;red&quot;, &quot;addr_jb&quot;: &quot;\\uacbd\\uc0c1\\ub0a8\\ub3c4 \\uae40\\ud574\\uc2dc \\ubd88\\uc554\\ub3d9 148-4&quot;, &quot;addr_rd&quot;: null, &quot;admin_nm&quot;: &quot;\\uacbd\\uc0c1\\ub0a8\\ub3c4 \\uae40\\ud574\\uc2dc\\uccad&quot;, &quot;cctv_cnt&quot;: &quot;2&quot;, &quot;date_install&quot;: &quot;2019-04&quot;, &quot;date_make&quot;: &quot;2019-06-26&quot;, &quot;direction&quot;: &quot;\\uc591\\uc7a5\\uace8\\ub4f1\\uc0b0\\ub85c&quot;, &quot;lat&quot;: 35.225847, &quot;lat2&quot;: 35.2258558, &quot;lon&quot;: 128.928344, &quot;lon2&quot;: 128.9283547, &quot;offer_admin_cd&quot;: &quot;5350000&quot;, &quot;offer_admin_nm&quot;: &quot;\\uacbd\\uc0c1\\ub0a8\\ub3c4 \\uae40\\ud574\\uc2dc&quot;, &quot;period&quot;: &quot;30&quot;, &quot;pixel&quot;: &quot;200&quot;, &quot;purpose&quot;: &quot;\\uc0dd\\ud65c\\ubc29\\ubc94&quot;, &quot;tel&quot;: &quot;055-330-4741&quot;}, &quot;type&quot;: &quot;Feature&quot;}, {&quot;bbox&quot;: [128.9248231, 35.2281998, 128.9248231, 35.2281998], &quot;geometry&quot;: {&quot;coordinates&quot;: [128.9248231, 35.2281998], &quot;type&quot;: &quot;Point&quot;}, &quot;id&quot;: &quot;42&quot;, &quot;properties&quot;: {&quot;__folium_color&quot;: &quot;red&quot;, &quot;addr_jb&quot;: &quot;\\uacbd\\uc0c1\\ub0a8\\ub3c4 \\uae40\\ud574\\uc2dc \\uc9c0\\ub0b4\\ub3d9 110-2&quot;, &quot;addr_rd&quot;: null, &quot;admin_nm&quot;: &quot;\\uacbd\\uc0c1\\ub0a8\\ub3c4 \\uae40\\ud574\\uc2dc\\uccad&quot;, &quot;cctv_cnt&quot;: &quot;4&quot;, &quot;date_install&quot;: &quot;2019-03&quot;, &quot;date_make&quot;: &quot;2019-06-26&quot;, &quot;direction&quot;: &quot;\\ubc30\\uc911\\uac1c\\ub9c8\\uc744&quot;, &quot;lat&quot;: 35.2282183765, &quot;lat2&quot;: 35.2281998, &quot;lon&quot;: 128.9248732, &quot;lon2&quot;: 128.9248231, &quot;offer_admin_cd&quot;: &quot;5350000&quot;, &quot;offer_admin_nm&quot;: &quot;\\uacbd\\uc0c1\\ub0a8\\ub3c4 \\uae40\\ud574\\uc2dc&quot;, &quot;period&quot;: &quot;30&quot;, &quot;pixel&quot;: &quot;200&quot;, &quot;purpose&quot;: &quot;\\uc0dd\\ud65c\\ubc29\\ubc94&quot;, &quot;tel&quot;: &quot;055-330-4741&quot;}, &quot;type&quot;: &quot;Feature&quot;}, {&quot;bbox&quot;: [128.921615, 35.228059, 128.921615, 35.228059], &quot;geometry&quot;: {&quot;coordinates&quot;: [128.921615, 35.228059], &quot;type&quot;: &quot;Point&quot;}, &quot;id&quot;: &quot;43&quot;, &quot;properties&quot;: {&quot;__folium_color&quot;: &quot;red&quot;, &quot;addr_jb&quot;: &quot;\\uacbd\\uc0c1\\ub0a8\\ub3c4 \\uae40\\ud574\\uc2dc \\uc9c0\\ub0b4\\ub3d9 196-19&quot;, &quot;addr_rd&quot;: null, &quot;admin_nm&quot;: &quot;\\uacbd\\uc0c1\\ub0a8\\ub3c4 \\uae40\\ud574\\uc2dc\\uccad&quot;, &quot;cctv_cnt&quot;: &quot;4&quot;, &quot;date_install&quot;: &quot;2019-03&quot;, &quot;date_make&quot;: &quot;2019-06-26&quot;, &quot;direction&quot;: &quot;\\uc790\\uc720\\uc2dd\\ub2f9&quot;, &quot;lat&quot;: 35.22806761, &quot;lat2&quot;: 35.228059, &quot;lon&quot;: 128.9216583, &quot;lon2&quot;: 128.921615, &quot;offer_admin_cd&quot;: &quot;5350000&quot;, &quot;offer_admin_nm&quot;: &quot;\\uacbd\\uc0c1\\ub0a8\\ub3c4 \\uae40\\ud574\\uc2dc&quot;, &quot;period&quot;: &quot;30&quot;, &quot;pixel&quot;: &quot;200&quot;, &quot;purpose&quot;: &quot;\\uc0dd\\ud65c\\ubc29\\ubc94&quot;, &quot;tel&quot;: &quot;055-330-4741&quot;}, &quot;type&quot;: &quot;Feature&quot;}, {&quot;bbox&quot;: [128.9204377, 35.2358859, 128.9204377, 35.2358859], &quot;geometry&quot;: {&quot;coordinates&quot;: [128.9204377, 35.2358859], &quot;type&quot;: &quot;Point&quot;}, &quot;id&quot;: &quot;44&quot;, &quot;properties&quot;: {&quot;__folium_color&quot;: &quot;red&quot;, &quot;addr_jb&quot;: &quot;\\uacbd\\uc0c1\\ub0a8\\ub3c4 \\uae40\\ud574\\uc2dc \\uc9c0\\ub0b4\\ub3d9 460-2&quot;, &quot;addr_rd&quot;: null, &quot;admin_nm&quot;: &quot;\\uacbd\\uc0c1\\ub0a8\\ub3c4 \\uae40\\ud574\\uc2dc\\uccad&quot;, &quot;cctv_cnt&quot;: &quot;3&quot;, &quot;date_install&quot;: &quot;2019-10&quot;, &quot;date_make&quot;: &quot;2019-06-26&quot;, &quot;direction&quot;: &quot;\\ub3d9\\uc8fc\\uc288\\ud37c&quot;, &quot;lat&quot;: 35.235895, &quot;lat2&quot;: 35.2358859, &quot;lon&quot;: 128.920171, &quot;lon2&quot;: 128.9204377, &quot;offer_admin_cd&quot;: &quot;5350000&quot;, &quot;offer_admin_nm&quot;: &quot;\\uacbd\\uc0c1\\ub0a8\\ub3c4 \\uae40\\ud574\\uc2dc&quot;, &quot;period&quot;: &quot;30&quot;, &quot;pixel&quot;: &quot;200&quot;, &quot;purpose&quot;: &quot;\\uc0dd\\ud65c\\ubc29\\ubc94&quot;, &quot;tel&quot;: &quot;055-330-4741&quot;}, &quot;type&quot;: &quot;Feature&quot;}, {&quot;bbox&quot;: [128.9263133, 35.225562, 128.9263133, 35.225562], &quot;geometry&quot;: {&quot;coordinates&quot;: [128.9263133, 35.225562], &quot;type&quot;: &quot;Point&quot;}, &quot;id&quot;: &quot;45&quot;, &quot;properties&quot;: {&quot;__folium_color&quot;: &quot;red&quot;, &quot;addr_jb&quot;: &quot;\\uacbd\\uc0c1\\ub0a8\\ub3c4 \\uae40\\ud574\\uc2dc \\ubd88\\uc554\\ub3d9 119-3&quot;, &quot;addr_rd&quot;: null, &quot;admin_nm&quot;: &quot;\\uacbd\\uc0c1\\ub0a8\\ub3c4 \\uae40\\ud574\\uc2dc\\uccad&quot;, &quot;cctv_cnt&quot;: &quot;2&quot;, &quot;date_install&quot;: &quot;2019-12&quot;, &quot;date_make&quot;: &quot;2019-06-26&quot;, &quot;direction&quot;: &quot;\\uc591\\uc7a5\\uace8\\ucd9c\\uad6c&quot;, &quot;lat&quot;: 35.2256207, &quot;lat2&quot;: 35.225562, &quot;lon&quot;: 128.9263757, &quot;lon2&quot;: 128.9263133, &quot;offer_admin_cd&quot;: &quot;5350000&quot;, &quot;offer_admin_nm&quot;: &quot;\\uacbd\\uc0c1\\ub0a8\\ub3c4 \\uae40\\ud574\\uc2dc&quot;, &quot;period&quot;: &quot;30&quot;, &quot;pixel&quot;: &quot;200&quot;, &quot;purpose&quot;: &quot;\\uc0dd\\ud65c\\ubc29\\ubc94&quot;, &quot;tel&quot;: &quot;055-330-4741&quot;}, &quot;type&quot;: &quot;Feature&quot;}, {&quot;bbox&quot;: [128.9224157, 35.2315629, 128.9224157, 35.2315629], &quot;geometry&quot;: {&quot;coordinates&quot;: [128.9224157, 35.2315629], &quot;type&quot;: &quot;Point&quot;}, &quot;id&quot;: &quot;46&quot;, &quot;properties&quot;: {&quot;__folium_color&quot;: &quot;red&quot;, &quot;addr_jb&quot;: &quot;\\uacbd\\uc0c1\\ub0a8\\ub3c4 \\uae40\\ud574\\uc2dc \\uc9c0\\ub0b4\\ub3d9 313-7&quot;, &quot;addr_rd&quot;: null, &quot;admin_nm&quot;: &quot;\\uacbd\\uc0c1\\ub0a8\\ub3c4 \\uae40\\ud574\\uc2dc\\uccad&quot;, &quot;cctv_cnt&quot;: &quot;4&quot;, &quot;date_install&quot;: &quot;2019-08&quot;, &quot;date_make&quot;: &quot;2019-06-26&quot;, &quot;direction&quot;: &quot;\\ub3d9\\uc6d0\\uc544\\ud30c\\ud2b8&quot;, &quot;lat&quot;: 35.23155552, &quot;lat2&quot;: 35.2315629, &quot;lon&quot;: 128.9224303, &quot;lon2&quot;: 128.9224157, &quot;offer_admin_cd&quot;: &quot;5350000&quot;, &quot;offer_admin_nm&quot;: &quot;\\uacbd\\uc0c1\\ub0a8\\ub3c4 \\uae40\\ud574\\uc2dc&quot;, &quot;period&quot;: &quot;30&quot;, &quot;pixel&quot;: &quot;200&quot;, &quot;purpose&quot;: &quot;\\uc0dd\\ud65c\\ubc29\\ubc94&quot;, &quot;tel&quot;: &quot;055-330-4741&quot;}, &quot;type&quot;: &quot;Feature&quot;}, {&quot;bbox&quot;: [128.9269849, 35.2245253, 128.9269849, 35.2245253], &quot;geometry&quot;: {&quot;coordinates&quot;: [128.9269849, 35.2245253], &quot;type&quot;: &quot;Point&quot;}, &quot;id&quot;: &quot;47&quot;, &quot;properties&quot;: {&quot;__folium_color&quot;: &quot;red&quot;, &quot;addr_jb&quot;: &quot;\\uacbd\\uc0c1\\ub0a8\\ub3c4 \\uae40\\ud574\\uc2dc \\ubd88\\uc554\\ub3d9 48&quot;, &quot;addr_rd&quot;: null, &quot;admin_nm&quot;: &quot;\\uacbd\\uc0c1\\ub0a8\\ub3c4 \\uae40\\ud574\\uc2dc\\uccad&quot;, &quot;cctv_cnt&quot;: &quot;2&quot;, &quot;date_install&quot;: &quot;2019-02&quot;, &quot;date_make&quot;: &quot;2019-06-26&quot;, &quot;direction&quot;: &quot;\\uc591\\uc7a5\\uace8\\uc785\\uad6c&quot;, &quot;lat&quot;: 35.22455422, &quot;lat2&quot;: 35.2245253, &quot;lon&quot;: 128.927039, &quot;lon2&quot;: 128.9269849, &quot;offer_admin_cd&quot;: &quot;5350000&quot;, &quot;offer_admin_nm&quot;: &quot;\\uacbd\\uc0c1\\ub0a8\\ub3c4 \\uae40\\ud574\\uc2dc&quot;, &quot;period&quot;: &quot;30&quot;, &quot;pixel&quot;: &quot;200&quot;, &quot;purpose&quot;: &quot;\\uc0dd\\ud65c\\ubc29\\ubc94&quot;, &quot;tel&quot;: &quot;055-330-4741&quot;}, &quot;type&quot;: &quot;Feature&quot;}, {&quot;bbox&quot;: [128.9181906, 35.2184462, 128.9181906, 35.2184462], &quot;geometry&quot;: {&quot;coordinates&quot;: [128.9181906, 35.2184462], &quot;type&quot;: &quot;Point&quot;}, &quot;id&quot;: &quot;48&quot;, &quot;properties&quot;: {&quot;__folium_color&quot;: &quot;red&quot;, &quot;addr_jb&quot;: &quot;\\uacbd\\uc0c1\\ub0a8\\ub3c4 \\uae40\\ud574\\uc2dc \\ubd88\\uc554\\ub3d9 354-2&quot;, &quot;addr_rd&quot;: null, &quot;admin_nm&quot;: &quot;\\uacbd\\uc0c1\\ub0a8\\ub3c4 \\uae40\\ud574\\uc2dc\\uccad&quot;, &quot;cctv_cnt&quot;: &quot;3&quot;, &quot;date_install&quot;: &quot;2019-06&quot;, &quot;date_make&quot;: &quot;2019-06-26&quot;, &quot;direction&quot;: &quot;\\ubd84\\ub3c4\\ub9c8\\uc744\\ud68c\\uad00&quot;, &quot;lat&quot;: 35.21833109, &quot;lat2&quot;: 35.2184462, &quot;lon&quot;: 128.9182616, &quot;lon2&quot;: 128.9181906, &quot;offer_admin_cd&quot;: &quot;5350000&quot;, &quot;offer_admin_nm&quot;: &quot;\\uacbd\\uc0c1\\ub0a8\\ub3c4 \\uae40\\ud574\\uc2dc&quot;, &quot;period&quot;: &quot;30&quot;, &quot;pixel&quot;: &quot;200&quot;, &quot;purpose&quot;: &quot;\\uc0dd\\ud65c\\ubc29\\ubc94&quot;, &quot;tel&quot;: &quot;055-330-4741&quot;}, &quot;type&quot;: &quot;Feature&quot;}, {&quot;bbox&quot;: [128.9235964, 35.2286765, 128.9235964, 35.2286765], &quot;geometry&quot;: {&quot;coordinates&quot;: [128.9235964, 35.2286765], &quot;type&quot;: &quot;Point&quot;}, &quot;id&quot;: &quot;49&quot;, &quot;properties&quot;: {&quot;__folium_color&quot;: &quot;red&quot;, &quot;addr_jb&quot;: &quot;\\uacbd\\uc0c1\\ub0a8\\ub3c4 \\uae40\\ud574\\uc2dc \\uc9c0\\ub0b4\\ub3d9 448-3&quot;, &quot;addr_rd&quot;: null, &quot;admin_nm&quot;: &quot;\\uacbd\\uc0c1\\ub0a8\\ub3c4 \\uae40\\ud574\\uc2dc\\uccad&quot;, &quot;cctv_cnt&quot;: &quot;2&quot;, &quot;date_install&quot;: &quot;2019-04&quot;, &quot;date_make&quot;: &quot;2019-06-26&quot;, &quot;direction&quot;: &quot;\\uccad\\uc194\\uc544\\ud30c\\ud2b8&quot;, &quot;lat&quot;: 35.228898, &quot;lat2&quot;: 35.2286765, &quot;lon&quot;: 128.923542, &quot;lon2&quot;: 128.9235964, &quot;offer_admin_cd&quot;: &quot;5350000&quot;, &quot;offer_admin_nm&quot;: &quot;\\uacbd\\uc0c1\\ub0a8\\ub3c4 \\uae40\\ud574\\uc2dc&quot;, &quot;period&quot;: &quot;30&quot;, &quot;pixel&quot;: &quot;200&quot;, &quot;purpose&quot;: &quot;\\uc0dd\\ud65c\\ubc29\\ubc94&quot;, &quot;tel&quot;: &quot;055-330-4741&quot;}, &quot;type&quot;: &quot;Feature&quot;}, {&quot;bbox&quot;: [128.9220583, 35.2357794, 128.9220583, 35.2357794], &quot;geometry&quot;: {&quot;coordinates&quot;: [128.9220583, 35.2357794], &quot;type&quot;: &quot;Point&quot;}, &quot;id&quot;: &quot;50&quot;, &quot;properties&quot;: {&quot;__folium_color&quot;: &quot;red&quot;, &quot;addr_jb&quot;: &quot;\\uacbd\\uc0c1\\ub0a8\\ub3c4 \\uae40\\ud574\\uc2dc \\uc9c0\\ub0b4\\ub3d9 478-1&quot;, &quot;addr_rd&quot;: null, &quot;admin_nm&quot;: &quot;\\uacbd\\uc0c1\\ub0a8\\ub3c4 \\uae40\\ud574\\uc2dc\\uccad&quot;, &quot;cctv_cnt&quot;: &quot;3&quot;, &quot;date_install&quot;: &quot;2019-06&quot;, &quot;date_make&quot;: &quot;2019-06-26&quot;, &quot;direction&quot;: &quot;\\ubc31\\ub85c\\uc2dd\\ub2f9&quot;, &quot;lat&quot;: 35.235763, &quot;lat2&quot;: 35.2357794, &quot;lon&quot;: 128.922267, &quot;lon2&quot;: 128.9220583, &quot;offer_admin_cd&quot;: &quot;5350000&quot;, &quot;offer_admin_nm&quot;: &quot;\\uacbd\\uc0c1\\ub0a8\\ub3c4 \\uae40\\ud574\\uc2dc&quot;, &quot;period&quot;: &quot;30&quot;, &quot;pixel&quot;: &quot;200&quot;, &quot;purpose&quot;: &quot;\\uc0dd\\ud65c\\ubc29\\ubc94&quot;, &quot;tel&quot;: &quot;055-330-4741&quot;}, &quot;type&quot;: &quot;Feature&quot;}, {&quot;bbox&quot;: [128.9203668, 35.2319622, 128.9203668, 35.2319622], &quot;geometry&quot;: {&quot;coordinates&quot;: [128.9203668, 35.2319622], &quot;type&quot;: &quot;Point&quot;}, &quot;id&quot;: &quot;51&quot;, &quot;properties&quot;: {&quot;__folium_color&quot;: &quot;red&quot;, &quot;addr_jb&quot;: &quot;\\uacbd\\uc0c1\\ub0a8\\ub3c4 \\uae40\\ud574\\uc2dc \\uc9c0\\ub0b4\\ub3d9 311-15&quot;, &quot;addr_rd&quot;: null, &quot;admin_nm&quot;: &quot;\\uacbd\\uc0c1\\ub0a8\\ub3c4 \\uae40\\ud574\\uc2dc\\uccad&quot;, &quot;cctv_cnt&quot;: &quot;3&quot;, &quot;date_install&quot;: &quot;2019-05&quot;, &quot;date_make&quot;: &quot;2019-06-26&quot;, &quot;direction&quot;: &quot;\\uc9c0\\ub0b4\\uacf5\\uc6d0&quot;, &quot;lat&quot;: 35.232005, &quot;lat2&quot;: 35.2319622, &quot;lon&quot;: 128.920409, &quot;lon2&quot;: 128.9203668, &quot;offer_admin_cd&quot;: &quot;5350000&quot;, &quot;offer_admin_nm&quot;: &quot;\\uacbd\\uc0c1\\ub0a8\\ub3c4 \\uae40\\ud574\\uc2dc&quot;, &quot;period&quot;: &quot;30&quot;, &quot;pixel&quot;: &quot;200&quot;, &quot;purpose&quot;: &quot;\\uc0dd\\ud65c\\ubc29\\ubc94&quot;, &quot;tel&quot;: &quot;055-330-4741&quot;}, &quot;type&quot;: &quot;Feature&quot;}, {&quot;bbox&quot;: [128.8634415, 35.2664296, 128.8634415, 35.2664296], &quot;geometry&quot;: {&quot;coordinates&quot;: [128.8634415, 35.2664296], &quot;type&quot;: &quot;Point&quot;}, &quot;id&quot;: &quot;52&quot;, &quot;properties&quot;: {&quot;__folium_color&quot;: &quot;red&quot;, &quot;addr_jb&quot;: &quot;\\uacbd\\uc0c1\\ub0a8\\ub3c4 \\uae40\\ud574\\uc2dc \\uc0bc\\uacc4\\ub3d9 1519-17&quot;, &quot;addr_rd&quot;: null, &quot;admin_nm&quot;: &quot;\\uacbd\\uc0c1\\ub0a8\\ub3c4 \\uae40\\ud574\\uc2dc\\uccad&quot;, &quot;cctv_cnt&quot;: &quot;2&quot;, &quot;date_install&quot;: &quot;2019-05&quot;, &quot;date_make&quot;: &quot;2019-06-26&quot;, &quot;direction&quot;: &quot;\\uc0bc\\uacc4\\uc911\\uc11c\\ud3b8&quot;, &quot;lat&quot;: 35.266709, &quot;lat2&quot;: 35.2664296, &quot;lon&quot;: 128.863309, &quot;lon2&quot;: 128.8634415, &quot;offer_admin_cd&quot;: &quot;5350000&quot;, &quot;offer_admin_nm&quot;: &quot;\\uacbd\\uc0c1\\ub0a8\\ub3c4 \\uae40\\ud574\\uc2dc&quot;, &quot;period&quot;: &quot;30&quot;, &quot;pixel&quot;: &quot;200&quot;, &quot;purpose&quot;: &quot;\\uc0dd\\ud65c\\ubc29\\ubc94&quot;, &quot;tel&quot;: &quot;055-330-4741&quot;}, &quot;type&quot;: &quot;Feature&quot;}, {&quot;bbox&quot;: [128.877734, 35.2421956, 128.877734, 35.2421956], &quot;geometry&quot;: {&quot;coordinates&quot;: [128.877734, 35.2421956], &quot;type&quot;: &quot;Point&quot;}, &quot;id&quot;: &quot;53&quot;, &quot;properties&quot;: {&quot;__folium_color&quot;: &quot;red&quot;, &quot;addr_jb&quot;: &quot;\\uacbd\\uc0c1\\ub0a8\\ub3c4 \\uae40\\ud574\\uc2dc \\uad6c\\uc0b0\\ub3d9 93-2&quot;, &quot;addr_rd&quot;: null, &quot;admin_nm&quot;: &quot;\\uacbd\\uc0c1\\ub0a8\\ub3c4 \\uae40\\ud574\\uc2dc\\uccad&quot;, &quot;cctv_cnt&quot;: &quot;2&quot;, &quot;date_install&quot;: &quot;2019-05&quot;, &quot;date_make&quot;: &quot;2019-06-26&quot;, &quot;direction&quot;: &quot;\\ub450\\ubd80\\ucc9c\\ud558&quot;, &quot;lat&quot;: 35.24133, &quot;lat2&quot;: 35.2421956, &quot;lon&quot;: 128.878368, &quot;lon2&quot;: 128.877734, &quot;offer_admin_cd&quot;: &quot;5350000&quot;, &quot;offer_admin_nm&quot;: &quot;\\uacbd\\uc0c1\\ub0a8\\ub3c4 \\uae40\\ud574\\uc2dc&quot;, &quot;period&quot;: &quot;30&quot;, &quot;pixel&quot;: &quot;200&quot;, &quot;purpose&quot;: &quot;\\uc0dd\\ud65c\\ubc29\\ubc94&quot;, &quot;tel&quot;: &quot;055-330-4741&quot;}, &quot;type&quot;: &quot;Feature&quot;}, {&quot;bbox&quot;: [128.8718974, 35.2482795, 128.8718974, 35.2482795], &quot;geometry&quot;: {&quot;coordinates&quot;: [128.8718974, 35.2482795], &quot;type&quot;: &quot;Point&quot;}, &quot;id&quot;: &quot;54&quot;, &quot;properties&quot;: {&quot;__folium_color&quot;: &quot;red&quot;, &quot;addr_jb&quot;: &quot;\\uacbd\\uc0c1\\ub0a8\\ub3c4 \\uae40\\ud574\\uc2dc \\uad6c\\uc0b0\\ub3d9 277-1&quot;, &quot;addr_rd&quot;: null, &quot;admin_nm&quot;: &quot;\\uacbd\\uc0c1\\ub0a8\\ub3c4 \\uae40\\ud574\\uc2dc\\uccad&quot;, &quot;cctv_cnt&quot;: &quot;4&quot;, &quot;date_install&quot;: &quot;2019-05&quot;, &quot;date_make&quot;: &quot;2019-06-26&quot;, &quot;direction&quot;: &quot;\\uae40\\ud574\\uac00\\uc804\\uc55e&quot;, &quot;lat&quot;: 35.24829881, &quot;lat2&quot;: 35.2482795, &quot;lon&quot;: 128.871805, &quot;lon2&quot;: 128.8718974, &quot;offer_admin_cd&quot;: &quot;5350000&quot;, &quot;offer_admin_nm&quot;: &quot;\\uacbd\\uc0c1\\ub0a8\\ub3c4 \\uae40\\ud574\\uc2dc&quot;, &quot;period&quot;: &quot;30&quot;, &quot;pixel&quot;: &quot;200&quot;, &quot;purpose&quot;: &quot;\\uc0dd\\ud65c\\ubc29\\ubc94&quot;, &quot;tel&quot;: &quot;055-330-4741&quot;}, &quot;type&quot;: &quot;Feature&quot;}, {&quot;bbox&quot;: [128.8819774, 35.2398218, 128.8819774, 35.2398218], &quot;geometry&quot;: {&quot;coordinates&quot;: [128.8819774, 35.2398218], &quot;type&quot;: &quot;Point&quot;}, &quot;id&quot;: &quot;55&quot;, &quot;properties&quot;: {&quot;__folium_color&quot;: &quot;red&quot;, &quot;addr_jb&quot;: &quot;\\uacbd\\uc0c1\\ub0a8\\ub3c4 \\uae40\\ud574\\uc2dc \\ub300\\uc131\\ub3d9 225-1&quot;, &quot;addr_rd&quot;: null, &quot;admin_nm&quot;: &quot;\\uacbd\\uc0c1\\ub0a8\\ub3c4 \\uae40\\ud574\\uc2dc\\uccad&quot;, &quot;cctv_cnt&quot;: &quot;3&quot;, &quot;date_install&quot;: &quot;2019-12&quot;, &quot;date_make&quot;: &quot;2019-06-26&quot;, &quot;direction&quot;: &quot;\\uae40\\ud574\\uc5ec\\uace0\\uc606&quot;, &quot;lat&quot;: 35.23980826, &quot;lat2&quot;: 35.2398218, &quot;lon&quot;: 128.8819783, &quot;lon2&quot;: 128.8819774, &quot;offer_admin_cd&quot;: &quot;5350000&quot;, &quot;offer_admin_nm&quot;: &quot;\\uacbd\\uc0c1\\ub0a8\\ub3c4 \\uae40\\ud574\\uc2dc&quot;, &quot;period&quot;: &quot;30&quot;, &quot;pixel&quot;: &quot;200&quot;, &quot;purpose&quot;: &quot;\\uc0dd\\ud65c\\ubc29\\ubc94&quot;, &quot;tel&quot;: &quot;055-330-4741&quot;}, &quot;type&quot;: &quot;Feature&quot;}, {&quot;bbox&quot;: [126.8335527, 37.6170209, 126.8335527, 37.6170209], &quot;geometry&quot;: {&quot;coordinates&quot;: [126.8335527, 37.6170209], &quot;type&quot;: &quot;Point&quot;}, &quot;id&quot;: &quot;56&quot;, &quot;properties&quot;: {&quot;__folium_color&quot;: &quot;red&quot;, &quot;addr_jb&quot;: &quot;\\uacbd\\uae30\\ub3c4 \\uace0\\uc591\\uc2dc \\ub355\\uc591\\uad6c \\ud589\\uc2e0\\ub3d9 725 (\\ubb34\\uc6d0\\ucd08\\uad50 \\uc815\\ubb38 \\uc55e)&quot;, &quot;addr_rd&quot;: null, &quot;admin_nm&quot;: &quot;\\uacbd\\uae30\\ub3c4 \\uace0\\uc591\\uc2dc&quot;, &quot;cctv_cnt&quot;: &quot;5&quot;, &quot;date_install&quot;: null, &quot;date_make&quot;: &quot;2020-01-09&quot;, &quot;direction&quot;: &quot;360\\ub3c4\\uc804\\ubc29\\uba74&quot;, &quot;lat&quot;: 37.68218611, &quot;lat2&quot;: 37.6170209, &quot;lon&quot;: 126.8335298, &quot;lon2&quot;: 126.8335527, &quot;offer_admin_cd&quot;: &quot;3940000&quot;, &quot;offer_admin_nm&quot;: &quot;\\uacbd\\uae30\\ub3c4 \\uace0\\uc591\\uc2dc&quot;, &quot;period&quot;: &quot;30&quot;, &quot;pixel&quot;: &quot;200&quot;, &quot;purpose&quot;: &quot;\\uc0dd\\ud65c\\ubc29\\ubc94&quot;, &quot;tel&quot;: &quot;031-8075-2579&quot;}, &quot;type&quot;: &quot;Feature&quot;}, {&quot;bbox&quot;: [126.8329907, 37.6177169, 126.8329907, 37.6177169], &quot;geometry&quot;: {&quot;coordinates&quot;: [126.8329907, 37.6177169], &quot;type&quot;: &quot;Point&quot;}, &quot;id&quot;: &quot;57&quot;, &quot;properties&quot;: {&quot;__folium_color&quot;: &quot;red&quot;, &quot;addr_jb&quot;: &quot;\\uacbd\\uae30\\ub3c4 \\uace0\\uc591\\uc2dc \\ub355\\uc591\\uad6c \\ud589\\uc2e0\\ub3d9 733-16 (\\uc2e0\\uad11\\uc0b4\\ub9ac\\ub294\\uad50\\ud68c \\uc55e \\uc0bc\\uac70\\ub9ac)&quot;, &quot;addr_rd&quot;: null, &quot;admin_nm&quot;: &quot;\\uacbd\\uae30\\ub3c4 \\uace0\\uc591\\uc2dc&quot;, &quot;cctv_cnt&quot;: &quot;3&quot;, &quot;date_install&quot;: null, &quot;date_make&quot;: &quot;2020-01-09&quot;, &quot;direction&quot;: &quot;360\\ub3c4\\uc804\\ubc29\\uba74&quot;, &quot;lat&quot;: 37.6175901, &quot;lat2&quot;: 37.6177169, &quot;lon&quot;: 126.8328274, &quot;lon2&quot;: 126.8329907, &quot;offer_admin_cd&quot;: &quot;3940000&quot;, &quot;offer_admin_nm&quot;: &quot;\\uacbd\\uae30\\ub3c4 \\uace0\\uc591\\uc2dc&quot;, &quot;period&quot;: &quot;30&quot;, &quot;pixel&quot;: &quot;200&quot;, &quot;purpose&quot;: &quot;\\uc0dd\\ud65c\\ubc29\\ubc94&quot;, &quot;tel&quot;: &quot;031-8075-2579&quot;}, &quot;type&quot;: &quot;Feature&quot;}, {&quot;bbox&quot;: [0.0, 0.0, 0.0, 0.0], &quot;geometry&quot;: {&quot;coordinates&quot;: [0.0, 0.0], &quot;type&quot;: &quot;Point&quot;}, &quot;id&quot;: &quot;58&quot;, &quot;properties&quot;: {&quot;__folium_color&quot;: &quot;red&quot;, &quot;addr_jb&quot;: &quot;\\uc804\\ub77c\\ubd81\\ub3c4 \\uc804\\uc8fc\\uc2dc \\ub355\\uc9c4\\uad6c \\uc911\\ub3d9 84-3&quot;, &quot;addr_rd&quot;: null, &quot;admin_nm&quot;: &quot;\\uc804\\ub77c\\ubd81\\ub3c4 \\uc804\\uc8fc\\uc2dc\\uccad&quot;, &quot;cctv_cnt&quot;: &quot;2&quot;, &quot;date_install&quot;: &quot;2014-12&quot;, &quot;date_make&quot;: &quot;2020-08-31&quot;, &quot;direction&quot;: &quot;\\ubc18\\uacbd100m\\uc774\\ub0b4&quot;, &quot;lat&quot;: 35.83840822, &quot;lat2&quot;: 0.0, &quot;lon&quot;: 127.0619866, &quot;lon2&quot;: 0.0, &quot;offer_admin_cd&quot;: &quot;4640000&quot;, &quot;offer_admin_nm&quot;: &quot;\\uc804\\ub77c\\ubd81\\ub3c4 \\uc804\\uc8fc\\uc2dc&quot;, &quot;period&quot;: &quot;30&quot;, &quot;pixel&quot;: &quot;200&quot;, &quot;purpose&quot;: &quot;\\uc0dd\\ud65c\\ubc29\\ubc94&quot;, &quot;tel&quot;: &quot;063-281-2072&quot;}, &quot;type&quot;: &quot;Feature&quot;}, {&quot;bbox&quot;: [0.0, 0.0, 0.0, 0.0], &quot;geometry&quot;: {&quot;coordinates&quot;: [0.0, 0.0], &quot;type&quot;: &quot;Point&quot;}, &quot;id&quot;: &quot;59&quot;, &quot;properties&quot;: {&quot;__folium_color&quot;: &quot;red&quot;, &quot;addr_jb&quot;: &quot;\\uc804\\ub77c\\ubd81\\ub3c4 \\uc804\\uc8fc\\uc2dc \\ub355\\uc9c4\\uad6c \\uc911\\ub3d9 299-3&quot;, &quot;addr_rd&quot;: null, &quot;admin_nm&quot;: &quot;\\uc804\\ub77c\\ubd81\\ub3c4 \\uc804\\uc8fc\\uc2dc\\uccad&quot;, &quot;cctv_cnt&quot;: &quot;2&quot;, &quot;date_install&quot;: &quot;2014-12&quot;, &quot;date_make&quot;: &quot;2020-08-31&quot;, &quot;direction&quot;: &quot;\\ubc18\\uacbd100m\\uc774\\ub0b4&quot;, &quot;lat&quot;: 35.83579891, &quot;lat2&quot;: 0.0, &quot;lon&quot;: 127.0642397, &quot;lon2&quot;: 0.0, &quot;offer_admin_cd&quot;: &quot;4640000&quot;, &quot;offer_admin_nm&quot;: &quot;\\uc804\\ub77c\\ubd81\\ub3c4 \\uc804\\uc8fc\\uc2dc&quot;, &quot;period&quot;: &quot;30&quot;, &quot;pixel&quot;: &quot;200&quot;, &quot;purpose&quot;: &quot;\\uc0dd\\ud65c\\ubc29\\ubc94&quot;, &quot;tel&quot;: &quot;063-281-2072&quot;}, &quot;type&quot;: &quot;Feature&quot;}, {&quot;bbox&quot;: [0.0, 0.0, 0.0, 0.0], &quot;geometry&quot;: {&quot;coordinates&quot;: [0.0, 0.0], &quot;type&quot;: &quot;Point&quot;}, &quot;id&quot;: &quot;60&quot;, &quot;properties&quot;: {&quot;__folium_color&quot;: &quot;red&quot;, &quot;addr_jb&quot;: &quot;\\uc804\\ub77c\\ubd81\\ub3c4 \\uc804\\uc8fc\\uc2dc \\ub355\\uc9c4\\uad6c \\uc911\\ub3d9 239-2&quot;, &quot;addr_rd&quot;: null, &quot;admin_nm&quot;: &quot;\\uc804\\ub77c\\ubd81\\ub3c4 \\uc804\\uc8fc\\uc2dc\\uccad&quot;, &quot;cctv_cnt&quot;: &quot;2&quot;, &quot;date_install&quot;: &quot;2014-12&quot;, &quot;date_make&quot;: &quot;2020-08-31&quot;, &quot;direction&quot;: &quot;\\ubc18\\uacbd100m\\uc774\\ub0b4&quot;, &quot;lat&quot;: 35.83447568, &quot;lat2&quot;: 0.0, &quot;lon&quot;: 127.0611227, &quot;lon2&quot;: 0.0, &quot;offer_admin_cd&quot;: &quot;4640000&quot;, &quot;offer_admin_nm&quot;: &quot;\\uc804\\ub77c\\ubd81\\ub3c4 \\uc804\\uc8fc\\uc2dc&quot;, &quot;period&quot;: &quot;30&quot;, &quot;pixel&quot;: &quot;200&quot;, &quot;purpose&quot;: &quot;\\uc0dd\\ud65c\\ubc29\\ubc94&quot;, &quot;tel&quot;: &quot;063-281-2072&quot;}, &quot;type&quot;: &quot;Feature&quot;}, {&quot;bbox&quot;: [127.1499455, 35.8301523, 127.1499455, 35.8301523], &quot;geometry&quot;: {&quot;coordinates&quot;: [127.1499455, 35.8301523], &quot;type&quot;: &quot;Point&quot;}, &quot;id&quot;: &quot;61&quot;, &quot;properties&quot;: {&quot;__folium_color&quot;: &quot;red&quot;, &quot;addr_jb&quot;: &quot;\\uc804\\ub77c\\ubd81\\ub3c4 \\uc804\\uc8fc\\uc2dc \\ub355\\uc9c4\\uad6c \\uc778\\ud6c4\\ub3d91\\uac00 705-76&quot;, &quot;addr_rd&quot;: &quot;\\uc804\\ub77c\\ubd81\\ub3c4 \\uc804\\uc8fc\\uc2dc \\ub355\\uc9c4\\uad6c \\ubc18\\ud0dc\\uc0b01\\uae38 72&quot;, &quot;admin_nm&quot;: &quot;\\uc804\\ub77c\\ubd81\\ub3c4 \\uc804\\uc8fc\\uc2dc\\uccad&quot;, &quot;cctv_cnt&quot;: &quot;2&quot;, &quot;date_install&quot;: &quot;2014-12&quot;, &quot;date_make&quot;: &quot;2020-08-31&quot;, &quot;direction&quot;: &quot;\\ubc18\\uacbd100m\\uc774\\ub0b4&quot;, &quot;lat&quot;: 35.83022558, &quot;lat2&quot;: 35.8301523, &quot;lon&quot;: 127.1500141, &quot;lon2&quot;: 127.1499455, &quot;offer_admin_cd&quot;: &quot;4640000&quot;, &quot;offer_admin_nm&quot;: &quot;\\uc804\\ub77c\\ubd81\\ub3c4 \\uc804\\uc8fc\\uc2dc&quot;, &quot;period&quot;: &quot;30&quot;, &quot;pixel&quot;: &quot;200&quot;, &quot;purpose&quot;: &quot;\\uc0dd\\ud65c\\ubc29\\ubc94&quot;, &quot;tel&quot;: &quot;063-281-2072&quot;}, &quot;type&quot;: &quot;Feature&quot;}, {&quot;bbox&quot;: [127.1497738, 35.8320644, 127.1497738, 35.8320644], &quot;geometry&quot;: {&quot;coordinates&quot;: [127.1497738, 35.8320644], &quot;type&quot;: &quot;Point&quot;}, &quot;id&quot;: &quot;62&quot;, &quot;properties&quot;: {&quot;__folium_color&quot;: &quot;red&quot;, &quot;addr_jb&quot;: &quot;\\uc804\\ub77c\\ubd81\\ub3c4 \\uc804\\uc8fc\\uc2dc \\ub355\\uc9c4\\uad6c \\uc778\\ud6c4\\ub3d91\\uac00 727-56&quot;, &quot;addr_rd&quot;: &quot;\\uc804\\ub77c\\ubd81\\ub3c4 \\uc804\\uc8fc\\uc2dc \\ub355\\uc9c4\\uad6c \\ubc18\\ud0dc\\uc0b05\\uae38 20&quot;, &quot;admin_nm&quot;: &quot;\\uc804\\ub77c\\ubd81\\ub3c4 \\uc804\\uc8fc\\uc2dc\\uccad&quot;, &quot;cctv_cnt&quot;: &quot;2&quot;, &quot;date_install&quot;: &quot;2014-12&quot;, &quot;date_make&quot;: &quot;2020-08-31&quot;, &quot;direction&quot;: &quot;\\ubc18\\uacbd100m\\uc774\\ub0b4&quot;, &quot;lat&quot;: 35.83193698, &quot;lat2&quot;: 35.8320644, &quot;lon&quot;: 127.1498097, &quot;lon2&quot;: 127.1497738, &quot;offer_admin_cd&quot;: &quot;4640000&quot;, &quot;offer_admin_nm&quot;: &quot;\\uc804\\ub77c\\ubd81\\ub3c4 \\uc804\\uc8fc\\uc2dc&quot;, &quot;period&quot;: &quot;30&quot;, &quot;pixel&quot;: &quot;200&quot;, &quot;purpose&quot;: &quot;\\uc0dd\\ud65c\\ubc29\\ubc94&quot;, &quot;tel&quot;: &quot;063-281-2072&quot;}, &quot;type&quot;: &quot;Feature&quot;}, {&quot;bbox&quot;: [127.1237334, 35.8664831, 127.1237334, 35.8664831], &quot;geometry&quot;: {&quot;coordinates&quot;: [127.1237334, 35.8664831], &quot;type&quot;: &quot;Point&quot;}, &quot;id&quot;: &quot;63&quot;, &quot;properties&quot;: {&quot;__folium_color&quot;: &quot;red&quot;, &quot;addr_jb&quot;: &quot;\\uc804\\ub77c\\ubd81\\ub3c4 \\uc804\\uc8fc\\uc2dc \\ub355\\uc9c4\\uad6c \\uc1a1\\ucc9c\\ub3d92\\uac00 244-19&quot;, &quot;addr_rd&quot;: &quot;\\uc804\\ub77c\\ubd81\\ub3c4 \\uc804\\uc8fc\\uc2dc \\ub355\\uc9c4\\uad6c \\ubd93\\ub0b43\\uae38 20&quot;, &quot;admin_nm&quot;: &quot;\\uc804\\ub77c\\ubd81\\ub3c4 \\uc804\\uc8fc\\uc2dc\\uccad&quot;, &quot;cctv_cnt&quot;: &quot;2&quot;, &quot;date_install&quot;: &quot;2014-12&quot;, &quot;date_make&quot;: &quot;2020-08-31&quot;, &quot;direction&quot;: &quot;\\ubc18\\uacbd100m\\uc774\\ub0b4&quot;, &quot;lat&quot;: 35.86670505, &quot;lat2&quot;: 35.8664831, &quot;lon&quot;: 127.1236131, &quot;lon2&quot;: 127.1237334, &quot;offer_admin_cd&quot;: &quot;4640000&quot;, &quot;offer_admin_nm&quot;: &quot;\\uc804\\ub77c\\ubd81\\ub3c4 \\uc804\\uc8fc\\uc2dc&quot;, &quot;period&quot;: &quot;30&quot;, &quot;pixel&quot;: &quot;200&quot;, &quot;purpose&quot;: &quot;\\uc0dd\\ud65c\\ubc29\\ubc94&quot;, &quot;tel&quot;: &quot;063-281-2072&quot;}, &quot;type&quot;: &quot;Feature&quot;}, {&quot;bbox&quot;: [127.1222603, 35.8534056, 127.1222603, 35.8534056], &quot;geometry&quot;: {&quot;coordinates&quot;: [127.1222603, 35.8534056], &quot;type&quot;: &quot;Point&quot;}, &quot;id&quot;: &quot;64&quot;, &quot;properties&quot;: {&quot;__folium_color&quot;: &quot;red&quot;, &quot;addr_jb&quot;: &quot;\\uc804\\ub77c\\ubd81\\ub3c4 \\uc804\\uc8fc\\uc2dc \\ub355\\uc9c4\\uad6c \\uc1a1\\ucc9c\\ub3d91\\uac00 261-2&quot;, &quot;addr_rd&quot;: &quot;\\uc804\\ub77c\\ubd81\\ub3c4 \\uc804\\uc8fc\\uc2dc \\ub355\\uc9c4\\uad6c \\uc194\\ub0b41\\uae38 26&quot;, &quot;admin_nm&quot;: &quot;\\uc804\\ub77c\\ubd81\\ub3c4 \\uc804\\uc8fc\\uc2dc\\uccad&quot;, &quot;cctv_cnt&quot;: &quot;2&quot;, &quot;date_install&quot;: &quot;2014-12&quot;, &quot;date_make&quot;: &quot;2020-08-31&quot;, &quot;direction&quot;: &quot;\\ubc18\\uacbd100m\\uc774\\ub0b4&quot;, &quot;lat&quot;: 35.85354924, &quot;lat2&quot;: 35.8534056, &quot;lon&quot;: 127.1223149, &quot;lon2&quot;: 127.1222603, &quot;offer_admin_cd&quot;: &quot;4640000&quot;, &quot;offer_admin_nm&quot;: &quot;\\uc804\\ub77c\\ubd81\\ub3c4 \\uc804\\uc8fc\\uc2dc&quot;, &quot;period&quot;: &quot;30&quot;, &quot;pixel&quot;: &quot;200&quot;, &quot;purpose&quot;: &quot;\\uc0dd\\ud65c\\ubc29\\ubc94&quot;, &quot;tel&quot;: &quot;063-281-2072&quot;}, &quot;type&quot;: &quot;Feature&quot;}, {&quot;bbox&quot;: [127.132688, 35.8620387, 127.132688, 35.8620387], &quot;geometry&quot;: {&quot;coordinates&quot;: [127.132688, 35.8620387], &quot;type&quot;: &quot;Point&quot;}, &quot;id&quot;: &quot;65&quot;, &quot;properties&quot;: {&quot;__folium_color&quot;: &quot;red&quot;, &quot;addr_jb&quot;: &quot;\\uc804\\ub77c\\ubd81\\ub3c4 \\uc804\\uc8fc\\uc2dc \\ub355\\uc9c4\\uad6c \\uc1a1\\ucc9c\\ub3d91\\uac00 77-4&quot;, &quot;addr_rd&quot;: &quot;\\uc804\\ub77c\\ubd81\\ub3c4 \\uc804\\uc8fc\\uc2dc \\ub355\\uc9c4\\uad6c \\uc624\\uc1a1\\ub85c 59-6&quot;, &quot;admin_nm&quot;: &quot;\\uc804\\ub77c\\ubd81\\ub3c4 \\uc804\\uc8fc\\uc2dc\\uccad&quot;, &quot;cctv_cnt&quot;: &quot;2&quot;, &quot;date_install&quot;: &quot;2014-12&quot;, &quot;date_make&quot;: &quot;2020-08-31&quot;, &quot;direction&quot;: &quot;\\ubc18\\uacbd100m\\uc774\\ub0b4&quot;, &quot;lat&quot;: 35.86212294, &quot;lat2&quot;: 35.8620387, &quot;lon&quot;: 127.1326146, &quot;lon2&quot;: 127.132688, &quot;offer_admin_cd&quot;: &quot;4640000&quot;, &quot;offer_admin_nm&quot;: &quot;\\uc804\\ub77c\\ubd81\\ub3c4 \\uc804\\uc8fc\\uc2dc&quot;, &quot;period&quot;: &quot;30&quot;, &quot;pixel&quot;: &quot;200&quot;, &quot;purpose&quot;: &quot;\\uc0dd\\ud65c\\ubc29\\ubc94&quot;, &quot;tel&quot;: &quot;063-281-2072&quot;}, &quot;type&quot;: &quot;Feature&quot;}, {&quot;bbox&quot;: [127.1408947, 35.8445721, 127.1408947, 35.8445721], &quot;geometry&quot;: {&quot;coordinates&quot;: [127.1408947, 35.8445721], &quot;type&quot;: &quot;Point&quot;}, &quot;id&quot;: &quot;66&quot;, &quot;properties&quot;: {&quot;__folium_color&quot;: &quot;red&quot;, &quot;addr_jb&quot;: &quot;\\uc804\\ub77c\\ubd81\\ub3c4 \\uc804\\uc8fc\\uc2dc \\ub355\\uc9c4\\uad6c \\uae08\\uc554\\ub3d9 105-395&quot;, &quot;addr_rd&quot;: &quot;\\uc804\\ub77c\\ubd81\\ub3c4 \\uc804\\uc8fc\\uc2dc \\ub355\\uc9c4\\uad6c \\uac74\\uc9c02\\uae38 13-2&quot;, &quot;admin_nm&quot;: &quot;\\uc804\\ub77c\\ubd81\\ub3c4 \\uc804\\uc8fc\\uc2dc\\uccad&quot;, &quot;cctv_cnt&quot;: &quot;2&quot;, &quot;date_install&quot;: &quot;2014-12&quot;, &quot;date_make&quot;: &quot;2020-08-31&quot;, &quot;direction&quot;: &quot;\\ubc18\\uacbd100m\\uc774\\ub0b4&quot;, &quot;lat&quot;: 35.84463543, &quot;lat2&quot;: 35.8445721, &quot;lon&quot;: 127.1410367, &quot;lon2&quot;: 127.1408947, &quot;offer_admin_cd&quot;: &quot;4640000&quot;, &quot;offer_admin_nm&quot;: &quot;\\uc804\\ub77c\\ubd81\\ub3c4 \\uc804\\uc8fc\\uc2dc&quot;, &quot;period&quot;: &quot;30&quot;, &quot;pixel&quot;: &quot;200&quot;, &quot;purpose&quot;: &quot;\\uc0dd\\ud65c\\ubc29\\ubc94&quot;, &quot;tel&quot;: &quot;063-281-2072&quot;}, &quot;type&quot;: &quot;Feature&quot;}, {&quot;bbox&quot;: [127.0891038, 35.8769111, 127.0891038, 35.8769111], &quot;geometry&quot;: {&quot;coordinates&quot;: [127.0891038, 35.8769111], &quot;type&quot;: &quot;Point&quot;}, &quot;id&quot;: &quot;67&quot;, &quot;properties&quot;: {&quot;__folium_color&quot;: &quot;red&quot;, &quot;addr_jb&quot;: &quot;\\uc804\\ub77c\\ubd81\\ub3c4 \\uc804\\uc8fc\\uc2dc \\ub355\\uc9c4\\uad6c \\uace0\\ub791\\ub3d9 681-2&quot;, &quot;addr_rd&quot;: null, &quot;admin_nm&quot;: &quot;\\uc804\\ub77c\\ubd81\\ub3c4 \\uc804\\uc8fc\\uc2dc\\uccad&quot;, &quot;cctv_cnt&quot;: &quot;2&quot;, &quot;date_install&quot;: &quot;2014-12&quot;, &quot;date_make&quot;: &quot;2020-08-31&quot;, &quot;direction&quot;: &quot;\\ubc18\\uacbd100m\\uc774\\ub0b4&quot;, &quot;lat&quot;: 35.87694645, &quot;lat2&quot;: 35.8769111, &quot;lon&quot;: 127.0887229, &quot;lon2&quot;: 127.0891038, &quot;offer_admin_cd&quot;: &quot;4640000&quot;, &quot;offer_admin_nm&quot;: &quot;\\uc804\\ub77c\\ubd81\\ub3c4 \\uc804\\uc8fc\\uc2dc&quot;, &quot;period&quot;: &quot;30&quot;, &quot;pixel&quot;: &quot;200&quot;, &quot;purpose&quot;: &quot;\\uc0dd\\ud65c\\ubc29\\ubc94&quot;, &quot;tel&quot;: &quot;063-281-2072&quot;}, &quot;type&quot;: &quot;Feature&quot;}, {&quot;bbox&quot;: [127.1442015, 35.8412541, 127.1442015, 35.8412541], &quot;geometry&quot;: {&quot;coordinates&quot;: [127.1442015, 35.8412541], &quot;type&quot;: &quot;Point&quot;}, &quot;id&quot;: &quot;68&quot;, &quot;properties&quot;: {&quot;__folium_color&quot;: &quot;red&quot;, &quot;addr_jb&quot;: &quot;\\uc804\\ub77c\\ubd81\\ub3c4 \\uc804\\uc8fc\\uc2dc \\ub355\\uc9c4\\uad6c \\uae08\\uc554\\ub3d9 1603-40&quot;, &quot;addr_rd&quot;: &quot;\\uc804\\ub77c\\ubd81\\ub3c4 \\uc804\\uc8fc\\uc2dc \\ub355\\uc9c4\\uad6c \\ub9e4\\ubd099\\uae38 27&quot;, &quot;admin_nm&quot;: &quot;\\uc804\\ub77c\\ubd81\\ub3c4 \\uc804\\uc8fc\\uc2dc\\uccad&quot;, &quot;cctv_cnt&quot;: &quot;2&quot;, &quot;date_install&quot;: &quot;2014-12&quot;, &quot;date_make&quot;: &quot;2020-08-31&quot;, &quot;direction&quot;: &quot;\\ubc18\\uacbd100m\\uc774\\ub0b4&quot;, &quot;lat&quot;: 35.84136534, &quot;lat2&quot;: 35.8412541, &quot;lon&quot;: 127.1442554, &quot;lon2&quot;: 127.1442015, &quot;offer_admin_cd&quot;: &quot;4640000&quot;, &quot;offer_admin_nm&quot;: &quot;\\uc804\\ub77c\\ubd81\\ub3c4 \\uc804\\uc8fc\\uc2dc&quot;, &quot;period&quot;: &quot;30&quot;, &quot;pixel&quot;: &quot;200&quot;, &quot;purpose&quot;: &quot;\\uc0dd\\ud65c\\ubc29\\ubc94&quot;, &quot;tel&quot;: &quot;063-281-2072&quot;}, &quot;type&quot;: &quot;Feature&quot;}, {&quot;bbox&quot;: [127.1377108, 35.8362425, 127.1377108, 35.8362425], &quot;geometry&quot;: {&quot;coordinates&quot;: [127.1377108, 35.8362425], &quot;type&quot;: &quot;Point&quot;}, &quot;id&quot;: &quot;69&quot;, &quot;properties&quot;: {&quot;__folium_color&quot;: &quot;red&quot;, &quot;addr_jb&quot;: &quot;\\uc804\\ub77c\\ubd81\\ub3c4 \\uc804\\uc8fc\\uc2dc \\ub355\\uc9c4\\uad6c \\uae08\\uc554\\ub3d9 523-33&quot;, &quot;addr_rd&quot;: &quot;\\uc804\\ub77c\\ubd81\\ub3c4 \\uc804\\uc8fc\\uc2dc \\ub355\\uc9c4\\uad6c \\uac70\\ubd81\\ubc14\\uc6b01\\uae38 2&quot;, &quot;admin_nm&quot;: &quot;\\uc804\\ub77c\\ubd81\\ub3c4 \\uc804\\uc8fc\\uc2dc\\uccad&quot;, &quot;cctv_cnt&quot;: &quot;2&quot;, &quot;date_install&quot;: &quot;2014-12&quot;, &quot;date_make&quot;: &quot;2020-08-31&quot;, &quot;direction&quot;: &quot;\\ubc18\\uacbd100m\\uc774\\ub0b4&quot;, &quot;lat&quot;: 35.83635557, &quot;lat2&quot;: 35.8362425, &quot;lon&quot;: 127.1375606, &quot;lon2&quot;: 127.1377108, &quot;offer_admin_cd&quot;: &quot;4640000&quot;, &quot;offer_admin_nm&quot;: &quot;\\uc804\\ub77c\\ubd81\\ub3c4 \\uc804\\uc8fc\\uc2dc&quot;, &quot;period&quot;: &quot;30&quot;, &quot;pixel&quot;: &quot;200&quot;, &quot;purpose&quot;: &quot;\\uc0dd\\ud65c\\ubc29\\ubc94&quot;, &quot;tel&quot;: &quot;063-281-2072&quot;}, &quot;type&quot;: &quot;Feature&quot;}, {&quot;bbox&quot;: [127.1220091, 35.8384337, 127.1220091, 35.8384337], &quot;geometry&quot;: {&quot;coordinates&quot;: [127.1220091, 35.8384337], &quot;type&quot;: &quot;Point&quot;}, &quot;id&quot;: &quot;70&quot;, &quot;properties&quot;: {&quot;__folium_color&quot;: &quot;red&quot;, &quot;addr_jb&quot;: &quot;\\uc804\\ub77c\\ubd81\\ub3c4 \\uc804\\uc8fc\\uc2dc \\ub355\\uc9c4\\uad6c \\ub355\\uc9c4\\ub3d91\\uac00 1430-25&quot;, &quot;addr_rd&quot;: &quot;\\uc804\\ub77c\\ubd81\\ub3c4 \\uc804\\uc8fc\\uc2dc \\ub355\\uc9c4\\uad6c \\ub4e4\\uc0ac\\ud3c91\\uae38 27&quot;, &quot;admin_nm&quot;: &quot;\\uc804\\ub77c\\ubd81\\ub3c4 \\uc804\\uc8fc\\uc2dc\\uccad&quot;, &quot;cctv_cnt&quot;: &quot;2&quot;, &quot;date_install&quot;: &quot;2014-12&quot;, &quot;date_make&quot;: &quot;2020-08-31&quot;, &quot;direction&quot;: &quot;\\ubc18\\uacbd100m\\uc774\\ub0b4&quot;, &quot;lat&quot;: 35.83819739, &quot;lat2&quot;: 35.8384337, &quot;lon&quot;: 127.1220457, &quot;lon2&quot;: 127.1220091, &quot;offer_admin_cd&quot;: &quot;4640000&quot;, &quot;offer_admin_nm&quot;: &quot;\\uc804\\ub77c\\ubd81\\ub3c4 \\uc804\\uc8fc\\uc2dc&quot;, &quot;period&quot;: &quot;30&quot;, &quot;pixel&quot;: &quot;200&quot;, &quot;purpose&quot;: &quot;\\uc0dd\\ud65c\\ubc29\\ubc94&quot;, &quot;tel&quot;: &quot;063-281-2072&quot;}, &quot;type&quot;: &quot;Feature&quot;}, {&quot;bbox&quot;: [127.1190966, 35.8587632, 127.1190966, 35.8587632], &quot;geometry&quot;: {&quot;coordinates&quot;: [127.1190966, 35.8587632], &quot;type&quot;: &quot;Point&quot;}, &quot;id&quot;: &quot;71&quot;, &quot;properties&quot;: {&quot;__folium_color&quot;: &quot;red&quot;, &quot;addr_jb&quot;: &quot;\\uc804\\ub77c\\ubd81\\ub3c4 \\uc804\\uc8fc\\uc2dc \\ub355\\uc9c4\\uad6c \\uc1a1\\ucc9c\\ub3d91\\uac00 416-19&quot;, &quot;addr_rd&quot;: &quot;\\uc804\\ub77c\\ubd81\\ub3c4 \\uc804\\uc8fc\\uc2dc \\ub355\\uc9c4\\uad6c \\uc1a1\\ucc9c\\ub85c 54-36&quot;, &quot;admin_nm&quot;: &quot;\\uc804\\ub77c\\ubd81\\ub3c4 \\uc804\\uc8fc\\uc2dc\\uccad&quot;, &quot;cctv_cnt&quot;: &quot;2&quot;, &quot;date_install&quot;: &quot;2014-12&quot;, &quot;date_make&quot;: &quot;2020-08-31&quot;, &quot;direction&quot;: &quot;\\ubc18\\uacbd100m\\uc774\\ub0b4&quot;, &quot;lat&quot;: 35.85868733, &quot;lat2&quot;: 35.8587632, &quot;lon&quot;: 127.1190504, &quot;lon2&quot;: 127.1190966, &quot;offer_admin_cd&quot;: &quot;4640000&quot;, &quot;offer_admin_nm&quot;: &quot;\\uc804\\ub77c\\ubd81\\ub3c4 \\uc804\\uc8fc\\uc2dc&quot;, &quot;period&quot;: &quot;30&quot;, &quot;pixel&quot;: &quot;200&quot;, &quot;purpose&quot;: &quot;\\uc0dd\\ud65c\\ubc29\\ubc94&quot;, &quot;tel&quot;: &quot;063-281-2072&quot;}, &quot;type&quot;: &quot;Feature&quot;}, {&quot;bbox&quot;: [127.0468237, 35.8681125, 127.0468237, 35.8681125], &quot;geometry&quot;: {&quot;coordinates&quot;: [127.0468237, 35.8681125], &quot;type&quot;: &quot;Point&quot;}, &quot;id&quot;: &quot;72&quot;, &quot;properties&quot;: {&quot;__folium_color&quot;: &quot;red&quot;, &quot;addr_jb&quot;: &quot;\\uc804\\ub77c\\ubd81\\ub3c4 \\uc804\\uc8fc\\uc2dc \\ub355\\uc9c4\\uad6c \\uc7a5\\ub3d9 967&quot;, &quot;addr_rd&quot;: null, &quot;admin_nm&quot;: &quot;\\uc804\\ub77c\\ubd81\\ub3c4 \\uc804\\uc8fc\\uc2dc\\uccad&quot;, &quot;cctv_cnt&quot;: &quot;2&quot;, &quot;date_install&quot;: &quot;2014-12&quot;, &quot;date_make&quot;: &quot;2020-08-31&quot;, &quot;direction&quot;: &quot;\\ubc18\\uacbd100m\\uc774\\ub0b4&quot;, &quot;lat&quot;: 35.86844498, &quot;lat2&quot;: 35.8681125, &quot;lon&quot;: 127.0469364, &quot;lon2&quot;: 127.0468237, &quot;offer_admin_cd&quot;: &quot;4640000&quot;, &quot;offer_admin_nm&quot;: &quot;\\uc804\\ub77c\\ubd81\\ub3c4 \\uc804\\uc8fc\\uc2dc&quot;, &quot;period&quot;: &quot;30&quot;, &quot;pixel&quot;: &quot;200&quot;, &quot;purpose&quot;: &quot;\\uc0dd\\ud65c\\ubc29\\ubc94&quot;, &quot;tel&quot;: &quot;063-281-2072&quot;}, &quot;type&quot;: &quot;Feature&quot;}, {&quot;bbox&quot;: [127.1731403, 35.8259465, 127.1731403, 35.8259465], &quot;geometry&quot;: {&quot;coordinates&quot;: [127.1731403, 35.8259465], &quot;type&quot;: &quot;Point&quot;}, &quot;id&quot;: &quot;73&quot;, &quot;properties&quot;: {&quot;__folium_color&quot;: &quot;red&quot;, &quot;addr_jb&quot;: &quot;\\uc804\\ub77c\\ubd81\\ub3c4 \\uc804\\uc8fc\\uc2dc \\ub355\\uc9c4\\uad6c \\uc6b0\\uc544\\ub3d91\\uac00 1109-1&quot;, &quot;addr_rd&quot;: &quot;\\uc804\\ub77c\\ubd81\\ub3c4 \\uc804\\uc8fc\\uc2dc \\ub355\\uc9c4\\uad6c \\uc778\\uad509\\uae38 1&quot;, &quot;admin_nm&quot;: &quot;\\uc804\\ub77c\\ubd81\\ub3c4 \\uc804\\uc8fc\\uc2dc\\uccad&quot;, &quot;cctv_cnt&quot;: &quot;2&quot;, &quot;date_install&quot;: &quot;2014-12&quot;, &quot;date_make&quot;: &quot;2020-08-31&quot;, &quot;direction&quot;: &quot;\\ubc18\\uacbd100m\\uc774\\ub0b4&quot;, &quot;lat&quot;: 35.82603933, &quot;lat2&quot;: 35.8259465, &quot;lon&quot;: 127.1729657, &quot;lon2&quot;: 127.1731403, &quot;offer_admin_cd&quot;: &quot;4640000&quot;, &quot;offer_admin_nm&quot;: &quot;\\uc804\\ub77c\\ubd81\\ub3c4 \\uc804\\uc8fc\\uc2dc&quot;, &quot;period&quot;: &quot;30&quot;, &quot;pixel&quot;: &quot;200&quot;, &quot;purpose&quot;: &quot;\\uc0dd\\ud65c\\ubc29\\ubc94&quot;, &quot;tel&quot;: &quot;063-281-2072&quot;}, &quot;type&quot;: &quot;Feature&quot;}, {&quot;bbox&quot;: [127.1829609, 35.8167631, 127.1829609, 35.8167631], &quot;geometry&quot;: {&quot;coordinates&quot;: [127.1829609, 35.8167631], &quot;type&quot;: &quot;Point&quot;}, &quot;id&quot;: &quot;74&quot;, &quot;properties&quot;: {&quot;__folium_color&quot;: &quot;red&quot;, &quot;addr_jb&quot;: &quot;\\uc804\\ub77c\\ubd81\\ub3c4 \\uc804\\uc8fc\\uc2dc \\ub355\\uc9c4\\uad6c \\uc6b0\\uc544\\ub3d91\\uac00 684-9&quot;, &quot;addr_rd&quot;: null, &quot;admin_nm&quot;: &quot;\\uc804\\ub77c\\ubd81\\ub3c4 \\uc804\\uc8fc\\uc2dc\\uccad&quot;, &quot;cctv_cnt&quot;: &quot;2&quot;, &quot;date_install&quot;: &quot;2014-12&quot;, &quot;date_make&quot;: &quot;2020-08-31&quot;, &quot;direction&quot;: &quot;\\ubc18\\uacbd100m\\uc774\\ub0b4&quot;, &quot;lat&quot;: 35.81680054, &quot;lat2&quot;: 35.8167631, &quot;lon&quot;: 127.1828577, &quot;lon2&quot;: 127.1829609, &quot;offer_admin_cd&quot;: &quot;4640000&quot;, &quot;offer_admin_nm&quot;: &quot;\\uc804\\ub77c\\ubd81\\ub3c4 \\uc804\\uc8fc\\uc2dc&quot;, &quot;period&quot;: &quot;30&quot;, &quot;pixel&quot;: &quot;200&quot;, &quot;purpose&quot;: &quot;\\uc0dd\\ud65c\\ubc29\\ubc94&quot;, &quot;tel&quot;: &quot;063-281-2072&quot;}, &quot;type&quot;: &quot;Feature&quot;}, {&quot;bbox&quot;: [127.1573672, 35.8312857, 127.1573672, 35.8312857], &quot;geometry&quot;: {&quot;coordinates&quot;: [127.1573672, 35.8312857], &quot;type&quot;: &quot;Point&quot;}, &quot;id&quot;: &quot;75&quot;, &quot;properties&quot;: {&quot;__folium_color&quot;: &quot;red&quot;, &quot;addr_jb&quot;: &quot;\\uc804\\ub77c\\ubd81\\ub3c4 \\uc804\\uc8fc\\uc2dc \\ub355\\uc9c4\\uad6c \\uc778\\ud6c4\\ub3d91\\uac00 228-22&quot;, &quot;addr_rd&quot;: &quot;\\uc804\\ub77c\\ubd81\\ub3c4 \\uc804\\uc8fc\\uc2dc \\ub355\\uc9c4\\uad6c \\uc778\\ud6c45\\uae38 6-23&quot;, &quot;admin_nm&quot;: &quot;\\uc804\\ub77c\\ubd81\\ub3c4 \\uc804\\uc8fc\\uc2dc\\uccad&quot;, &quot;cctv_cnt&quot;: &quot;2&quot;, &quot;date_install&quot;: &quot;2014-12&quot;, &quot;date_make&quot;: &quot;2020-08-31&quot;, &quot;direction&quot;: &quot;\\ubc18\\uacbd100m\\uc774\\ub0b4&quot;, &quot;lat&quot;: 35.83093301, &quot;lat2&quot;: 35.8312857, &quot;lon&quot;: 127.1574882, &quot;lon2&quot;: 127.1573672, &quot;offer_admin_cd&quot;: &quot;4640000&quot;, &quot;offer_admin_nm&quot;: &quot;\\uc804\\ub77c\\ubd81\\ub3c4 \\uc804\\uc8fc\\uc2dc&quot;, &quot;period&quot;: &quot;30&quot;, &quot;pixel&quot;: &quot;200&quot;, &quot;purpose&quot;: &quot;\\uc0dd\\ud65c\\ubc29\\ubc94&quot;, &quot;tel&quot;: &quot;063-281-2072&quot;}, &quot;type&quot;: &quot;Feature&quot;}, {&quot;bbox&quot;: [127.1376673, 35.8308896, 127.1376673, 35.8308896], &quot;geometry&quot;: {&quot;coordinates&quot;: [127.1376673, 35.8308896], &quot;type&quot;: &quot;Point&quot;}, &quot;id&quot;: &quot;76&quot;, &quot;properties&quot;: {&quot;__folium_color&quot;: &quot;red&quot;, &quot;addr_jb&quot;: &quot;\\uc804\\ub77c\\ubd81\\ub3c4 \\uc804\\uc8fc\\uc2dc \\ub355\\uc9c4\\uad6c \\uc9c4\\ubd81\\ub3d9 392-15&quot;, &quot;addr_rd&quot;: &quot;\\uc804\\ub77c\\ubd81\\ub3c4 \\uc804\\uc8fc\\uc2dc \\ub355\\uc9c4\\uad6c \\ud314\\ub2ec\\ub85c 339-39&quot;, &quot;admin_nm&quot;: &quot;\\uc804\\ub77c\\ubd81\\ub3c4 \\uc804\\uc8fc\\uc2dc\\uccad&quot;, &quot;cctv_cnt&quot;: &quot;2&quot;, &quot;date_install&quot;: &quot;2014-12&quot;, &quot;date_make&quot;: &quot;2020-08-31&quot;, &quot;direction&quot;: &quot;\\ubc18\\uacbd100m\\uc774\\ub0b4&quot;, &quot;lat&quot;: 35.83124111, &quot;lat2&quot;: 35.8308896, &quot;lon&quot;: 127.137582, &quot;lon2&quot;: 127.1376673, &quot;offer_admin_cd&quot;: &quot;4640000&quot;, &quot;offer_admin_nm&quot;: &quot;\\uc804\\ub77c\\ubd81\\ub3c4 \\uc804\\uc8fc\\uc2dc&quot;, &quot;period&quot;: &quot;30&quot;, &quot;pixel&quot;: &quot;200&quot;, &quot;purpose&quot;: &quot;\\uc0dd\\ud65c\\ubc29\\ubc94&quot;, &quot;tel&quot;: &quot;063-281-2072&quot;}, &quot;type&quot;: &quot;Feature&quot;}, {&quot;bbox&quot;: [127.1314059, 35.8327932, 127.1314059, 35.8327932], &quot;geometry&quot;: {&quot;coordinates&quot;: [127.1314059, 35.8327932], &quot;type&quot;: &quot;Point&quot;}, &quot;id&quot;: &quot;77&quot;, &quot;properties&quot;: {&quot;__folium_color&quot;: &quot;red&quot;, &quot;addr_jb&quot;: &quot;\\uc804\\ub77c\\ubd81\\ub3c4 \\uc804\\uc8fc\\uc2dc \\ub355\\uc9c4\\uad6c \\uc9c4\\ubd81\\ub3d9 772-43&quot;, &quot;addr_rd&quot;: &quot;\\uc804\\ub77c\\ubd81\\ub3c4 \\uc804\\uc8fc\\uc2dc \\ub355\\uc9c4\\uad6c \\uc232\\uc815\\uc7742\\uae38 46-27&quot;, &quot;admin_nm&quot;: &quot;\\uc804\\ub77c\\ubd81\\ub3c4 \\uc804\\uc8fc\\uc2dc\\uccad&quot;, &quot;cctv_cnt&quot;: &quot;2&quot;, &quot;date_install&quot;: &quot;2014-12&quot;, &quot;date_make&quot;: &quot;2020-08-31&quot;, &quot;direction&quot;: &quot;\\ubc18\\uacbd100m\\uc774\\ub0b4&quot;, &quot;lat&quot;: 35.8326837, &quot;lat2&quot;: 35.8327932, &quot;lon&quot;: 127.1309659, &quot;lon2&quot;: 127.1314059, &quot;offer_admin_cd&quot;: &quot;4640000&quot;, &quot;offer_admin_nm&quot;: &quot;\\uc804\\ub77c\\ubd81\\ub3c4 \\uc804\\uc8fc\\uc2dc&quot;, &quot;period&quot;: &quot;30&quot;, &quot;pixel&quot;: &quot;200&quot;, &quot;purpose&quot;: &quot;\\uc0dd\\ud65c\\ubc29\\ubc94&quot;, &quot;tel&quot;: &quot;063-281-2072&quot;}, &quot;type&quot;: &quot;Feature&quot;}, {&quot;bbox&quot;: [127.1060181, 35.8514807, 127.1060181, 35.8514807], &quot;geometry&quot;: {&quot;coordinates&quot;: [127.1060181, 35.8514807], &quot;type&quot;: &quot;Point&quot;}, &quot;id&quot;: &quot;78&quot;, &quot;properties&quot;: {&quot;__folium_color&quot;: &quot;red&quot;, &quot;addr_jb&quot;: &quot;\\uc804\\ub77c\\ubd81\\ub3c4 \\uc804\\uc8fc\\uc2dc \\ub355\\uc9c4\\uad6c \\ud314\\ubcf5\\ub3d92\\uac00 33-4&quot;, &quot;addr_rd&quot;: &quot;\\uc804\\ub77c\\ubd81\\ub3c4 \\uc804\\uc8fc\\uc2dc \\ub355\\uc9c4\\uad6c \\ucd94\\ucc9c6\\uae38 14&quot;, &quot;admin_nm&quot;: &quot;\\uc804\\ub77c\\ubd81\\ub3c4 \\uc804\\uc8fc\\uc2dc\\uccad&quot;, &quot;cctv_cnt&quot;: &quot;2&quot;, &quot;date_install&quot;: &quot;2014-12&quot;, &quot;date_make&quot;: &quot;2020-08-31&quot;, &quot;direction&quot;: &quot;\\ubc18\\uacbd100m\\uc774\\ub0b4&quot;, &quot;lat&quot;: 35.85175324, &quot;lat2&quot;: 35.8514807, &quot;lon&quot;: 127.106128, &quot;lon2&quot;: 127.1060181, &quot;offer_admin_cd&quot;: &quot;4640000&quot;, &quot;offer_admin_nm&quot;: &quot;\\uc804\\ub77c\\ubd81\\ub3c4 \\uc804\\uc8fc\\uc2dc&quot;, &quot;period&quot;: &quot;30&quot;, &quot;pixel&quot;: &quot;200&quot;, &quot;purpose&quot;: &quot;\\uc0dd\\ud65c\\ubc29\\ubc94&quot;, &quot;tel&quot;: &quot;063-281-2072&quot;}, &quot;type&quot;: &quot;Feature&quot;}, {&quot;bbox&quot;: [128.4293665, 36.535333, 128.4293665, 36.535333], &quot;geometry&quot;: {&quot;coordinates&quot;: [128.4293665, 36.535333], &quot;type&quot;: &quot;Point&quot;}, &quot;id&quot;: &quot;79&quot;, &quot;properties&quot;: {&quot;__folium_color&quot;: &quot;red&quot;, &quot;addr_jb&quot;: &quot;\\uacbd\\uc0c1\\ubd81\\ub3c4 \\uc608\\ucc9c\\uad70 \\uc9c0\\ubcf4\\uba74 \\uc2e0\\ud48d\\ub9ac 832-1&quot;, &quot;addr_rd&quot;: null, &quot;admin_nm&quot;: &quot;\\uacbd\\uc0c1\\ubd81\\ub3c4 \\uc608\\ucc9c\\uad70\\uccad&quot;, &quot;cctv_cnt&quot;: &quot;2&quot;, &quot;date_install&quot;: &quot;2017-06&quot;, &quot;date_make&quot;: &quot;2020-09-22&quot;, &quot;direction&quot;: &quot;\\uc124\\uce58\\uc7a5\\uc18c \\uce74\\uba54\\ub77c \\uc804\\ubc29&quot;, &quot;lat&quot;: 36.533101, &quot;lat2&quot;: 36.535333, &quot;lon&quot;: 128.430541, &quot;lon2&quot;: 128.4293665, &quot;offer_admin_cd&quot;: &quot;5230000&quot;, &quot;offer_admin_nm&quot;: &quot;\\uacbd\\uc0c1\\ubd81\\ub3c4 \\uc608\\ucc9c\\uad70&quot;, &quot;period&quot;: &quot;30&quot;, &quot;pixel&quot;: &quot;200&quot;, &quot;purpose&quot;: &quot;\\uc0dd\\ud65c\\ubc29\\ubc94&quot;, &quot;tel&quot;: &quot;054-650-8981&quot;}, &quot;type&quot;: &quot;Feature&quot;}, {&quot;bbox&quot;: [128.455454, 36.5539317, 128.455454, 36.5539317], &quot;geometry&quot;: {&quot;coordinates&quot;: [128.455454, 36.5539317], &quot;type&quot;: &quot;Point&quot;}, &quot;id&quot;: &quot;80&quot;, &quot;properties&quot;: {&quot;__folium_color&quot;: &quot;red&quot;, &quot;addr_jb&quot;: &quot;\\uacbd\\uc0c1\\ubd81\\ub3c4 \\uc608\\ucc9c\\uad70 \\uc9c0\\ubcf4\\uba74 \\uc554\\ucc9c\\ub9ac 349-1&quot;, &quot;addr_rd&quot;: null, &quot;admin_nm&quot;: &quot;\\uacbd\\uc0c1\\ubd81\\ub3c4 \\uc608\\ucc9c\\uad70\\uccad&quot;, &quot;cctv_cnt&quot;: &quot;2&quot;, &quot;date_install&quot;: &quot;2014-09&quot;, &quot;date_make&quot;: &quot;2020-09-22&quot;, &quot;direction&quot;: &quot;\\uc124\\uce58\\uc7a5\\uc18c \\uce74\\uba54\\ub77c \\uc804\\ubc29&quot;, &quot;lat&quot;: 36.55388989, &quot;lat2&quot;: 36.5539317, &quot;lon&quot;: 128.455343, &quot;lon2&quot;: 128.455454, &quot;offer_admin_cd&quot;: &quot;5230000&quot;, &quot;offer_admin_nm&quot;: &quot;\\uacbd\\uc0c1\\ubd81\\ub3c4 \\uc608\\ucc9c\\uad70&quot;, &quot;period&quot;: &quot;30&quot;, &quot;pixel&quot;: &quot;200&quot;, &quot;purpose&quot;: &quot;\\uc0dd\\ud65c\\ubc29\\ubc94&quot;, &quot;tel&quot;: &quot;054-650-8981&quot;}, &quot;type&quot;: &quot;Feature&quot;}, {&quot;bbox&quot;: [128.4620197, 36.5415223, 128.4620197, 36.5415223], &quot;geometry&quot;: {&quot;coordinates&quot;: [128.4620197, 36.5415223], &quot;type&quot;: &quot;Point&quot;}, &quot;id&quot;: &quot;81&quot;, &quot;properties&quot;: {&quot;__folium_color&quot;: &quot;red&quot;, &quot;addr_jb&quot;: &quot;\\uacbd\\uc0c1\\ubd81\\ub3c4 \\uc608\\ucc9c\\uad70 \\uc9c0\\ubcf4\\uba74 \\uc554\\ucc9c\\ub9ac \\uc0b081-4&quot;, &quot;addr_rd&quot;: null, &quot;admin_nm&quot;: &quot;\\uacbd\\uc0c1\\ubd81\\ub3c4 \\uc608\\ucc9c\\uad70\\uccad&quot;, &quot;cctv_cnt&quot;: &quot;1&quot;, &quot;date_install&quot;: &quot;2019-06&quot;, &quot;date_make&quot;: &quot;2020-09-22&quot;, &quot;direction&quot;: &quot;\\uc124\\uce58\\uc7a5\\uc18c \\uce74\\uba54\\ub77c \\uc804\\ubc29&quot;, &quot;lat&quot;: 36.541517, &quot;lat2&quot;: 36.5415223, &quot;lon&quot;: 128.462105, &quot;lon2&quot;: 128.4620197, &quot;offer_admin_cd&quot;: &quot;5230000&quot;, &quot;offer_admin_nm&quot;: &quot;\\uacbd\\uc0c1\\ubd81\\ub3c4 \\uc608\\ucc9c\\uad70&quot;, &quot;period&quot;: &quot;30&quot;, &quot;pixel&quot;: &quot;200&quot;, &quot;purpose&quot;: &quot;\\uc0dd\\ud65c\\ubc29\\ubc94&quot;, &quot;tel&quot;: &quot;054-650-8981&quot;}, &quot;type&quot;: &quot;Feature&quot;}, {&quot;bbox&quot;: [128.4135138, 36.5784479, 128.4135138, 36.5784479], &quot;geometry&quot;: {&quot;coordinates&quot;: [128.4135138, 36.5784479], &quot;type&quot;: &quot;Point&quot;}, &quot;id&quot;: &quot;82&quot;, &quot;properties&quot;: {&quot;__folium_color&quot;: &quot;red&quot;, &quot;addr_jb&quot;: &quot;\\uacbd\\uc0c1\\ubd81\\ub3c4 \\uc608\\ucc9c\\uad70 \\uc9c0\\ubcf4\\uba74 \\uc5b4\\uc2e0\\ub9ac 1210-3&quot;, &quot;addr_rd&quot;: null, &quot;admin_nm&quot;: &quot;\\uacbd\\uc0c1\\ubd81\\ub3c4 \\uc608\\ucc9c\\uad70\\uccad&quot;, &quot;cctv_cnt&quot;: &quot;2&quot;, &quot;date_install&quot;: &quot;2017-11&quot;, &quot;date_make&quot;: &quot;2020-09-22&quot;, &quot;direction&quot;: &quot;\\uc124\\uce58\\uc7a5\\uc18c \\uce74\\uba54\\ub77c \\uc804\\ubc29&quot;, &quot;lat&quot;: 36.578773, &quot;lat2&quot;: 36.5784479, &quot;lon&quot;: 128.4135183, &quot;lon2&quot;: 128.4135138, &quot;offer_admin_cd&quot;: &quot;5230000&quot;, &quot;offer_admin_nm&quot;: &quot;\\uacbd\\uc0c1\\ubd81\\ub3c4 \\uc608\\ucc9c\\uad70&quot;, &quot;period&quot;: &quot;30&quot;, &quot;pixel&quot;: &quot;200&quot;, &quot;purpose&quot;: &quot;\\uc0dd\\ud65c\\ubc29\\ubc94&quot;, &quot;tel&quot;: &quot;054-650-8981&quot;}, &quot;type&quot;: &quot;Feature&quot;}, {&quot;bbox&quot;: [128.423886, 36.5758982, 128.423886, 36.5758982], &quot;geometry&quot;: {&quot;coordinates&quot;: [128.423886, 36.5758982], &quot;type&quot;: &quot;Point&quot;}, &quot;id&quot;: &quot;83&quot;, &quot;properties&quot;: {&quot;__folium_color&quot;: &quot;red&quot;, &quot;addr_jb&quot;: &quot;\\uacbd\\uc0c1\\ubd81\\ub3c4 \\uc608\\ucc9c\\uad70 \\uc9c0\\ubcf4\\uba74 \\uc5b4\\uc2e0\\ub9ac 1298-1&quot;, &quot;addr_rd&quot;: null, &quot;admin_nm&quot;: &quot;\\uacbd\\uc0c1\\ubd81\\ub3c4 \\uc608\\ucc9c\\uad70\\uccad&quot;, &quot;cctv_cnt&quot;: &quot;1&quot;, &quot;date_install&quot;: &quot;2020-06&quot;, &quot;date_make&quot;: &quot;2020-09-22&quot;, &quot;direction&quot;: &quot;\\uc124\\uce58\\uc7a5\\uc18c \\uce74\\uba54\\ub77c \\uc804\\ubc29&quot;, &quot;lat&quot;: 36.576087, &quot;lat2&quot;: 36.5758982, &quot;lon&quot;: 128.423858, &quot;lon2&quot;: 128.423886, &quot;offer_admin_cd&quot;: &quot;5230000&quot;, &quot;offer_admin_nm&quot;: &quot;\\uacbd\\uc0c1\\ubd81\\ub3c4 \\uc608\\ucc9c\\uad70&quot;, &quot;period&quot;: &quot;30&quot;, &quot;pixel&quot;: &quot;200&quot;, &quot;purpose&quot;: &quot;\\uc0dd\\ud65c\\ubc29\\ubc94&quot;, &quot;tel&quot;: &quot;054-650-8981&quot;}, &quot;type&quot;: &quot;Feature&quot;}, {&quot;bbox&quot;: [128.4175869, 36.5776355, 128.4175869, 36.5776355], &quot;geometry&quot;: {&quot;coordinates&quot;: [128.4175869, 36.5776355], &quot;type&quot;: &quot;Point&quot;}, &quot;id&quot;: &quot;84&quot;, &quot;properties&quot;: {&quot;__folium_color&quot;: &quot;red&quot;, &quot;addr_jb&quot;: &quot;\\uacbd\\uc0c1\\ubd81\\ub3c4 \\uc608\\ucc9c\\uad70 \\uc9c0\\ubcf4\\uba74 \\uc5b4\\uc2e0\\ub9ac 1334-3&quot;, &quot;addr_rd&quot;: null, &quot;admin_nm&quot;: &quot;\\uacbd\\uc0c1\\ubd81\\ub3c4 \\uc608\\ucc9c\\uad70\\uccad&quot;, &quot;cctv_cnt&quot;: &quot;1&quot;, &quot;date_install&quot;: &quot;2018-07&quot;, &quot;date_make&quot;: &quot;2020-09-22&quot;, &quot;direction&quot;: &quot;\\uc124\\uce58\\uc7a5\\uc18c \\uce74\\uba54\\ub77c \\uc804\\ubc29&quot;, &quot;lat&quot;: 36.577677, &quot;lat2&quot;: 36.5776355, &quot;lon&quot;: 128.417592, &quot;lon2&quot;: 128.4175869, &quot;offer_admin_cd&quot;: &quot;5230000&quot;, &quot;offer_admin_nm&quot;: &quot;\\uacbd\\uc0c1\\ubd81\\ub3c4 \\uc608\\ucc9c\\uad70&quot;, &quot;period&quot;: &quot;30&quot;, &quot;pixel&quot;: &quot;200&quot;, &quot;purpose&quot;: &quot;\\uc0dd\\ud65c\\ubc29\\ubc94&quot;, &quot;tel&quot;: &quot;054-650-8981&quot;}, &quot;type&quot;: &quot;Feature&quot;}, {&quot;bbox&quot;: [128.3796609, 36.5218369, 128.3796609, 36.5218369], &quot;geometry&quot;: {&quot;coordinates&quot;: [128.3796609, 36.5218369], &quot;type&quot;: &quot;Point&quot;}, &quot;id&quot;: &quot;85&quot;, &quot;properties&quot;: {&quot;__folium_color&quot;: &quot;red&quot;, &quot;addr_jb&quot;: &quot;\\uacbd\\uc0c1\\ubd81\\ub3c4 \\uc608\\ucc9c\\uad70 \\uc9c0\\ubcf4\\uba74 \\uc9c0\\ubcf4\\ub9ac 659-1&quot;, &quot;addr_rd&quot;: null, &quot;admin_nm&quot;: &quot;\\uacbd\\uc0c1\\ubd81\\ub3c4 \\uc608\\ucc9c\\uad70\\uccad&quot;, &quot;cctv_cnt&quot;: &quot;1&quot;, &quot;date_install&quot;: &quot;2019-06&quot;, &quot;date_make&quot;: &quot;2020-09-22&quot;, &quot;direction&quot;: &quot;\\uc124\\uce58\\uc7a5\\uc18c \\uce74\\uba54\\ub77c \\uc804\\ubc29&quot;, &quot;lat&quot;: 36.521811, &quot;lat2&quot;: 36.5218369, &quot;lon&quot;: 128.379673, &quot;lon2&quot;: 128.3796609, &quot;offer_admin_cd&quot;: &quot;5230000&quot;, &quot;offer_admin_nm&quot;: &quot;\\uacbd\\uc0c1\\ubd81\\ub3c4 \\uc608\\ucc9c\\uad70&quot;, &quot;period&quot;: &quot;30&quot;, &quot;pixel&quot;: &quot;200&quot;, &quot;purpose&quot;: &quot;\\uc0dd\\ud65c\\ubc29\\ubc94&quot;, &quot;tel&quot;: &quot;054-650-8981&quot;}, &quot;type&quot;: &quot;Feature&quot;}, {&quot;bbox&quot;: [126.8862918, 37.5189767, 126.8862918, 37.5189767], &quot;geometry&quot;: {&quot;coordinates&quot;: [126.8862918, 37.5189767], &quot;type&quot;: &quot;Point&quot;}, &quot;id&quot;: &quot;86&quot;, &quot;properties&quot;: {&quot;__folium_color&quot;: &quot;red&quot;, &quot;addr_jb&quot;: &quot;\\uc120\\uc720\\ub85c13\\uae38 25&quot;, &quot;addr_rd&quot;: &quot;\\uc120\\uc720\\ub85c13\\uae38 25,\\uc11c\\uc6b8\\uc601\\ubb38\\ucd08\\ub4f1\\ud559\\uad50 \\uc0ac\\uac70\\ub9ac\\uc55e&quot;, &quot;admin_nm&quot;: &quot;\\uc11c\\uc6b8\\ud2b9\\ubcc4\\uc2dc \\uc601\\ub4f1\\ud3ec\\uad6c&quot;, &quot;cctv_cnt&quot;: &quot;3&quot;, &quot;date_install&quot;: &quot;2018-08&quot;, &quot;date_make&quot;: &quot;2020-05-06&quot;, &quot;direction&quot;: &quot;360\\ub3c4 \\uc804\\ubc29\\uba74&quot;, &quot;lat&quot;: 37.5193534457, &quot;lat2&quot;: 37.5189767, &quot;lon&quot;: 126.8869604124, &quot;lon2&quot;: 126.8862918, &quot;offer_admin_cd&quot;: &quot;3180000&quot;, &quot;offer_admin_nm&quot;: &quot;\\uc11c\\uc6b8\\ud2b9\\ubcc4\\uc2dc \\uc601\\ub4f1\\ud3ec\\uad6c&quot;, &quot;period&quot;: &quot;30&quot;, &quot;pixel&quot;: null, &quot;purpose&quot;: &quot;\\uc0dd\\ud65c\\ubc29\\ubc94&quot;, &quot;tel&quot;: &quot;02-2670-4067&quot;}, &quot;type&quot;: &quot;Feature&quot;}, {&quot;bbox&quot;: [126.8835362, 37.5203822, 126.8835362, 37.5203822], &quot;geometry&quot;: {&quot;coordinates&quot;: [126.8835362, 37.5203822], &quot;type&quot;: &quot;Point&quot;}, &quot;id&quot;: &quot;87&quot;, &quot;properties&quot;: {&quot;__folium_color&quot;: &quot;red&quot;, &quot;addr_jb&quot;: &quot;\\ubb38\\ub798\\ub85c4\\uae38 4&quot;, &quot;addr_rd&quot;: &quot;\\ubb38\\ub798\\ub85c4\\uae38 4,\\ud604\\ub3002\\ucc28APT 202\\ub3d9 \\uc606 \\uc11c\\ubd80\\uac04\\uc120\\ub3c4\\ub85c \\uc0ac\\uc787\\uae38 \\uc721\\uad50\\uc55e&quot;, &quot;admin_nm&quot;: &quot;\\uc11c\\uc6b8\\ud2b9\\ubcc4\\uc2dc \\uc601\\ub4f1\\ud3ec\\uad6c&quot;, &quot;cctv_cnt&quot;: &quot;2&quot;, &quot;date_install&quot;: &quot;2018-08&quot;, &quot;date_make&quot;: &quot;2020-05-06&quot;, &quot;direction&quot;: &quot;360\\ub3c4 \\uc804\\ubc29\\uba74&quot;, &quot;lat&quot;: 37.5201778962, &quot;lat2&quot;: 37.5203822, &quot;lon&quot;: 126.8821100523, &quot;lon2&quot;: 126.8835362, &quot;offer_admin_cd&quot;: &quot;3180000&quot;, &quot;offer_admin_nm&quot;: &quot;\\uc11c\\uc6b8\\ud2b9\\ubcc4\\uc2dc \\uc601\\ub4f1\\ud3ec\\uad6c&quot;, &quot;period&quot;: &quot;30&quot;, &quot;pixel&quot;: null, &quot;purpose&quot;: &quot;\\uc0dd\\ud65c\\ubc29\\ubc94&quot;, &quot;tel&quot;: &quot;02-2670-4067&quot;}, &quot;type&quot;: &quot;Feature&quot;}, {&quot;bbox&quot;: [126.8863742, 37.516071, 126.8863742, 37.516071], &quot;geometry&quot;: {&quot;coordinates&quot;: [126.8863742, 37.516071], &quot;type&quot;: &quot;Point&quot;}, &quot;id&quot;: &quot;88&quot;, &quot;properties&quot;: {&quot;__folium_color&quot;: &quot;red&quot;, &quot;addr_jb&quot;: &quot;\\ubb38\\ub798\\ub3d95\\uac00 12 \\uc0ac\\uac70\\ub9ac\\uc55e&quot;, &quot;addr_rd&quot;: &quot;\\uc120\\uc720\\ub85c9\\ub098\\uae38 22,\\uc0ac\\uac70\\ub9ac\\uc55e&quot;, &quot;admin_nm&quot;: &quot;\\uc11c\\uc6b8\\ud2b9\\ubcc4\\uc2dc \\uc601\\ub4f1\\ud3ec\\uad6c&quot;, &quot;cctv_cnt&quot;: &quot;3&quot;, &quot;date_install&quot;: &quot;2018-08&quot;, &quot;date_make&quot;: &quot;2020-05-06&quot;, &quot;direction&quot;: &quot;360\\ub3c4 \\uc804\\ubc29\\uba74&quot;, &quot;lat&quot;: 37.5158761573, &quot;lat2&quot;: 37.516071, &quot;lon&quot;: 126.886113535, &quot;lon2&quot;: 126.8863742, &quot;offer_admin_cd&quot;: &quot;3180000&quot;, &quot;offer_admin_nm&quot;: &quot;\\uc11c\\uc6b8\\ud2b9\\ubcc4\\uc2dc \\uc601\\ub4f1\\ud3ec\\uad6c&quot;, &quot;period&quot;: &quot;30&quot;, &quot;pixel&quot;: null, &quot;purpose&quot;: &quot;\\uc0dd\\ud65c\\ubc29\\ubc94&quot;, &quot;tel&quot;: &quot;02-2670-4067&quot;}, &quot;type&quot;: &quot;Feature&quot;}, {&quot;bbox&quot;: [126.9037007, 37.5145853, 126.9037007, 37.5145853], &quot;geometry&quot;: {&quot;coordinates&quot;: [126.9037007, 37.5145853], &quot;type&quot;: &quot;Point&quot;}, &quot;id&quot;: &quot;89&quot;, &quot;properties&quot;: {&quot;__folium_color&quot;: &quot;red&quot;, &quot;addr_jb&quot;: &quot;\\ubb38\\ub798\\ub3d91\\uac00 2-6&quot;, &quot;addr_rd&quot;: &quot;\\uacbd\\uc778\\ub85c94\\uae38 9-13&quot;, &quot;admin_nm&quot;: &quot;\\uc11c\\uc6b8\\ud2b9\\ubcc4\\uc2dc \\uc601\\ub4f1\\ud3ec\\uad6c&quot;, &quot;cctv_cnt&quot;: &quot;3&quot;, &quot;date_install&quot;: &quot;2018-08&quot;, &quot;date_make&quot;: &quot;2020-05-06&quot;, &quot;direction&quot;: &quot;360\\ub3c4 \\uc804\\ubc29\\uba74&quot;, &quot;lat&quot;: 37.5144729108, &quot;lat2&quot;: 37.5145853, &quot;lon&quot;: 126.903630967, &quot;lon2&quot;: 126.9037007, &quot;offer_admin_cd&quot;: &quot;3180000&quot;, &quot;offer_admin_nm&quot;: &quot;\\uc11c\\uc6b8\\ud2b9\\ubcc4\\uc2dc \\uc601\\ub4f1\\ud3ec\\uad6c&quot;, &quot;period&quot;: &quot;30&quot;, &quot;pixel&quot;: null, &quot;purpose&quot;: &quot;\\uc0dd\\ud65c\\ubc29\\ubc94&quot;, &quot;tel&quot;: &quot;02-2670-4067&quot;}, &quot;type&quot;: &quot;Feature&quot;}, {&quot;bbox&quot;: [126.8838291, 37.5184406, 126.8838291, 37.5184406], &quot;geometry&quot;: {&quot;coordinates&quot;: [126.8838291, 37.5184406], &quot;type&quot;: &quot;Point&quot;}, &quot;id&quot;: &quot;90&quot;, &quot;properties&quot;: {&quot;__folium_color&quot;: &quot;red&quot;, &quot;addr_jb&quot;: &quot;\\ubb38\\ub798\\ub3d96\\uac00 55-1 \\ud604\\ub3006\\ucc28APT 602\\ub3d9 \\uadfc\\ucc98 \\ucc3d\\ub300\\uac10\\ub9ac\\uad50\\ud68c \\uc0ac\\uac70\\ub9ac\\uc55e&quot;, &quot;addr_rd&quot;: &quot;\\uc120\\uc720\\uc11c\\ub85c 31,\\ud604\\ub3006\\ucc28APT 602\\ub3d9 \\uadfc\\ucc98 \\ucc3d\\ub300\\uad50\\ud68c \\uc0ac\\uac70\\ub9ac\\uc55e&quot;, &quot;admin_nm&quot;: &quot;\\uc11c\\uc6b8\\ud2b9\\ubcc4\\uc2dc \\uc601\\ub4f1\\ud3ec\\uad6c&quot;, &quot;cctv_cnt&quot;: &quot;1&quot;, &quot;date_install&quot;: &quot;2018-08&quot;, &quot;date_make&quot;: &quot;2020-05-06&quot;, &quot;direction&quot;: &quot;360\\ub3c4 \\uc804\\ubc29\\uba74&quot;, &quot;lat&quot;: 37.5189357651, &quot;lat2&quot;: 37.5184406, &quot;lon&quot;: 126.8833181722, &quot;lon2&quot;: 126.8838291, &quot;offer_admin_cd&quot;: &quot;3180000&quot;, &quot;offer_admin_nm&quot;: &quot;\\uc11c\\uc6b8\\ud2b9\\ubcc4\\uc2dc \\uc601\\ub4f1\\ud3ec\\uad6c&quot;, &quot;period&quot;: &quot;30&quot;, &quot;pixel&quot;: null, &quot;purpose&quot;: &quot;\\uc0dd\\ud65c\\ubc29\\ubc94&quot;, &quot;tel&quot;: &quot;02-2670-4067&quot;}, &quot;type&quot;: &quot;Feature&quot;}, {&quot;bbox&quot;: [126.8985475, 37.5128334, 126.8985475, 37.5128334], &quot;geometry&quot;: {&quot;coordinates&quot;: [126.8985475, 37.5128334], &quot;type&quot;: &quot;Point&quot;}, &quot;id&quot;: &quot;91&quot;, &quot;properties&quot;: {&quot;__folium_color&quot;: &quot;red&quot;, &quot;addr_jb&quot;: &quot;\\ubb38\\ub798\\ub3d91\\uac00 35-2 \\ub3c4\\ub9bc\\uace0\\uac00 \\ubcf4\\ud589\\uc790\\ud1b5\\ud589\\ub85c(\\uc601\\ub4f1\\ud3ec\\ucd08\\uad50\\ubc29\\uba74) \\ub0b4\\ubd80\\uc548&quot;, &quot;addr_rd&quot;: &quot;\\uacbd\\uc778\\ub85c 756,\\ub3c4\\ub9bc\\uace0\\uac00 \\ubcf4\\ud589\\uc790\\ud1b5\\ud589\\ub85c(\\uc601\\ub4f1\\ud3ec\\ucd08\\uad50\\ubc29\\uba74) \\ub0b4\\ubd80\\uc548&quot;, &quot;admin_nm&quot;: &quot;\\uc11c\\uc6b8\\ud2b9\\ubcc4\\uc2dc \\uc601\\ub4f1\\ud3ec\\uad6c&quot;, &quot;cctv_cnt&quot;: &quot;1&quot;, &quot;date_install&quot;: &quot;2018-10&quot;, &quot;date_make&quot;: &quot;2020-05-06&quot;, &quot;direction&quot;: &quot;360\\ub3c4 \\uc804\\ubc29\\uba74&quot;, &quot;lat&quot;: 37.512385276, &quot;lat2&quot;: 37.5128334, &quot;lon&quot;: 126.8978292817, &quot;lon2&quot;: 126.8985475, &quot;offer_admin_cd&quot;: &quot;3180000&quot;, &quot;offer_admin_nm&quot;: &quot;\\uc11c\\uc6b8\\ud2b9\\ubcc4\\uc2dc \\uc601\\ub4f1\\ud3ec\\uad6c&quot;, &quot;period&quot;: &quot;30&quot;, &quot;pixel&quot;: null, &quot;purpose&quot;: &quot;\\uc0dd\\ud65c\\ubc29\\ubc94&quot;, &quot;tel&quot;: &quot;02-2670-4067&quot;}, &quot;type&quot;: &quot;Feature&quot;}, {&quot;bbox&quot;: [126.8957694, 37.5117741, 126.8957694, 37.5117741], &quot;geometry&quot;: {&quot;coordinates&quot;: [126.8957694, 37.5117741], &quot;type&quot;: &quot;Point&quot;}, &quot;id&quot;: &quot;92&quot;, &quot;properties&quot;: {&quot;__folium_color&quot;: &quot;red&quot;, &quot;addr_jb&quot;: &quot;\\ubb38\\ub798\\ub3d91\\uac00 51-2 \\uc0ac\\uac70\\ub9ac\\uc55e&quot;, &quot;addr_rd&quot;: &quot;\\uacbd\\uc778\\ub85c80\\uae38 7,\\uc0ac\\uac70\\ub9ac\\uc55e&quot;, &quot;admin_nm&quot;: &quot;\\uc11c\\uc6b8\\ud2b9\\ubcc4\\uc2dc \\uc601\\ub4f1\\ud3ec\\uad6c&quot;, &quot;cctv_cnt&quot;: &quot;4&quot;, &quot;date_install&quot;: &quot;2018-10&quot;, &quot;date_make&quot;: &quot;2020-05-06&quot;, &quot;direction&quot;: &quot;360\\ub3c4 \\uc804\\ubc29\\uba74&quot;, &quot;lat&quot;: 37.5116473092, &quot;lat2&quot;: 37.5117741, &quot;lon&quot;: 126.8956811169, &quot;lon2&quot;: 126.8957694, &quot;offer_admin_cd&quot;: &quot;3180000&quot;, &quot;offer_admin_nm&quot;: &quot;\\uc11c\\uc6b8\\ud2b9\\ubcc4\\uc2dc \\uc601\\ub4f1\\ud3ec\\uad6c&quot;, &quot;period&quot;: &quot;30&quot;, &quot;pixel&quot;: null, &quot;purpose&quot;: &quot;\\uc0dd\\ud65c\\ubc29\\ubc94&quot;, &quot;tel&quot;: &quot;02-2670-4067&quot;}, &quot;type&quot;: &quot;Feature&quot;}, {&quot;bbox&quot;: [126.8925846, 37.5122537, 126.8925846, 37.5122537], &quot;geometry&quot;: {&quot;coordinates&quot;: [126.8925846, 37.5122537], &quot;type&quot;: &quot;Point&quot;}, &quot;id&quot;: &quot;93&quot;, &quot;properties&quot;: {&quot;__folium_color&quot;: &quot;red&quot;, &quot;addr_jb&quot;: &quot;\\ubb38\\ub798\\ub3d92\\uac00 33-4 \\uc0ac\\uac70\\ub9ac\\uc55e&quot;, &quot;addr_rd&quot;: &quot;\\uacbd\\uc778\\ub85c77\\uac00\\uae38 6,\\uc0ac\\uac70\\ub9ac\\uc55e&quot;, &quot;admin_nm&quot;: &quot;\\uc11c\\uc6b8\\ud2b9\\ubcc4\\uc2dc \\uc601\\ub4f1\\ud3ec\\uad6c&quot;, &quot;cctv_cnt&quot;: &quot;4&quot;, &quot;date_install&quot;: &quot;2013-11&quot;, &quot;date_make&quot;: &quot;2020-05-06&quot;, &quot;direction&quot;: &quot;360\\ub3c4 \\uc804\\ubc29\\uba74&quot;, &quot;lat&quot;: 37.5122131191, &quot;lat2&quot;: 37.5122537, &quot;lon&quot;: 126.8928412599, &quot;lon2&quot;: 126.8925846, &quot;offer_admin_cd&quot;: &quot;3180000&quot;, &quot;offer_admin_nm&quot;: &quot;\\uc11c\\uc6b8\\ud2b9\\ubcc4\\uc2dc \\uc601\\ub4f1\\ud3ec\\uad6c&quot;, &quot;period&quot;: &quot;30&quot;, &quot;pixel&quot;: null, &quot;purpose&quot;: &quot;\\uc0dd\\ud65c\\ubc29\\ubc94&quot;, &quot;tel&quot;: &quot;02-2670-4067&quot;}, &quot;type&quot;: &quot;Feature&quot;}, {&quot;bbox&quot;: [126.9010776, 37.5134585, 126.9010776, 37.5134585], &quot;geometry&quot;: {&quot;coordinates&quot;: [126.9010776, 37.5134585], &quot;type&quot;: &quot;Point&quot;}, &quot;id&quot;: &quot;94&quot;, &quot;properties&quot;: {&quot;__folium_color&quot;: &quot;red&quot;, &quot;addr_jb&quot;: &quot;\\ubb38\\ub798\\ub3d91\\uac00 18-18 \\uc0bc\\uac70\\ub9ac\\uc55e&quot;, &quot;addr_rd&quot;: &quot;\\uacbd\\uc778\\ub85c90\\uae38 9-1,\\uc0bc\\uac70\\ub9ac\\uc55e&quot;, &quot;admin_nm&quot;: &quot;\\uc11c\\uc6b8\\ud2b9\\ubcc4\\uc2dc \\uc601\\ub4f1\\ud3ec\\uad6c&quot;, &quot;cctv_cnt&quot;: &quot;3&quot;, &quot;date_install&quot;: &quot;2013-11&quot;, &quot;date_make&quot;: &quot;2020-05-06&quot;, &quot;direction&quot;: &quot;360\\ub3c4 \\uc804\\ubc29\\uba74&quot;, &quot;lat&quot;: 37.5133672767, &quot;lat2&quot;: 37.5134585, &quot;lon&quot;: 126.9009934326, &quot;lon2&quot;: 126.9010776, &quot;offer_admin_cd&quot;: &quot;3180000&quot;, &quot;offer_admin_nm&quot;: &quot;\\uc11c\\uc6b8\\ud2b9\\ubcc4\\uc2dc \\uc601\\ub4f1\\ud3ec\\uad6c&quot;, &quot;period&quot;: &quot;30&quot;, &quot;pixel&quot;: null, &quot;purpose&quot;: &quot;\\uc0dd\\ud65c\\ubc29\\ubc94&quot;, &quot;tel&quot;: &quot;02-2670-4067&quot;}, &quot;type&quot;: &quot;Feature&quot;}, {&quot;bbox&quot;: [126.8969123, 37.5147327, 126.8969123, 37.5147327], &quot;geometry&quot;: {&quot;coordinates&quot;: [126.8969123, 37.5147327], &quot;type&quot;: &quot;Point&quot;}, &quot;id&quot;: &quot;95&quot;, &quot;properties&quot;: {&quot;__folium_color&quot;: &quot;red&quot;, &quot;addr_jb&quot;: &quot;\\ubb38\\ub798\\ub3d93\\uac00 54-22 ~ \\ubb38\\ub798\\uc790\\uc774APT 106-107\\ub3d9 \\uc0ac\\uc774\\ub3c4\\ub85c\\uc55e&quot;, &quot;addr_rd&quot;: &quot;\\ub3c4\\ub9bc\\ub85c128\\uac00\\uae38 11,\\ubb38\\ub798\\uc790\\uc774APT 106-107\\ub3d9 \\uc0ac\\uc774\\ub3c4\\ub85c\\uc55e&quot;, &quot;admin_nm&quot;: &quot;\\uc11c\\uc6b8\\ud2b9\\ubcc4\\uc2dc \\uc601\\ub4f1\\ud3ec\\uad6c&quot;, &quot;cctv_cnt&quot;: &quot;3&quot;, &quot;date_install&quot;: &quot;2015-09&quot;, &quot;date_make&quot;: &quot;2020-05-06&quot;, &quot;direction&quot;: &quot;360\\ub3c4 \\uc804\\ubc29\\uba74&quot;, &quot;lat&quot;: 37.5150455646, &quot;lat2&quot;: 37.5147327, &quot;lon&quot;: 126.8969818104, &quot;lon2&quot;: 126.8969123, &quot;offer_admin_cd&quot;: &quot;3180000&quot;, &quot;offer_admin_nm&quot;: &quot;\\uc11c\\uc6b8\\ud2b9\\ubcc4\\uc2dc \\uc601\\ub4f1\\ud3ec\\uad6c&quot;, &quot;period&quot;: &quot;30&quot;, &quot;pixel&quot;: null, &quot;purpose&quot;: &quot;\\uc0dd\\ud65c\\ubc29\\ubc94&quot;, &quot;tel&quot;: &quot;02-2670-4067&quot;}, &quot;type&quot;: &quot;Feature&quot;}, {&quot;bbox&quot;: [126.8941621, 37.5130008, 126.8941621, 37.5130008], &quot;geometry&quot;: {&quot;coordinates&quot;: [126.8941621, 37.5130008], &quot;type&quot;: &quot;Point&quot;}, &quot;id&quot;: &quot;96&quot;, &quot;properties&quot;: {&quot;__folium_color&quot;: &quot;red&quot;, &quot;addr_jb&quot;: &quot;\\ubb38\\ub798\\ub3d92\\uac00 20-2 \\uc0ac\\uac70\\ub9ac\\uc55e&quot;, &quot;addr_rd&quot;: &quot;\\ub3c4\\ub9bc\\ub85c133\\uae38 15,\\uc0ac\\uac70\\ub9ac\\uc55e&quot;, &quot;admin_nm&quot;: &quot;\\uc11c\\uc6b8\\ud2b9\\ubcc4\\uc2dc \\uc601\\ub4f1\\ud3ec\\uad6c&quot;, &quot;cctv_cnt&quot;: &quot;6&quot;, &quot;date_install&quot;: &quot;2015-09&quot;, &quot;date_make&quot;: &quot;2020-05-06&quot;, &quot;direction&quot;: &quot;360\\ub3c4 \\uc804\\ubc29\\uba74&quot;, &quot;lat&quot;: 37.5131441889, &quot;lat2&quot;: 37.5130008, &quot;lon&quot;: 126.8941127212, &quot;lon2&quot;: 126.8941621, &quot;offer_admin_cd&quot;: &quot;3180000&quot;, &quot;offer_admin_nm&quot;: &quot;\\uc11c\\uc6b8\\ud2b9\\ubcc4\\uc2dc \\uc601\\ub4f1\\ud3ec\\uad6c&quot;, &quot;period&quot;: &quot;30&quot;, &quot;pixel&quot;: null, &quot;purpose&quot;: &quot;\\uc0dd\\ud65c\\ubc29\\ubc94&quot;, &quot;tel&quot;: &quot;02-2670-4067&quot;}, &quot;type&quot;: &quot;Feature&quot;}, {&quot;bbox&quot;: [126.890057, 37.5156461, 126.890057, 37.5156461], &quot;geometry&quot;: {&quot;coordinates&quot;: [126.890057, 37.5156461], &quot;type&quot;: &quot;Point&quot;}, &quot;id&quot;: &quot;97&quot;, &quot;properties&quot;: {&quot;__folium_color&quot;: &quot;red&quot;, &quot;addr_jb&quot;: &quot;\\ubb38\\ub798\\ub3d94\\uac00 11-46 \\uc0ac\\uac70\\ub9ac\\uc55e&quot;, &quot;addr_rd&quot;: &quot;\\ub3c4\\ub9bc\\ub85c145\\uae38 10,\\uc0ac\\uac70\\ub9ac\\uc55e&quot;, &quot;admin_nm&quot;: &quot;\\uc11c\\uc6b8\\ud2b9\\ubcc4\\uc2dc \\uc601\\ub4f1\\ud3ec\\uad6c&quot;, &quot;cctv_cnt&quot;: &quot;5&quot;, &quot;date_install&quot;: &quot;2015-09&quot;, &quot;date_make&quot;: &quot;2020-05-06&quot;, &quot;direction&quot;: &quot;360\\ub3c4 \\uc804\\ubc29\\uba74&quot;, &quot;lat&quot;: 37.5155322848, &quot;lat2&quot;: 37.5156461, &quot;lon&quot;: 126.8900669919, &quot;lon2&quot;: 126.890057, &quot;offer_admin_cd&quot;: &quot;3180000&quot;, &quot;offer_admin_nm&quot;: &quot;\\uc11c\\uc6b8\\ud2b9\\ubcc4\\uc2dc \\uc601\\ub4f1\\ud3ec\\uad6c&quot;, &quot;period&quot;: &quot;30&quot;, &quot;pixel&quot;: null, &quot;purpose&quot;: &quot;\\uc0dd\\ud65c\\ubc29\\ubc94&quot;, &quot;tel&quot;: &quot;02-2670-4067&quot;}, &quot;type&quot;: &quot;Feature&quot;}, {&quot;bbox&quot;: [126.9011434, 37.5170611, 126.9011434, 37.5170611], &quot;geometry&quot;: {&quot;coordinates&quot;: [126.9011434, 37.5170611], &quot;type&quot;: &quot;Point&quot;}, &quot;id&quot;: &quot;98&quot;, &quot;properties&quot;: {&quot;__folium_color&quot;: &quot;red&quot;, &quot;addr_jb&quot;: &quot;\\ubb38\\ub798\\ub3d93\\uac00 14-1 \\ubb38\\ub798\\ud574\\ud0dcAPT \\ucd9c\\uc785\\uad6c\\uc55e&quot;, &quot;addr_rd&quot;: &quot;\\uc601\\uc2e0\\ub85c25\\uae38 7,\\ubb38\\ub798\\ud574\\ud0dcAPT \\ucd9c\\uc785\\uad6c\\uc55e&quot;, &quot;admin_nm&quot;: &quot;\\uc11c\\uc6b8\\ud2b9\\ubcc4\\uc2dc \\uc601\\ub4f1\\ud3ec\\uad6c&quot;, &quot;cctv_cnt&quot;: &quot;2&quot;, &quot;date_install&quot;: &quot;2010-12&quot;, &quot;date_make&quot;: &quot;2020-05-06&quot;, &quot;direction&quot;: &quot;360\\ub3c4 \\uc804\\ubc29\\uba74&quot;, &quot;lat&quot;: 37.5170800285, &quot;lat2&quot;: 37.5170611, &quot;lon&quot;: 126.9012285194, &quot;lon2&quot;: 126.9011434, &quot;offer_admin_cd&quot;: &quot;3180000&quot;, &quot;offer_admin_nm&quot;: &quot;\\uc11c\\uc6b8\\ud2b9\\ubcc4\\uc2dc \\uc601\\ub4f1\\ud3ec\\uad6c&quot;, &quot;period&quot;: &quot;30&quot;, &quot;pixel&quot;: null, &quot;purpose&quot;: &quot;\\uc0dd\\ud65c\\ubc29\\ubc94&quot;, &quot;tel&quot;: &quot;02-2670-4067&quot;}, &quot;type&quot;: &quot;Feature&quot;}, {&quot;bbox&quot;: [126.889503, 37.5137751, 126.889503, 37.5137751], &quot;geometry&quot;: {&quot;coordinates&quot;: [126.889503, 37.5137751], &quot;type&quot;: &quot;Point&quot;}, &quot;id&quot;: &quot;99&quot;, &quot;properties&quot;: {&quot;__folium_color&quot;: &quot;red&quot;, &quot;addr_jb&quot;: &quot;\\ubb38\\ub798\\ub3d94\\uac00 43 \\ubb38\\ub798\\uc0bc\\ud658APT\\uc606 105\\ub3d9~\\ub9ac\\ubc84\\ubdf0\\uc2e0\\uc548\\uc778\\uc2a4\\ube4c 202\\ub3d9\\uc0ac\\uc774 \\uace0\\uac00\\ub3c4\\ub85c\\uc55e \\uc0bc\\uac70\\ub9ac&quot;, &quot;addr_rd&quot;: &quot;\\ub3c4\\ub9bc\\ub85c143\\uae38 30,\\ubb38\\ub798\\uc0bc\\ud658APT 105\\ub3d9~\\ub9ac\\ubc84\\ubdf0\\uc2e0\\uc548\\uc778\\uc2a4\\ube4c 202\\ub3d9\\uc0ac\\uc774 \\uace0\\uac00\\ub3c4\\ub85c\\uc55e \\uc0bc\\uac70\\ub9ac&quot;, &quot;admin_nm&quot;: &quot;\\uc11c\\uc6b8\\ud2b9\\ubcc4\\uc2dc \\uc601\\ub4f1\\ud3ec\\uad6c&quot;, &quot;cctv_cnt&quot;: &quot;3&quot;, &quot;date_install&quot;: &quot;2011-02&quot;, &quot;date_make&quot;: &quot;2020-05-06&quot;, &quot;direction&quot;: &quot;360\\ub3c4 \\uc804\\ubc29\\uba74&quot;, &quot;lat&quot;: 37.5130890391, &quot;lat2&quot;: 37.5137751, &quot;lon&quot;: 126.8897667784, &quot;lon2&quot;: 126.889503, &quot;offer_admin_cd&quot;: &quot;3180000&quot;, &quot;offer_admin_nm&quot;: &quot;\\uc11c\\uc6b8\\ud2b9\\ubcc4\\uc2dc \\uc601\\ub4f1\\ud3ec\\uad6c&quot;, &quot;period&quot;: &quot;30&quot;, &quot;pixel&quot;: null, &quot;purpose&quot;: &quot;\\uc0dd\\ud65c\\ubc29\\ubc94&quot;, &quot;tel&quot;: &quot;02-2670-4067&quot;}, &quot;type&quot;: &quot;Feature&quot;}], &quot;type&quot;: &quot;FeatureCollection&quot;});\n",
       "\n",
       "        \n",
       "    \n",
       "    geo_json_7b59f902c9917eb109c0af692cfe88d0.bindTooltip(\n",
       "    function(layer){\n",
       "    let div = L.DomUtil.create(&#x27;div&#x27;);\n",
       "    \n",
       "    let handleObject = feature=&gt;typeof(feature)==&#x27;object&#x27; ? JSON.stringify(feature) : feature;\n",
       "    let fields = [&quot;admin_nm&quot;, &quot;addr_rd&quot;, &quot;addr_jb&quot;, &quot;purpose&quot;, &quot;cctv_cnt&quot;, &quot;pixel&quot;, &quot;direction&quot;, &quot;period&quot;, &quot;date_install&quot;, &quot;tel&quot;, &quot;lat&quot;, &quot;lon&quot;, &quot;date_make&quot;, &quot;offer_admin_cd&quot;, &quot;offer_admin_nm&quot;, &quot;lon2&quot;, &quot;lat2&quot;];\n",
       "    let aliases = [&quot;admin_nm&quot;, &quot;addr_rd&quot;, &quot;addr_jb&quot;, &quot;purpose&quot;, &quot;cctv_cnt&quot;, &quot;pixel&quot;, &quot;direction&quot;, &quot;period&quot;, &quot;date_install&quot;, &quot;tel&quot;, &quot;lat&quot;, &quot;lon&quot;, &quot;date_make&quot;, &quot;offer_admin_cd&quot;, &quot;offer_admin_nm&quot;, &quot;lon2&quot;, &quot;lat2&quot;];\n",
       "    let table = &#x27;&lt;table&gt;&#x27; +\n",
       "        String(\n",
       "        fields.map(\n",
       "        (v,i)=&gt;\n",
       "        `&lt;tr&gt;\n",
       "            &lt;th&gt;${aliases[i]}&lt;/th&gt;\n",
       "            \n",
       "            &lt;td&gt;${handleObject(layer.feature.properties[v])}&lt;/td&gt;\n",
       "        &lt;/tr&gt;`).join(&#x27;&#x27;))\n",
       "    +&#x27;&lt;/table&gt;&#x27;;\n",
       "    div.innerHTML=table;\n",
       "    \n",
       "    return div\n",
       "    }\n",
       "    ,{&quot;className&quot;: &quot;foliumtooltip&quot;, &quot;sticky&quot;: true});\n",
       "                     \n",
       "&lt;/script&gt;\n",
       "&lt;/html&gt;\" style=\"position:absolute;width:100%;height:100%;left:0;top:0;border:none !important;\" allowfullscreen webkitallowfullscreen mozallowfullscreen></iframe></div></div>"
      ],
      "text/plain": [
       "<folium.folium.Map at 0x197ff4c8e20>"
      ]
     },
     "execution_count": 42,
     "metadata": {},
     "output_type": "execute_result"
    }
   ],
   "source": [
    "cctv_gdf.explore(color='red', tiles='http://basemaps.cartocdn.com/dark_all/{z}/{x}/{y}.png', attr='Carto')"
   ]
  },
  {
   "cell_type": "code",
   "execution_count": 43,
   "metadata": {},
   "outputs": [
    {
     "name": "stderr",
     "output_type": "stream",
     "text": [
      "C:\\Users\\thlee\\AppData\\Local\\Temp\\ipykernel_29468\\1546033548.py:2: UserWarning: Column names longer than 10 characters will be truncated when saved to ESRI Shapefile.\n",
      "  cctv_gdf.to_file('result/cctv.shp', encoding='cp949')\n"
     ]
    }
   ],
   "source": [
    "# 공간데이터 파일로 저장 - result 폴더가 있어야 합니다 \n",
    "cctv_gdf.to_file('result/cctv.shp', encoding='cp949')"
   ]
  },
  {
   "cell_type": "markdown",
   "metadata": {},
   "source": [
    "## 수고많으셨습니다!!!"
   ]
  }
 ],
 "metadata": {
  "kernelspec": {
   "display_name": "Python 3.9.13 64-bit",
   "language": "python",
   "name": "python3"
  },
  "language_info": {
   "codemirror_mode": {
    "name": "ipython",
    "version": 3
   },
   "file_extension": ".py",
   "mimetype": "text/x-python",
   "name": "python",
   "nbconvert_exporter": "python",
   "pygments_lexer": "ipython3",
   "version": "3.9.13"
  },
  "orig_nbformat": 4,
  "vscode": {
   "interpreter": {
    "hash": "75fc08a77ba5dc010acb4723b235b57d654da149a5853c72fa1311ff3c119fa3"
   }
  }
 },
 "nbformat": 4,
 "nbformat_minor": 2
}
