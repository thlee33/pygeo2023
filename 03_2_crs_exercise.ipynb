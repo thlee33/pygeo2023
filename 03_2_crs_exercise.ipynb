{
 "cells": [
  {
   "cell_type": "markdown",
   "metadata": {},
   "source": [
    "## 개요\n",
    "파이썬 환경에서 공간데이터의 좌표계를 확인하고, 다른 좌표계로 변환해 봅시다."
   ]
  },
  {
   "cell_type": "markdown",
   "metadata": {},
   "source": [
    "---"
   ]
  },
  {
   "cell_type": "markdown",
   "metadata": {},
   "source": [
    "## 사용할 패키지 준비"
   ]
  },
  {
   "cell_type": "code",
   "execution_count": 1,
   "metadata": {},
   "outputs": [],
   "source": [
    "import geopandas as gpd\n",
    "import matplotlib.pyplot as plt\n",
    "%matplotlib inline\n",
    "%config InlineBackend.figure_format = 'retina'"
   ]
  },
  {
   "cell_type": "markdown",
   "metadata": {},
   "source": [
    "---"
   ]
  },
  {
   "cell_type": "markdown",
   "metadata": {},
   "source": [
    "## 사용할 데이터 준비\n",
    "앞서 사용한 행정동 데이터를 사용합니다."
   ]
  },
  {
   "cell_type": "code",
   "execution_count": 20,
   "metadata": {},
   "outputs": [],
   "source": [
    "shp_path = 'data/shp/NGII_CDM_행정경계(시도)/Z_NGII_N3A_G0010000.shp'\n",
    "sido_gdf = gpd.read_file(shp_path, ********='cp949')"
   ]
  },
  {
   "cell_type": "code",
   "execution_count": 22,
   "metadata": {},
   "outputs": [
    {
     "data": {
      "text/html": [
       "<div>\n",
       "<style scoped>\n",
       "    .dataframe tbody tr th:only-of-type {\n",
       "        vertical-align: middle;\n",
       "    }\n",
       "\n",
       "    .dataframe tbody tr th {\n",
       "        vertical-align: top;\n",
       "    }\n",
       "\n",
       "    .dataframe thead th {\n",
       "        text-align: right;\n",
       "    }\n",
       "</style>\n",
       "<table border=\"1\" class=\"dataframe\">\n",
       "  <thead>\n",
       "    <tr style=\"text-align: right;\">\n",
       "      <th></th>\n",
       "      <th>UFID</th>\n",
       "      <th>BJCD</th>\n",
       "      <th>NAME</th>\n",
       "      <th>DIVI</th>\n",
       "      <th>SCLS</th>\n",
       "      <th>FMTA</th>\n",
       "      <th>geometry</th>\n",
       "    </tr>\n",
       "  </thead>\n",
       "  <tbody>\n",
       "    <tr>\n",
       "      <th>0</th>\n",
       "      <td>ARB0100000000001E</td>\n",
       "      <td>5000000000</td>\n",
       "      <td>제주특별자치도</td>\n",
       "      <td>HJD004</td>\n",
       "      <td>None</td>\n",
       "      <td>None</td>\n",
       "      <td>MULTIPOLYGON (((932629.315 1508520.449, 932629...</td>\n",
       "    </tr>\n",
       "    <tr>\n",
       "      <th>1</th>\n",
       "      <td>ARB0100000000002F</td>\n",
       "      <td>4800000000</td>\n",
       "      <td>경상남도</td>\n",
       "      <td>HJD004</td>\n",
       "      <td>None</td>\n",
       "      <td>None</td>\n",
       "      <td>MULTIPOLYGON (((1049231.579 1666542.963, 10492...</td>\n",
       "    </tr>\n",
       "    <tr>\n",
       "      <th>2</th>\n",
       "      <td>ARB0100000000003G</td>\n",
       "      <td>4700000000</td>\n",
       "      <td>경상북도</td>\n",
       "      <td>HJD004</td>\n",
       "      <td>None</td>\n",
       "      <td>None</td>\n",
       "      <td>MULTIPOLYGON (((1163496.075 1906689.767, 11635...</td>\n",
       "    </tr>\n",
       "    <tr>\n",
       "      <th>3</th>\n",
       "      <td>ARB0100000000004H</td>\n",
       "      <td>4600000000</td>\n",
       "      <td>전라남도</td>\n",
       "      <td>HJD004</td>\n",
       "      <td>None</td>\n",
       "      <td>None</td>\n",
       "      <td>MULTIPOLYGON (((898759.456 1670482.743, 898760...</td>\n",
       "    </tr>\n",
       "    <tr>\n",
       "      <th>4</th>\n",
       "      <td>ARB0100000000005I</td>\n",
       "      <td>4500000000</td>\n",
       "      <td>전라북도</td>\n",
       "      <td>HJD004</td>\n",
       "      <td>None</td>\n",
       "      <td>None</td>\n",
       "      <td>MULTIPOLYGON (((953538.952 1794637.930, 953543...</td>\n",
       "    </tr>\n",
       "  </tbody>\n",
       "</table>\n",
       "</div>"
      ],
      "text/plain": [
       "                UFID        BJCD     NAME    DIVI  SCLS  FMTA  \\\n",
       "0  ARB0100000000001E  5000000000  제주특별자치도  HJD004  None  None   \n",
       "1  ARB0100000000002F  4800000000     경상남도  HJD004  None  None   \n",
       "2  ARB0100000000003G  4700000000     경상북도  HJD004  None  None   \n",
       "3  ARB0100000000004H  4600000000     전라남도  HJD004  None  None   \n",
       "4  ARB0100000000005I  4500000000     전라북도  HJD004  None  None   \n",
       "\n",
       "                                            geometry  \n",
       "0  MULTIPOLYGON (((932629.315 1508520.449, 932629...  \n",
       "1  MULTIPOLYGON (((1049231.579 1666542.963, 10492...  \n",
       "2  MULTIPOLYGON (((1163496.075 1906689.767, 11635...  \n",
       "3  MULTIPOLYGON (((898759.456 1670482.743, 898760...  \n",
       "4  MULTIPOLYGON (((953538.952 1794637.930, 953543...  "
      ]
     },
     "execution_count": 22,
     "metadata": {},
     "output_type": "execute_result"
    }
   ],
   "source": [
    "sido_gdf.head()"
   ]
  },
  {
   "cell_type": "markdown",
   "metadata": {},
   "source": [
    "## 좌표계를 확인해 봅시다"
   ]
  },
  {
   "cell_type": "code",
   "execution_count": 3,
   "metadata": {},
   "outputs": [
    {
     "data": {
      "text/plain": [
       "<Derived Projected CRS: EPSG:5179>\n",
       "Name: Korea 2000 / Unified CS\n",
       "Axis Info [cartesian]:\n",
       "- X[north]: Northing (metre)\n",
       "- Y[east]: Easting (metre)\n",
       "Area of Use:\n",
       "- name: Republic of Korea (South Korea) - onshore and offshore.\n",
       "- bounds: (122.71, 28.6, 134.28, 40.27)\n",
       "Coordinate Operation:\n",
       "- name: Korea Unified Belt\n",
       "- method: Transverse Mercator\n",
       "Datum: Geocentric datum of Korea\n",
       "- Ellipsoid: GRS 1980\n",
       "- Prime Meridian: Greenwich"
      ]
     },
     "execution_count": 3,
     "metadata": {},
     "output_type": "execute_result"
    }
   ],
   "source": [
    "sido_gdf.***"
   ]
  },
  {
   "cell_type": "markdown",
   "metadata": {},
   "source": [
    "## 좌표계 정보가 없는 공간데이터에 좌표계 정보를 부여해 주려면? (좌표계 정의)\n",
    "#### 힌트  \n",
    "European Petroleum Survey Group의 약자   \n",
    "https://epsg.org/home.html    "
   ]
  },
  {
   "cell_type": "code",
   "execution_count": null,
   "metadata": {},
   "outputs": [],
   "source": [
    "shp_path2 = 'data/shp/sido_not_prj/Z_NGII_N3A_G0010000.shp'\n",
    "sido_gdf2 = gpd.read_file(shp_path2)"
   ]
  },
  {
   "cell_type": "code",
   "execution_count": 12,
   "metadata": {},
   "outputs": [],
   "source": [
    "sido_gdf2.crs = \"****:5179\""
   ]
  },
  {
   "cell_type": "code",
   "execution_count": 13,
   "metadata": {},
   "outputs": [
    {
     "data": {
      "text/plain": [
       "<Derived Projected CRS: EPSG:5179>\n",
       "Name: Korea 2000 / Unified CS\n",
       "Axis Info [cartesian]:\n",
       "- X[north]: Northing (metre)\n",
       "- Y[east]: Easting (metre)\n",
       "Area of Use:\n",
       "- name: Republic of Korea (South Korea) - onshore and offshore.\n",
       "- bounds: (122.71, 28.6, 134.28, 40.27)\n",
       "Coordinate Operation:\n",
       "- name: Korea Unified Belt\n",
       "- method: Transverse Mercator\n",
       "Datum: Geocentric datum of Korea\n",
       "- Ellipsoid: GRS 1980\n",
       "- Prime Meridian: Greenwich"
      ]
     },
     "execution_count": 13,
     "metadata": {},
     "output_type": "execute_result"
    }
   ],
   "source": [
    "sido_gdf2.crs"
   ]
  },
  {
   "cell_type": "markdown",
   "metadata": {},
   "source": [
    "## 원하는 다른 좌표계로 변환하려면?     "
   ]
  },
  {
   "cell_type": "code",
   "execution_count": 14,
   "metadata": {},
   "outputs": [
    {
     "data": {
      "text/plain": [
       "<Geographic 2D CRS: EPSG:4326>\n",
       "Name: WGS 84\n",
       "Axis Info [ellipsoidal]:\n",
       "- Lat[north]: Geodetic latitude (degree)\n",
       "- Lon[east]: Geodetic longitude (degree)\n",
       "Area of Use:\n",
       "- name: World.\n",
       "- bounds: (-180.0, -90.0, 180.0, 90.0)\n",
       "Datum: World Geodetic System 1984 ensemble\n",
       "- Ellipsoid: WGS 84\n",
       "- Prime Meridian: Greenwich"
      ]
     },
     "execution_count": 14,
     "metadata": {},
     "output_type": "execute_result"
    }
   ],
   "source": [
    "sido_gdf4326 = sido_gdf2.**_***(epsg=4326) \n",
    "sido_gdf4326.crs"
   ]
  },
  {
   "cell_type": "code",
   "execution_count": 15,
   "metadata": {},
   "outputs": [
    {
     "data": {
      "text/html": [
       "<div>\n",
       "<style scoped>\n",
       "    .dataframe tbody tr th:only-of-type {\n",
       "        vertical-align: middle;\n",
       "    }\n",
       "\n",
       "    .dataframe tbody tr th {\n",
       "        vertical-align: top;\n",
       "    }\n",
       "\n",
       "    .dataframe thead th {\n",
       "        text-align: right;\n",
       "    }\n",
       "</style>\n",
       "<table border=\"1\" class=\"dataframe\">\n",
       "  <thead>\n",
       "    <tr style=\"text-align: right;\">\n",
       "      <th></th>\n",
       "      <th>UFID</th>\n",
       "      <th>BJCD</th>\n",
       "      <th>NAME</th>\n",
       "      <th>DIVI</th>\n",
       "      <th>SCLS</th>\n",
       "      <th>FMTA</th>\n",
       "      <th>geometry</th>\n",
       "    </tr>\n",
       "  </thead>\n",
       "  <tbody>\n",
       "    <tr>\n",
       "      <th>0</th>\n",
       "      <td>ARB0100000000001E</td>\n",
       "      <td>5000000000</td>\n",
       "      <td>Á¦ÁÖÆ¯º°ÀÚÄ¡µµ</td>\n",
       "      <td>HJD004</td>\n",
       "      <td>None</td>\n",
       "      <td>None</td>\n",
       "      <td>MULTIPOLYGON (((126.77414 33.56657, 126.77414 ...</td>\n",
       "    </tr>\n",
       "    <tr>\n",
       "      <th>1</th>\n",
       "      <td>ARB0100000000002F</td>\n",
       "      <td>4800000000</td>\n",
       "      <td>°æ»ó³²µµ</td>\n",
       "      <td>HJD004</td>\n",
       "      <td>None</td>\n",
       "      <td>None</td>\n",
       "      <td>MULTIPOLYGON (((128.03946 34.99262, 128.03946 ...</td>\n",
       "    </tr>\n",
       "    <tr>\n",
       "      <th>2</th>\n",
       "      <td>ARB0100000000003G</td>\n",
       "      <td>4700000000</td>\n",
       "      <td>°æ»óºÏµµ</td>\n",
       "      <td>HJD004</td>\n",
       "      <td>None</td>\n",
       "      <td>None</td>\n",
       "      <td>MULTIPOLYGON (((129.34094 37.14464, 129.34099 ...</td>\n",
       "    </tr>\n",
       "    <tr>\n",
       "      <th>3</th>\n",
       "      <td>ARB0100000000004H</td>\n",
       "      <td>4600000000</td>\n",
       "      <td>Àü¶ó³²µµ</td>\n",
       "      <td>HJD004</td>\n",
       "      <td>None</td>\n",
       "      <td>None</td>\n",
       "      <td>MULTIPOLYGON (((126.39023 35.02427, 126.39024 ...</td>\n",
       "    </tr>\n",
       "    <tr>\n",
       "      <th>4</th>\n",
       "      <td>ARB0100000000005I</td>\n",
       "      <td>4500000000</td>\n",
       "      <td>Àü¶óºÏµµ</td>\n",
       "      <td>HJD004</td>\n",
       "      <td>None</td>\n",
       "      <td>None</td>\n",
       "      <td>MULTIPOLYGON (((126.98353 36.14769, 126.98359 ...</td>\n",
       "    </tr>\n",
       "  </tbody>\n",
       "</table>\n",
       "</div>"
      ],
      "text/plain": [
       "                UFID        BJCD            NAME    DIVI  SCLS  FMTA  \\\n",
       "0  ARB0100000000001E  5000000000  Á¦ÁÖÆ¯º°ÀÚÄ¡µµ  HJD004  None  None   \n",
       "1  ARB0100000000002F  4800000000        °æ»ó³²µµ  HJD004  None  None   \n",
       "2  ARB0100000000003G  4700000000        °æ»óºÏµµ  HJD004  None  None   \n",
       "3  ARB0100000000004H  4600000000        Àü¶ó³²µµ  HJD004  None  None   \n",
       "4  ARB0100000000005I  4500000000        Àü¶óºÏµµ  HJD004  None  None   \n",
       "\n",
       "                                            geometry  \n",
       "0  MULTIPOLYGON (((126.77414 33.56657, 126.77414 ...  \n",
       "1  MULTIPOLYGON (((128.03946 34.99262, 128.03946 ...  \n",
       "2  MULTIPOLYGON (((129.34094 37.14464, 129.34099 ...  \n",
       "3  MULTIPOLYGON (((126.39023 35.02427, 126.39024 ...  \n",
       "4  MULTIPOLYGON (((126.98353 36.14769, 126.98359 ...  "
      ]
     },
     "execution_count": 15,
     "metadata": {},
     "output_type": "execute_result"
    }
   ],
   "source": [
    "sido_gdf4326.head()"
   ]
  },
  {
   "cell_type": "markdown",
   "metadata": {},
   "source": [
    "---"
   ]
  },
  {
   "cell_type": "markdown",
   "metadata": {},
   "source": [
    "### 수고 많으셨습니다!!! "
   ]
  }
 ],
 "metadata": {
  "kernelspec": {
   "display_name": "Python 3 (ipykernel)",
   "language": "python",
   "name": "python3"
  },
  "language_info": {
   "codemirror_mode": {
    "name": "ipython",
    "version": 3
   },
   "file_extension": ".py",
   "mimetype": "text/x-python",
   "name": "python",
   "nbconvert_exporter": "python",
   "pygments_lexer": "ipython3",
   "version": "3.9.12"
  },
  "vscode": {
   "interpreter": {
    "hash": "9439e76d3940c1ac815f97f24470b9792871b1e2225ca73f019917e4b078dccd"
   }
  }
 },
 "nbformat": 4,
 "nbformat_minor": 2
}
